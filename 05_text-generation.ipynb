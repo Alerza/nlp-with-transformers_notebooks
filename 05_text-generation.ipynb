{
  "cells": [
    {
      "cell_type": "code",
      "execution_count": 1,
      "metadata": {
        "colab": {
          "base_uri": "https://localhost:8080/"
        },
        "id": "DVF0EWyjTL7j",
        "outputId": "bbe12e3b-34f6-43a2-9019-ff8f0540b159"
      },
      "outputs": [
        {
          "output_type": "stream",
          "name": "stdout",
          "text": [
            "Cloning into 'notebooks'...\n",
            "remote: Enumerating objects: 515, done.\u001b[K\n",
            "remote: Counting objects: 100% (162/162), done.\u001b[K\n",
            "remote: Compressing objects: 100% (39/39), done.\u001b[K\n",
            "remote: Total 515 (delta 139), reused 127 (delta 123), pack-reused 353\u001b[K\n",
            "Receiving objects: 100% (515/515), 28.61 MiB | 22.05 MiB/s, done.\n",
            "Resolving deltas: 100% (246/246), done.\n",
            "/content/notebooks\n",
            "⏳ Installing base requirements ...\n",
            "✅ Base requirements installed!\n",
            "⏳ Installing Git LFS ...\n",
            "✅ Git LFS installed!\n"
          ]
        }
      ],
      "source": [
        "# Uncomment and run this cell if you're on Colab or Kaggle\n",
        "!git clone https://github.com/nlp-with-transformers/notebooks.git\n",
        "%cd notebooks\n",
        "from install import *\n",
        "install_requirements()"
      ]
    },
    {
      "cell_type": "code",
      "execution_count": 2,
      "metadata": {
        "colab": {
          "base_uri": "https://localhost:8080/"
        },
        "id": "rUXISswTTL7n",
        "outputId": "5c35e1e3-0c7c-464c-f57f-41d04f192ebc"
      },
      "outputs": [
        {
          "output_type": "stream",
          "name": "stdout",
          "text": [
            "Using transformers v4.11.3\n",
            "Using datasets v1.16.1\n"
          ]
        }
      ],
      "source": [
        "# hide\n",
        "from utils import *\n",
        "setup_chapter()"
      ]
    },
    {
      "cell_type": "markdown",
      "metadata": {
        "id": "n5jU8etNTL7o"
      },
      "source": [
        "# Text Generation"
      ]
    },
    {
      "cell_type": "markdown",
      "metadata": {
        "id": "-a8cSCztTL7s"
      },
      "source": [
        "<img alt=\"LM Meta Learning\" width=\"800\" caption=\"During pretraining, language models are exposed to sequences of tasks that can be adapted during inference (courtesy of Tom B. Brown)\" src=\"https://github.com/Alerza/nlp-with-transformers_notebooks/blob/main/images/chapter05_lm-meta-learning.png?raw=1\" id=\"lm-meta-learning\"/>"
      ]
    },
    {
      "cell_type": "markdown",
      "metadata": {
        "id": "BWxZORAmTL7u"
      },
      "source": [
        "<img alt=\"Meena\" width=\"300\" caption=\"Meena on the left telling a corny joke to a human on the right (courtesy of Daniel Adiwardana and Thang Luong)\" src=\"https://github.com/Alerza/nlp-with-transformers_notebooks/blob/main/images/chapter05_meena.png?raw=1\" id=\"meena\"/>"
      ]
    },
    {
      "cell_type": "markdown",
      "metadata": {
        "id": "zxLPi2g4TL7w"
      },
      "source": [
        "## The Challenge with Generating Coherent Text"
      ]
    },
    {
      "cell_type": "markdown",
      "metadata": {
        "id": "zZHgJ9BtTL7w"
      },
      "source": [
        "<img alt=\"Text generation\" width=\"700\" caption=\"Generating text from an input sequence by adding a new word to the input at each step\" src=\"https://github.com/Alerza/nlp-with-transformers_notebooks/blob/main/images/chapter05_text-generation.png?raw=1\" id=\"text-generation\"/> "
      ]
    },
    {
      "cell_type": "markdown",
      "metadata": {
        "id": "kbjwpdalTL7x"
      },
      "source": [
        "## Greedy Search Decoding"
      ]
    },
    {
      "cell_type": "code",
      "execution_count": 3,
      "metadata": {
        "colab": {
          "base_uri": "https://localhost:8080/",
          "height": 177,
          "referenced_widgets": [
            "2a1a833063e94cb2965c692e4ac8e80b",
            "810a1775b9024df687743fc0794904b3",
            "facd780618cb48a2be9548ec458e98a3",
            "075b74e9ecf341a588db71df6a17628d",
            "a98778689323417bb3c61baa6e2118ab",
            "5c558422ec61445f869beb8bf796eb45",
            "93b50600bca54e538226dfe71538a0e9",
            "ea940eb615174c4980ca32423b428ce0",
            "5fa8ad4a6bb845d1822bda2e36985977",
            "44100ddd4c674914bd82dde19f1dfd42",
            "743bf136c9dc423784dd6043e7906787",
            "698a580141fa40d38188e03e9533652f",
            "a7cf50c849de4da0865b5589b65b7a0e",
            "cd28cd44156045dc89b95850a8a63ed3",
            "9ca35e33cdb74154816c7b20f724ff6f",
            "e57338d2c4c6418d8ea41bc6210ac97c",
            "7ce89d369ce04246a89452cd41eca2dc",
            "dab2fe3e3415414fb237140434cac82b",
            "76d025d538e34756a6a22d695f160e64",
            "2ff0ca17dd2c4e9c92f3a08c2252a38b",
            "db12524206b24540a839c6bf08d452ed",
            "b155f78d83c14998a0f34dbde9863b08",
            "bed6c42cc8c44ad29c194b57386f579b",
            "8660d671975043e1bc81b201c30d6738",
            "a24ab242ca5940fda374994b131779fa",
            "a40d1a98745f4be59eae19dba42869a2",
            "f54eb6bf26ac4a248ffa1199d3089142",
            "95a0665df1ab494c8b09098d0efa4af1",
            "2fb5cefa3c184820b66937aea73bdbb9",
            "0b23df34bd274eea9a6871147af1d536",
            "d5795fa29b004d84ae7aeeabedcced13",
            "dbbbb4481e2347bc9b65b522ed7fe1f3",
            "2360513c63c249e39f79bafbfca225a5",
            "064cdb11344a4836b2b4e37f41f71922",
            "7d5ea595d0ce4bbca6535bf7da74bb61",
            "cf96741fcb8a4ea095fb88e92c3567f6",
            "0388171168cc4850b7dd7617824d1f58",
            "a87aa2a74ee04beca846d20ae55ea6e4",
            "4d82d3cfd69c408385e2c68b4e77fcfa",
            "49cadc7309d1491682b6eda6b8e9b190",
            "2564d2fb09d44c1c8a1d78b2f69c57bd",
            "0d47ce5bea154aacbcccdc51dde1c90a",
            "10e10d2eaccd4498aee55a79e8d24269",
            "55af3b9378e3455dae8d328d54e4d6cd",
            "14a20bc91583415ab9867befa3bb1456",
            "e4582d08bce94de5a605edc48d615017",
            "0e76adf048c9451990546bdbfb54862c",
            "5559aece2c3b437d9b8c9969ab8e1b13",
            "dc79b79f21c0427c81359951791a1194",
            "6c8858cbdfcc4d83ad3d863800ea182e",
            "fefe80fb997b4c3cba2d12e4d7bacd20",
            "c51ac1af2e40425693e44c6c7181b903",
            "b458cd1c2242408faf5e49f22227b268",
            "a4b3c35179734f39bbed7a9a68eadf24",
            "713827b006b74b11b497be896ae4e98f"
          ]
        },
        "id": "EvufMz_nTL7z",
        "outputId": "c5b2dd71-d127-4cb8-cdcf-ea2a9867ae93"
      },
      "outputs": [
        {
          "output_type": "display_data",
          "data": {
            "text/plain": [
              "Downloading:   0%|          | 0.00/689 [00:00<?, ?B/s]"
            ],
            "application/vnd.jupyter.widget-view+json": {
              "version_major": 2,
              "version_minor": 0,
              "model_id": "2a1a833063e94cb2965c692e4ac8e80b"
            }
          },
          "metadata": {}
        },
        {
          "output_type": "display_data",
          "data": {
            "text/plain": [
              "Downloading:   0%|          | 0.00/0.99M [00:00<?, ?B/s]"
            ],
            "application/vnd.jupyter.widget-view+json": {
              "version_major": 2,
              "version_minor": 0,
              "model_id": "698a580141fa40d38188e03e9533652f"
            }
          },
          "metadata": {}
        },
        {
          "output_type": "display_data",
          "data": {
            "text/plain": [
              "Downloading:   0%|          | 0.00/446k [00:00<?, ?B/s]"
            ],
            "application/vnd.jupyter.widget-view+json": {
              "version_major": 2,
              "version_minor": 0,
              "model_id": "bed6c42cc8c44ad29c194b57386f579b"
            }
          },
          "metadata": {}
        },
        {
          "output_type": "display_data",
          "data": {
            "text/plain": [
              "Downloading:   0%|          | 0.00/1.29M [00:00<?, ?B/s]"
            ],
            "application/vnd.jupyter.widget-view+json": {
              "version_major": 2,
              "version_minor": 0,
              "model_id": "064cdb11344a4836b2b4e37f41f71922"
            }
          },
          "metadata": {}
        },
        {
          "output_type": "display_data",
          "data": {
            "text/plain": [
              "Downloading:   0%|          | 0.00/5.99G [00:00<?, ?B/s]"
            ],
            "application/vnd.jupyter.widget-view+json": {
              "version_major": 2,
              "version_minor": 0,
              "model_id": "14a20bc91583415ab9867befa3bb1456"
            }
          },
          "metadata": {}
        }
      ],
      "source": [
        "# hide_output\n",
        "import torch\n",
        "from transformers import AutoTokenizer, AutoModelForCausalLM\n",
        "\n",
        "device = \"cuda\" if torch.cuda.is_available() else \"cpu\"\n",
        "model_name = \"gpt2-xl\"\n",
        "tokenizer = AutoTokenizer.from_pretrained(model_name)\n",
        "model = AutoModelForCausalLM.from_pretrained(model_name).to(device)"
      ]
    },
    {
      "cell_type": "code",
      "execution_count": 25,
      "metadata": {
        "colab": {
          "base_uri": "https://localhost:8080/",
          "height": 1000
        },
        "id": "ypWhdwGTTL70",
        "outputId": "6eb76057-dab0-4217-cd47-355cdd0c05a9"
      },
      "outputs": [
        {
          "output_type": "stream",
          "name": "stdout",
          "text": [
            "input_ids = tensor([[41762,   364,   389,   262]], device='cuda:0')\n",
            "iteration[\"Input\"] = Transformers are the\n",
            "output.logits.shape=(batch_size,sequence? ,size of the vocabulary)\n",
            "torch.Size([1, 4, 50257])\n",
            "next_token_logits.shape = torch.Size([50257])\n",
            "next_token_probs.shape = torch.Size([50257])\n",
            "sorted_ids[0:10] = tensor([  749,   691,  1266, 39185,  8713,  2818,   717,\n",
            "4094,   938,  6000],\n",
            "       device='cuda:0')\n",
            "iteration[\"Input\"] = Transformers are the most\n",
            "output.logits.shape=(batch_size,sequence? ,size of the vocabulary)\n",
            "torch.Size([1, 5, 50257])\n",
            "next_token_logits.shape = torch.Size([50257])\n",
            "next_token_probs.shape = torch.Size([50257])\n",
            "sorted_ids[0:10] = tensor([ 2968,  3665,  2219,  5863,  4388,  4923,  1593,\n",
            "14133,  1884,   880],\n",
            "       device='cuda:0')\n",
            "iteration[\"Input\"] = Transformers are the most popular\n",
            "output.logits.shape=(batch_size,sequence? ,size of the vocabulary)\n",
            "torch.Size([1, 6, 50257])\n",
            "next_token_logits.shape = torch.Size([50257])\n",
            "next_token_probs.shape = torch.Size([50257])\n",
            "sorted_ids[0:10] = tensor([13373, 14958, 39185,   286,   290,  9379,    11,\n",
            "14193, 16251,  7505],\n",
            "       device='cuda:0')\n",
            "iteration[\"Input\"] = Transformers are the most popular toy\n",
            "output.logits.shape=(batch_size,sequence? ,size of the vocabulary)\n",
            "torch.Size([1, 7, 50257])\n",
            "next_token_logits.shape = torch.Size([50257])\n",
            "next_token_probs.shape = torch.Size([50257])\n",
            "sorted_ids[0:10] = tensor([1627,  287,  286, 4508, 1370, 3951,  319,   12, 2168,\n",
            "8663],\n",
            "       device='cuda:0')\n",
            "iteration[\"Input\"] = Transformers are the most popular toy line\n",
            "output.logits.shape=(batch_size,sequence? ,size of the vocabulary)\n",
            "torch.Size([1, 8, 50257])\n",
            "next_token_logits.shape = torch.Size([50257])\n",
            "next_token_probs.shape = torch.Size([50257])\n",
            "sorted_ids[0:10] = tensor([ 287,  286,   11,  319, 1683,  329,   13,  284, 1871,\n",
            "422],\n",
            "       device='cuda:0')\n",
            "iteration[\"Input\"] = Transformers are the most popular toy line in\n",
            "output.logits.shape=(batch_size,sequence? ,size of the vocabulary)\n",
            "torch.Size([1, 9, 50257])\n",
            "next_token_logits.shape = torch.Size([50257])\n",
            "next_token_probs.shape = torch.Size([50257])\n",
            "sorted_ids[0:10] = tensor([ 262, 2106, 2253, 2869, 2258,  477, 2807, 2031,  674,\n",
            "6224],\n",
            "       device='cuda:0')\n",
            "iteration[\"Input\"] = Transformers are the most popular toy line in the\n",
            "output.logits.shape=(batch_size,sequence? ,size of the vocabulary)\n",
            "torch.Size([1, 10, 50257])\n",
            "next_token_logits.shape = torch.Size([50257])\n",
            "next_token_probs.shape = torch.Size([50257])\n",
            "sorted_ids[0:10] = tensor([  995,  1578,  2106,  1294,   471,  6881,  1499,\n",
            "3482,  2104, 13373],\n",
            "       device='cuda:0')\n",
            "iteration[\"Input\"] = Transformers are the most popular toy line in the world\n",
            "output.logits.shape=(batch_size,sequence? ,size of the vocabulary)\n",
            "torch.Size([1, 11, 50257])\n",
            "next_token_logits.shape = torch.Size([50257])\n",
            "next_token_probs.shape = torch.Size([50257])\n",
            "sorted_ids[0:10] = tensor([  11,   13,  290,  351, 1909,  826,  357,    0,   26,\n",
            "329],\n",
            "       device='cuda:0')\n"
          ]
        },
        {
          "output_type": "execute_result",
          "data": {
            "text/plain": [
              "                                               Input           Choice 1  \\\n",
              "0                               Transformers are the       most (8.53%)   \n",
              "1                          Transformers are the most   popular (16.78%)   \n",
              "2                  Transformers are the most popular       toy (10.63%)   \n",
              "3              Transformers are the most popular toy      line (34.38%)   \n",
              "4         Transformers are the most popular toy line        in (46.28%)   \n",
              "5      Transformers are the most popular toy line in       the (65.99%)   \n",
              "6  Transformers are the most popular toy line in the     world (69.26%)   \n",
              "7  Transformers are the most popular toy line in ...         , (39.73%)   \n",
              "\n",
              "            Choice 2               Choice 3               Choice 4  \\\n",
              "0       only (4.96%)           best (4.65%)   Transformers (4.37%)   \n",
              "1   powerful (5.37%)         common (4.96%)         famous (3.72%)   \n",
              "2       toys (7.23%)   Transformers (6.60%)             of (5.46%)   \n",
              "3        in (18.20%)            of (11.71%)          brand (6.10%)   \n",
              "4        of (15.09%)              , (4.94%)             on (4.40%)   \n",
              "5   history (12.42%)        America (6.91%)          Japan (2.44%)   \n",
              "6     United (4.55%)        history (4.29%)             US (4.23%)   \n",
              "7         . (30.64%)            and (9.87%)           with (2.32%)   \n",
              "\n",
              "              Choice 5  \n",
              "0     ultimate (2.16%)  \n",
              "1   successful (3.20%)  \n",
              "2          and (3.76%)  \n",
              "3         line (2.69%)  \n",
              "4         ever (2.72%)  \n",
              "5        North (1.40%)  \n",
              "6            U (2.30%)  \n",
              "7        today (1.74%)  "
            ],
            "text/html": [
              "\n",
              "  <div id=\"df-65dfe01b-51d9-4acc-b7db-4ba003286dc6\">\n",
              "    <div class=\"colab-df-container\">\n",
              "      <div>\n",
              "<style scoped>\n",
              "    .dataframe tbody tr th:only-of-type {\n",
              "        vertical-align: middle;\n",
              "    }\n",
              "\n",
              "    .dataframe tbody tr th {\n",
              "        vertical-align: top;\n",
              "    }\n",
              "\n",
              "    .dataframe thead th {\n",
              "        text-align: right;\n",
              "    }\n",
              "</style>\n",
              "<table border=\"1\" class=\"dataframe\">\n",
              "  <thead>\n",
              "    <tr style=\"text-align: right;\">\n",
              "      <th></th>\n",
              "      <th>Input</th>\n",
              "      <th>Choice 1</th>\n",
              "      <th>Choice 2</th>\n",
              "      <th>Choice 3</th>\n",
              "      <th>Choice 4</th>\n",
              "      <th>Choice 5</th>\n",
              "    </tr>\n",
              "  </thead>\n",
              "  <tbody>\n",
              "    <tr>\n",
              "      <th>0</th>\n",
              "      <td>Transformers are the</td>\n",
              "      <td>most (8.53%)</td>\n",
              "      <td>only (4.96%)</td>\n",
              "      <td>best (4.65%)</td>\n",
              "      <td>Transformers (4.37%)</td>\n",
              "      <td>ultimate (2.16%)</td>\n",
              "    </tr>\n",
              "    <tr>\n",
              "      <th>1</th>\n",
              "      <td>Transformers are the most</td>\n",
              "      <td>popular (16.78%)</td>\n",
              "      <td>powerful (5.37%)</td>\n",
              "      <td>common (4.96%)</td>\n",
              "      <td>famous (3.72%)</td>\n",
              "      <td>successful (3.20%)</td>\n",
              "    </tr>\n",
              "    <tr>\n",
              "      <th>2</th>\n",
              "      <td>Transformers are the most popular</td>\n",
              "      <td>toy (10.63%)</td>\n",
              "      <td>toys (7.23%)</td>\n",
              "      <td>Transformers (6.60%)</td>\n",
              "      <td>of (5.46%)</td>\n",
              "      <td>and (3.76%)</td>\n",
              "    </tr>\n",
              "    <tr>\n",
              "      <th>3</th>\n",
              "      <td>Transformers are the most popular toy</td>\n",
              "      <td>line (34.38%)</td>\n",
              "      <td>in (18.20%)</td>\n",
              "      <td>of (11.71%)</td>\n",
              "      <td>brand (6.10%)</td>\n",
              "      <td>line (2.69%)</td>\n",
              "    </tr>\n",
              "    <tr>\n",
              "      <th>4</th>\n",
              "      <td>Transformers are the most popular toy line</td>\n",
              "      <td>in (46.28%)</td>\n",
              "      <td>of (15.09%)</td>\n",
              "      <td>, (4.94%)</td>\n",
              "      <td>on (4.40%)</td>\n",
              "      <td>ever (2.72%)</td>\n",
              "    </tr>\n",
              "    <tr>\n",
              "      <th>5</th>\n",
              "      <td>Transformers are the most popular toy line in</td>\n",
              "      <td>the (65.99%)</td>\n",
              "      <td>history (12.42%)</td>\n",
              "      <td>America (6.91%)</td>\n",
              "      <td>Japan (2.44%)</td>\n",
              "      <td>North (1.40%)</td>\n",
              "    </tr>\n",
              "    <tr>\n",
              "      <th>6</th>\n",
              "      <td>Transformers are the most popular toy line in the</td>\n",
              "      <td>world (69.26%)</td>\n",
              "      <td>United (4.55%)</td>\n",
              "      <td>history (4.29%)</td>\n",
              "      <td>US (4.23%)</td>\n",
              "      <td>U (2.30%)</td>\n",
              "    </tr>\n",
              "    <tr>\n",
              "      <th>7</th>\n",
              "      <td>Transformers are the most popular toy line in ...</td>\n",
              "      <td>, (39.73%)</td>\n",
              "      <td>. (30.64%)</td>\n",
              "      <td>and (9.87%)</td>\n",
              "      <td>with (2.32%)</td>\n",
              "      <td>today (1.74%)</td>\n",
              "    </tr>\n",
              "  </tbody>\n",
              "</table>\n",
              "</div>\n",
              "      <button class=\"colab-df-convert\" onclick=\"convertToInteractive('df-65dfe01b-51d9-4acc-b7db-4ba003286dc6')\"\n",
              "              title=\"Convert this dataframe to an interactive table.\"\n",
              "              style=\"display:none;\">\n",
              "        \n",
              "  <svg xmlns=\"http://www.w3.org/2000/svg\" height=\"24px\"viewBox=\"0 0 24 24\"\n",
              "       width=\"24px\">\n",
              "    <path d=\"M0 0h24v24H0V0z\" fill=\"none\"/>\n",
              "    <path d=\"M18.56 5.44l.94 2.06.94-2.06 2.06-.94-2.06-.94-.94-2.06-.94 2.06-2.06.94zm-11 1L8.5 8.5l.94-2.06 2.06-.94-2.06-.94L8.5 2.5l-.94 2.06-2.06.94zm10 10l.94 2.06.94-2.06 2.06-.94-2.06-.94-.94-2.06-.94 2.06-2.06.94z\"/><path d=\"M17.41 7.96l-1.37-1.37c-.4-.4-.92-.59-1.43-.59-.52 0-1.04.2-1.43.59L10.3 9.45l-7.72 7.72c-.78.78-.78 2.05 0 2.83L4 21.41c.39.39.9.59 1.41.59.51 0 1.02-.2 1.41-.59l7.78-7.78 2.81-2.81c.8-.78.8-2.07 0-2.86zM5.41 20L4 18.59l7.72-7.72 1.47 1.35L5.41 20z\"/>\n",
              "  </svg>\n",
              "      </button>\n",
              "      \n",
              "  <style>\n",
              "    .colab-df-container {\n",
              "      display:flex;\n",
              "      flex-wrap:wrap;\n",
              "      gap: 12px;\n",
              "    }\n",
              "\n",
              "    .colab-df-convert {\n",
              "      background-color: #E8F0FE;\n",
              "      border: none;\n",
              "      border-radius: 50%;\n",
              "      cursor: pointer;\n",
              "      display: none;\n",
              "      fill: #1967D2;\n",
              "      height: 32px;\n",
              "      padding: 0 0 0 0;\n",
              "      width: 32px;\n",
              "    }\n",
              "\n",
              "    .colab-df-convert:hover {\n",
              "      background-color: #E2EBFA;\n",
              "      box-shadow: 0px 1px 2px rgba(60, 64, 67, 0.3), 0px 1px 3px 1px rgba(60, 64, 67, 0.15);\n",
              "      fill: #174EA6;\n",
              "    }\n",
              "\n",
              "    [theme=dark] .colab-df-convert {\n",
              "      background-color: #3B4455;\n",
              "      fill: #D2E3FC;\n",
              "    }\n",
              "\n",
              "    [theme=dark] .colab-df-convert:hover {\n",
              "      background-color: #434B5C;\n",
              "      box-shadow: 0px 1px 3px 1px rgba(0, 0, 0, 0.15);\n",
              "      filter: drop-shadow(0px 1px 2px rgba(0, 0, 0, 0.3));\n",
              "      fill: #FFFFFF;\n",
              "    }\n",
              "  </style>\n",
              "\n",
              "      <script>\n",
              "        const buttonEl =\n",
              "          document.querySelector('#df-65dfe01b-51d9-4acc-b7db-4ba003286dc6 button.colab-df-convert');\n",
              "        buttonEl.style.display =\n",
              "          google.colab.kernel.accessAllowed ? 'block' : 'none';\n",
              "\n",
              "        async function convertToInteractive(key) {\n",
              "          const element = document.querySelector('#df-65dfe01b-51d9-4acc-b7db-4ba003286dc6');\n",
              "          const dataTable =\n",
              "            await google.colab.kernel.invokeFunction('convertToInteractive',\n",
              "                                                     [key], {});\n",
              "          if (!dataTable) return;\n",
              "\n",
              "          const docLinkHtml = 'Like what you see? Visit the ' +\n",
              "            '<a target=\"_blank\" href=https://colab.research.google.com/notebooks/data_table.ipynb>data table notebook</a>'\n",
              "            + ' to learn more about interactive tables.';\n",
              "          element.innerHTML = '';\n",
              "          dataTable['output_type'] = 'display_data';\n",
              "          await google.colab.output.renderOutput(dataTable, element);\n",
              "          const docLink = document.createElement('div');\n",
              "          docLink.innerHTML = docLinkHtml;\n",
              "          element.appendChild(docLink);\n",
              "        }\n",
              "      </script>\n",
              "    </div>\n",
              "  </div>\n",
              "  "
            ]
          },
          "metadata": {},
          "execution_count": 25
        }
      ],
      "source": [
        "# hide_output\n",
        "import pandas as pd\n",
        "\n",
        "input_txt = \"Transformers are the\"\n",
        "input_ids = tokenizer(input_txt, return_tensors=\"pt\")[\"input_ids\"].to(device)\n",
        "iterations = []\n",
        "n_steps = 8\n",
        "#number of top choice for next word\n",
        "choices_per_step = 5\n",
        "\n",
        "print('input_ids = '+ str(input_ids))\n",
        "\n",
        "with torch.no_grad():\n",
        "    for _ in range(n_steps):\n",
        "        iteration = dict()\n",
        "        iteration[\"Input\"] = tokenizer.decode(input_ids[0])\n",
        "        print('iteration[\"Input\"] = '+iteration[\"Input\"])\n",
        "        output = model(input_ids=input_ids)\n",
        "        # Select logits of the first batch and the last token and apply softmax\n",
        "        print('output.logits.shape=(batch_size,sequence? ,size of the vocabulary) '+str(output.logits.shape))\n",
        "        next_token_logits = output.logits[0, -1, :]\n",
        "        print('next_token_logits.shape = '+str(next_token_logits.shape))\n",
        "        next_token_probs = torch.softmax(next_token_logits, dim=-1)\n",
        "        print('next_token_probs.shape = '+str(next_token_probs.shape))\n",
        "        sorted_ids = torch.argsort(next_token_probs, dim=-1, descending=True)\n",
        "        print('sorted_ids[0:10] = '+str(sorted_ids[:10]))\n",
        "        # Store tokens with highest probabilities\n",
        "        for choice_idx in range(choices_per_step):\n",
        "            token_id = sorted_ids[choice_idx]\n",
        "            token_prob = next_token_probs[token_id].cpu().numpy()\n",
        "            token_choice = (\n",
        "                f\"{tokenizer.decode(token_id)} ({100 * token_prob:.2f}%)\"\n",
        "            )\n",
        "            iteration[f\"Choice {choice_idx+1}\"] = token_choice\n",
        "        # Append predicted next token to input\n",
        "        input_ids = torch.cat([input_ids, sorted_ids[None, 0, None]], dim=-1)\n",
        "        iterations.append(iteration)\n",
        "        \n",
        "pd.DataFrame(iterations)"
      ]
    },
    {
      "cell_type": "code",
      "execution_count": null,
      "metadata": {
        "id": "T91Yity6TL71",
        "outputId": "c18e87ff-2240-4b35-ec36-5d604d2a8d5a"
      },
      "outputs": [
        {
          "name": "stdout",
          "output_type": "stream",
          "text": [
            "Transformers are the most popular toy line in the world,\n"
          ]
        }
      ],
      "source": [
        "input_ids = tokenizer(input_txt, return_tensors=\"pt\")[\"input_ids\"].to(device)\n",
        "output = model.generate(input_ids, max_new_tokens=n_steps, do_sample=False)\n",
        "print(tokenizer.decode(output[0]))"
      ]
    },
    {
      "cell_type": "code",
      "execution_count": 26,
      "metadata": {
        "colab": {
          "base_uri": "https://localhost:8080/"
        },
        "id": "xm7DxSvtTL72",
        "outputId": "36cd6ff1-344e-43b0-8cb5-11b4224ed612"
      },
      "outputs": [
        {
          "output_type": "stream",
          "name": "stdout",
          "text": [
            "In a shocking finding, scientist discovered a herd of unicorns living in a\n",
            "remote, previously unexplored valley, in the Andes Mountains. Even more\n",
            "surprising to the researchers was the fact that the unicorns spoke perfect\n",
            "English.\n",
            "\n",
            "\n",
            "The researchers, from the University of California, Davis, and the University of\n",
            "Colorado, Boulder, were conducting a study on the Andean cloud forest, which is\n",
            "home to the rare species of cloud forest trees.\n",
            "\n",
            "\n",
            "The researchers were surprised to find that the unicorns were able to\n",
            "communicate with each other, and even with humans.\n",
            "\n",
            "\n",
            "The researchers were surprised to find that the unicorns were able\n"
          ]
        }
      ],
      "source": [
        "max_length = 128\n",
        "input_txt = \"\"\"In a shocking finding, scientist discovered \\\n",
        "a herd of unicorns living in a remote, previously unexplored \\\n",
        "valley, in the Andes Mountains. Even more surprising to the \\\n",
        "researchers was the fact that the unicorns spoke perfect English.\\n\\n\n",
        "\"\"\"\n",
        "input_ids = tokenizer(input_txt, return_tensors=\"pt\")[\"input_ids\"].to(device)\n",
        "output_greedy = model.generate(input_ids, max_length=max_length, \n",
        "                               do_sample=False)\n",
        "print(tokenizer.decode(output_greedy[0]))"
      ]
    },
    {
      "cell_type": "markdown",
      "metadata": {
        "id": "OVEiPg7sTL73"
      },
      "source": [
        "## Beam Search Decoding"
      ]
    },
    {
      "cell_type": "markdown",
      "metadata": {
        "id": "-77rNux8TL73"
      },
      "source": [
        "<img alt=\"Beam search\" width=\"700\" caption=\"Beam search with two beams—the most probable sequences at each timestep are highlighted in blue\" src=\"https://github.com/Alerza/nlp-with-transformers_notebooks/blob/main/images/chapter05_beam-search.png?raw=1\" id=\"beam-search\"/> "
      ]
    },
    {
      "cell_type": "code",
      "execution_count": null,
      "metadata": {
        "id": "MGUESbBITL74",
        "outputId": "dc3c7706-e1d4-4e23-c09c-51a539d9b371"
      },
      "outputs": [
        {
          "data": {
            "text/plain": [
              "5.562684646268003e-309"
            ]
          },
          "execution_count": null,
          "metadata": {},
          "output_type": "execute_result"
        }
      ],
      "source": [
        "0.5 ** 1024"
      ]
    },
    {
      "cell_type": "code",
      "execution_count": 27,
      "metadata": {
        "colab": {
          "base_uri": "https://localhost:8080/"
        },
        "id": "F6Zkal13TL74",
        "outputId": "cc6554ff-08ef-4790-c878-48afaf20a898"
      },
      "outputs": [
        {
          "output_type": "execute_result",
          "data": {
            "text/plain": [
              "-709.7827128933695"
            ]
          },
          "metadata": {},
          "execution_count": 27
        }
      ],
      "source": [
        "import numpy as np\n",
        "\n",
        "sum([np.log(0.5)] * 1024)"
      ]
    },
    {
      "cell_type": "markdown",
      "source": [
        "محاسبه احتمال لاگ برای جملات ساخته شده در روشهای مختلف"
      ],
      "metadata": {
        "id": "WWZUhBzO2_xL"
      }
    },
    {
      "cell_type": "markdown",
      "source": [
        "Since  Transformers models return the unnormalized logits for the next token given the input tokens, we first need to normalize the logits to create a probability distribution over the whole vocabulary for each token in the sequence. We then need to select only the token probabilities that were present in the sequence"
      ],
      "metadata": {
        "id": "XeaUZvqbx_v5"
      }
    },
    {
      "cell_type": "code",
      "execution_count": 48,
      "metadata": {
        "id": "PMnZ2PE3TL75"
      },
      "outputs": [],
      "source": [
        "import torch.nn.functional as F\n",
        "\n",
        "#claculate softmax and then log of logits and select item base of label\n",
        "#ابتدا لاگ سافت مکس را برای لاجیت محاسبه میکند و کل احتمال لاگ را برای کل وکب به دست میآورد سپس مقدار آن را برای کلمه ای که در متن وجود دارد برمیدارد\n",
        "def log_probs_from_logits(logits, labels):\n",
        "    logp = F.log_softmax(logits, dim=-1)\n",
        "    logp_label = torch.gather(logp, 2, labels.unsqueeze(2)).squeeze(-1)\n",
        "    return logp_label"
      ]
    },
    {
      "cell_type": "markdown",
      "source": [
        "to get the total log probability of a sequence we just need to sum the log probabilities for each token"
      ],
      "metadata": {
        "id": "hsNi66hRyq7M"
      }
    },
    {
      "cell_type": "code",
      "execution_count": 49,
      "metadata": {
        "id": "rRtbJojMTL75"
      },
      "outputs": [],
      "source": [
        "#محاسبه برای کل جمله\n",
        "def sequence_logprob(model, labels, input_len=0):\n",
        "    with torch.no_grad():\n",
        "        output = model(labels)\n",
        "        log_probs = log_probs_from_logits(\n",
        "            output.logits[:, :-1, :], labels[:, 1:])\n",
        "        seq_log_prob = torch.sum(log_probs[:, input_len:])\n",
        "    return seq_log_prob.cpu().numpy()"
      ]
    },
    {
      "cell_type": "markdown",
      "source": [
        "calculate the sequence log probability of the greedy decoder on the OpenAI prompt"
      ],
      "metadata": {
        "id": "wCF9rewOzux8"
      }
    },
    {
      "cell_type": "code",
      "execution_count": null,
      "metadata": {
        "id": "dz3E5SWLTL75",
        "outputId": "353533f7-9397-46f3-b166-ba8c98ecf0d7"
      },
      "outputs": [
        {
          "name": "stdout",
          "output_type": "stream",
          "text": [
            "In a shocking finding, scientist discovered a herd of unicorns living in a\n",
            "remote, previously unexplored valley, in the Andes Mountains. Even more\n",
            "surprising to the researchers was the fact that the unicorns spoke perfect\n",
            "English.\n",
            "\n",
            "\n",
            "The researchers, from the University of California, Davis, and the University of\n",
            "Colorado, Boulder, were conducting a study on the Andean cloud forest, which is\n",
            "home to the rare species of cloud forest trees.\n",
            "\n",
            "\n",
            "The researchers were surprised to find that the unicorns were able to\n",
            "communicate with each other, and even with humans.\n",
            "\n",
            "\n",
            "The researchers were surprised to find that the unicorns were able\n",
            "\n",
            "log-prob: -87.43\n"
          ]
        }
      ],
      "source": [
        "logp = sequence_logprob(model, output_greedy, input_len=len(input_ids[0]))\n",
        "print(tokenizer.decode(output_greedy[0]))\n",
        "print(f\"\\nlog-prob: {logp:.2f}\")"
      ]
    },
    {
      "cell_type": "markdown",
      "source": [
        "To activate beam search with the generate() function we just need to specify the number of beams with the num_beams parameter. "
      ],
      "metadata": {
        "id": "QidSb7hvzlyt"
      }
    },
    {
      "cell_type": "code",
      "execution_count": null,
      "metadata": {
        "id": "h3WLVR6aTL76",
        "outputId": "b7e9e268-93e2-4b56-f62a-eceed9d50695"
      },
      "outputs": [
        {
          "name": "stdout",
          "output_type": "stream",
          "text": [
            "In a shocking finding, scientist discovered a herd of unicorns living in a\n",
            "remote, previously unexplored valley, in the Andes Mountains. Even more\n",
            "surprising to the researchers was the fact that the unicorns spoke perfect\n",
            "English.\n",
            "\n",
            "\n",
            "The discovery of the unicorns was made by a team of scientists from the\n",
            "University of California, Santa Cruz, and the National Geographic Society.\n",
            "\n",
            "\n",
            "The scientists were conducting a study of the Andes Mountains when they\n",
            "discovered a herd of unicorns living in a remote, previously unexplored valley,\n",
            "in the Andes Mountains. Even more surprising to the researchers was the fact\n",
            "that the unicorns spoke perfect English\n",
            "\n",
            "log-prob: -55.23\n"
          ]
        }
      ],
      "source": [
        "output_beam = model.generate(input_ids, max_length=max_length, num_beams=5, \n",
        "                             do_sample=False)\n",
        "logp = sequence_logprob(model, output_beam, input_len=len(input_ids[0]))\n",
        "print(tokenizer.decode(output_beam[0]))\n",
        "print(f\"\\nlog-prob: {logp:.2f}\")"
      ]
    },
    {
      "cell_type": "markdown",
      "source": [
        " we get a better log probability (higher is better) with beam search than we did with simple greedy decoding."
      ],
      "metadata": {
        "id": "fkVNKdJk1v7J"
      }
    },
    {
      "cell_type": "markdown",
      "source": [
        "‏می‌توانیم ببینیم که با جستجوی پرتو، احتمال-لاگ بهتری (بیشتر بهتر) نسبت به رمزگشایی ساده حریصانه به دست می‌آوریم. با این حال، می‌توانیم ببینیم که جستجوی پرتو نیز از متن تکراری رنج می‌برد. یکی از راه‌های رفع این مشکل، اعمال یک جریمه n-گرمی با پارامتر no_repeat_ngram_size است که n-گرم دیده شده را ردیابی می‌کند و اگر یک n-گرم قبلاً دیده شده را تولید کند، احتمال توکن بعدی را صفر می‌کند:"
      ],
      "metadata": {
        "id": "MGoqv8Ql16uj"
      }
    },
    {
      "cell_type": "code",
      "execution_count": 51,
      "metadata": {
        "colab": {
          "base_uri": "https://localhost:8080/"
        },
        "id": "vjgZDm-iTL76",
        "outputId": "163ab28b-9fd1-4e0c-fee6-4b5bccdaf97f"
      },
      "outputs": [
        {
          "output_type": "stream",
          "name": "stdout",
          "text": [
            "In a shocking finding, scientist discovered a herd of unicorns living in a\n",
            "remote, previously unexplored valley, in the Andes Mountains. Even more\n",
            "surprising to the researchers was the fact that the unicorns spoke perfect\n",
            "English.\n",
            "\n",
            "\n",
            "The discovery of the unicorns was made by a team of scientists from the\n",
            "University of California, Santa Cruz, and the National Geographic Society.\n",
            "\n",
            "\n",
            "The scientists were conducting a study of the Andes Mountains when they came\n",
            "across the herd of unicorns.\n",
            "\n",
            "\n",
            "The researchers were surprised to find that the unicorns were able to\n",
            "communicate with each other in English.\n",
            "\n",
            "\n",
            "According to the researchers, the\n",
            "\n",
            "log-prob: -77.71\n"
          ]
        }
      ],
      "source": [
        "output_beam = model.generate(input_ids, max_length=max_length, num_beams=5, \n",
        "                             do_sample=False, no_repeat_ngram_size=5)\n",
        "logp = sequence_logprob(model, output_beam, input_len=len(input_ids[0]))\n",
        "print(tokenizer.decode(output_beam[0]))\n",
        "print(f\"\\nlog-prob: {logp:.2f}\")"
      ]
    },
    {
      "cell_type": "markdown",
      "metadata": {
        "id": "25To8eAATL77"
      },
      "source": [
        "## Sampling Methods"
      ]
    },
    {
      "cell_type": "code",
      "execution_count": 52,
      "metadata": {
        "colab": {
          "base_uri": "https://localhost:8080/",
          "height": 376
        },
        "id": "ZZm5w6CeTL78",
        "outputId": "1d83117c-bab1-48fd-f791-ed725147f446"
      },
      "outputs": [
        {
          "output_type": "display_data",
          "data": {
            "text/plain": [
              "<Figure size 432x288 with 1 Axes>"
            ],
            "image/svg+xml": "<?xml version=\"1.0\" encoding=\"utf-8\" standalone=\"no\"?>\n<!DOCTYPE svg PUBLIC \"-//W3C//DTD SVG 1.1//EN\"\n  \"http://www.w3.org/Graphics/SVG/1.1/DTD/svg11.dtd\">\n<svg xmlns:xlink=\"http://www.w3.org/1999/xlink\" width=\"406.523986pt\" height=\"266.0675pt\" viewBox=\"0 0 406.523986 266.0675\" xmlns=\"http://www.w3.org/2000/svg\" version=\"1.1\">\n <metadata>\n  <rdf:RDF xmlns:dc=\"http://purl.org/dc/elements/1.1/\" xmlns:cc=\"http://creativecommons.org/ns#\" xmlns:rdf=\"http://www.w3.org/1999/02/22-rdf-syntax-ns#\">\n   <cc:Work>\n    <dc:type rdf:resource=\"http://purl.org/dc/dcmitype/StillImage\"/>\n    <dc:date>2023-03-23T20:13:47.679742</dc:date>\n    <dc:format>image/svg+xml</dc:format>\n    <dc:creator>\n     <cc:Agent>\n      <dc:title>Matplotlib v3.7.1, https://matplotlib.org/</dc:title>\n     </cc:Agent>\n    </dc:creator>\n   </cc:Work>\n  </rdf:RDF>\n </metadata>\n <defs>\n  <style type=\"text/css\">*{stroke-linejoin: round; stroke-linecap: butt}</style>\n </defs>\n <g id=\"figure_1\">\n  <g id=\"patch_1\">\n   <path d=\"M 0 266.0675 \nL 406.523986 266.0675 \nL 406.523986 0 \nL 0 0 \nL 0 266.0675 \nz\n\" style=\"fill: none\"/>\n  </g>\n  <g id=\"axes_1\">\n   <g id=\"patch_2\">\n    <path d=\"M 64.1675 224.64 \nL 398.9675 224.64 \nL 398.9675 7.2 \nL 64.1675 7.2 \nz\n\" style=\"fill: #ffffff\"/>\n   </g>\n   <g id=\"matplotlib.axis_1\">\n    <g id=\"xtick_1\">\n     <g id=\"line2d_1\">\n      <defs>\n       <path id=\"m771880ed1c\" d=\"M 0 0 \nL 0 3.5 \n\" style=\"stroke: #000000; stroke-width: 0.8\"/>\n      </defs>\n      <g>\n       <use xlink:href=\"#m771880ed1c\" x=\"79.385682\" y=\"224.64\" style=\"stroke: #000000; stroke-width: 0.8\"/>\n      </g>\n     </g>\n     <g id=\"text_1\">\n      <!-- 0 -->\n      <g transform=\"translate(75.568182 240.758125) scale(0.12 -0.12)\">\n       <defs>\n        <path id=\"DejaVuSans-30\" d=\"M 2034 4250 \nQ 1547 4250 1301 3770 \nQ 1056 3291 1056 2328 \nQ 1056 1369 1301 889 \nQ 1547 409 2034 409 \nQ 2525 409 2770 889 \nQ 3016 1369 3016 2328 \nQ 3016 3291 2770 3770 \nQ 2525 4250 2034 4250 \nz\nM 2034 4750 \nQ 2819 4750 3233 4129 \nQ 3647 3509 3647 2328 \nQ 3647 1150 3233 529 \nQ 2819 -91 2034 -91 \nQ 1250 -91 836 529 \nQ 422 1150 422 2328 \nQ 422 3509 836 4129 \nQ 1250 4750 2034 4750 \nz\n\" transform=\"scale(0.015625)\"/>\n       </defs>\n       <use xlink:href=\"#DejaVuSans-30\"/>\n      </g>\n     </g>\n    </g>\n    <g id=\"xtick_2\">\n     <g id=\"line2d_2\">\n      <g>\n       <use xlink:href=\"#m771880ed1c\" x=\"140.319343\" y=\"224.64\" style=\"stroke: #000000; stroke-width: 0.8\"/>\n      </g>\n     </g>\n     <g id=\"text_2\">\n      <!-- 200 -->\n      <g transform=\"translate(128.866843 240.758125) scale(0.12 -0.12)\">\n       <defs>\n        <path id=\"DejaVuSans-32\" d=\"M 1228 531 \nL 3431 531 \nL 3431 0 \nL 469 0 \nL 469 531 \nQ 828 903 1448 1529 \nQ 2069 2156 2228 2338 \nQ 2531 2678 2651 2914 \nQ 2772 3150 2772 3378 \nQ 2772 3750 2511 3984 \nQ 2250 4219 1831 4219 \nQ 1534 4219 1204 4116 \nQ 875 4013 500 3803 \nL 500 4441 \nQ 881 4594 1212 4672 \nQ 1544 4750 1819 4750 \nQ 2544 4750 2975 4387 \nQ 3406 4025 3406 3419 \nQ 3406 3131 3298 2873 \nQ 3191 2616 2906 2266 \nQ 2828 2175 2409 1742 \nQ 1991 1309 1228 531 \nz\n\" transform=\"scale(0.015625)\"/>\n       </defs>\n       <use xlink:href=\"#DejaVuSans-32\"/>\n       <use xlink:href=\"#DejaVuSans-30\" x=\"63.623047\"/>\n       <use xlink:href=\"#DejaVuSans-30\" x=\"127.246094\"/>\n      </g>\n     </g>\n    </g>\n    <g id=\"xtick_3\">\n     <g id=\"line2d_3\">\n      <g>\n       <use xlink:href=\"#m771880ed1c\" x=\"201.253004\" y=\"224.64\" style=\"stroke: #000000; stroke-width: 0.8\"/>\n      </g>\n     </g>\n     <g id=\"text_3\">\n      <!-- 400 -->\n      <g transform=\"translate(189.800504 240.758125) scale(0.12 -0.12)\">\n       <defs>\n        <path id=\"DejaVuSans-34\" d=\"M 2419 4116 \nL 825 1625 \nL 2419 1625 \nL 2419 4116 \nz\nM 2253 4666 \nL 3047 4666 \nL 3047 1625 \nL 3713 1625 \nL 3713 1100 \nL 3047 1100 \nL 3047 0 \nL 2419 0 \nL 2419 1100 \nL 313 1100 \nL 313 1709 \nL 2253 4666 \nz\n\" transform=\"scale(0.015625)\"/>\n       </defs>\n       <use xlink:href=\"#DejaVuSans-34\"/>\n       <use xlink:href=\"#DejaVuSans-30\" x=\"63.623047\"/>\n       <use xlink:href=\"#DejaVuSans-30\" x=\"127.246094\"/>\n      </g>\n     </g>\n    </g>\n    <g id=\"xtick_4\">\n     <g id=\"line2d_4\">\n      <g>\n       <use xlink:href=\"#m771880ed1c\" x=\"262.186665\" y=\"224.64\" style=\"stroke: #000000; stroke-width: 0.8\"/>\n      </g>\n     </g>\n     <g id=\"text_4\">\n      <!-- 600 -->\n      <g transform=\"translate(250.734165 240.758125) scale(0.12 -0.12)\">\n       <defs>\n        <path id=\"DejaVuSans-36\" d=\"M 2113 2584 \nQ 1688 2584 1439 2293 \nQ 1191 2003 1191 1497 \nQ 1191 994 1439 701 \nQ 1688 409 2113 409 \nQ 2538 409 2786 701 \nQ 3034 994 3034 1497 \nQ 3034 2003 2786 2293 \nQ 2538 2584 2113 2584 \nz\nM 3366 4563 \nL 3366 3988 \nQ 3128 4100 2886 4159 \nQ 2644 4219 2406 4219 \nQ 1781 4219 1451 3797 \nQ 1122 3375 1075 2522 \nQ 1259 2794 1537 2939 \nQ 1816 3084 2150 3084 \nQ 2853 3084 3261 2657 \nQ 3669 2231 3669 1497 \nQ 3669 778 3244 343 \nQ 2819 -91 2113 -91 \nQ 1303 -91 875 529 \nQ 447 1150 447 2328 \nQ 447 3434 972 4092 \nQ 1497 4750 2381 4750 \nQ 2619 4750 2861 4703 \nQ 3103 4656 3366 4563 \nz\n\" transform=\"scale(0.015625)\"/>\n       </defs>\n       <use xlink:href=\"#DejaVuSans-36\"/>\n       <use xlink:href=\"#DejaVuSans-30\" x=\"63.623047\"/>\n       <use xlink:href=\"#DejaVuSans-30\" x=\"127.246094\"/>\n      </g>\n     </g>\n    </g>\n    <g id=\"xtick_5\">\n     <g id=\"line2d_5\">\n      <g>\n       <use xlink:href=\"#m771880ed1c\" x=\"323.120326\" y=\"224.64\" style=\"stroke: #000000; stroke-width: 0.8\"/>\n      </g>\n     </g>\n     <g id=\"text_5\">\n      <!-- 800 -->\n      <g transform=\"translate(311.667826 240.758125) scale(0.12 -0.12)\">\n       <defs>\n        <path id=\"DejaVuSans-38\" d=\"M 2034 2216 \nQ 1584 2216 1326 1975 \nQ 1069 1734 1069 1313 \nQ 1069 891 1326 650 \nQ 1584 409 2034 409 \nQ 2484 409 2743 651 \nQ 3003 894 3003 1313 \nQ 3003 1734 2745 1975 \nQ 2488 2216 2034 2216 \nz\nM 1403 2484 \nQ 997 2584 770 2862 \nQ 544 3141 544 3541 \nQ 544 4100 942 4425 \nQ 1341 4750 2034 4750 \nQ 2731 4750 3128 4425 \nQ 3525 4100 3525 3541 \nQ 3525 3141 3298 2862 \nQ 3072 2584 2669 2484 \nQ 3125 2378 3379 2068 \nQ 3634 1759 3634 1313 \nQ 3634 634 3220 271 \nQ 2806 -91 2034 -91 \nQ 1263 -91 848 271 \nQ 434 634 434 1313 \nQ 434 1759 690 2068 \nQ 947 2378 1403 2484 \nz\nM 1172 3481 \nQ 1172 3119 1398 2916 \nQ 1625 2713 2034 2713 \nQ 2441 2713 2670 2916 \nQ 2900 3119 2900 3481 \nQ 2900 3844 2670 4047 \nQ 2441 4250 2034 4250 \nQ 1625 4250 1398 4047 \nQ 1172 3844 1172 3481 \nz\n\" transform=\"scale(0.015625)\"/>\n       </defs>\n       <use xlink:href=\"#DejaVuSans-38\"/>\n       <use xlink:href=\"#DejaVuSans-30\" x=\"63.623047\"/>\n       <use xlink:href=\"#DejaVuSans-30\" x=\"127.246094\"/>\n      </g>\n     </g>\n    </g>\n    <g id=\"xtick_6\">\n     <g id=\"line2d_6\">\n      <g>\n       <use xlink:href=\"#m771880ed1c\" x=\"384.053986\" y=\"224.64\" style=\"stroke: #000000; stroke-width: 0.8\"/>\n      </g>\n     </g>\n     <g id=\"text_6\">\n      <!-- 1000 -->\n      <g transform=\"translate(368.783986 240.758125) scale(0.12 -0.12)\">\n       <defs>\n        <path id=\"DejaVuSans-31\" d=\"M 794 531 \nL 1825 531 \nL 1825 4091 \nL 703 3866 \nL 703 4441 \nL 1819 4666 \nL 2450 4666 \nL 2450 531 \nL 3481 531 \nL 3481 0 \nL 794 0 \nL 794 531 \nz\n\" transform=\"scale(0.015625)\"/>\n       </defs>\n       <use xlink:href=\"#DejaVuSans-31\"/>\n       <use xlink:href=\"#DejaVuSans-30\" x=\"63.623047\"/>\n       <use xlink:href=\"#DejaVuSans-30\" x=\"127.246094\"/>\n       <use xlink:href=\"#DejaVuSans-30\" x=\"190.869141\"/>\n      </g>\n     </g>\n    </g>\n    <g id=\"text_7\">\n     <!-- Sorted token probabilities -->\n     <g transform=\"translate(154.235 256.371875) scale(0.12 -0.12)\">\n      <defs>\n       <path id=\"DejaVuSans-53\" d=\"M 3425 4513 \nL 3425 3897 \nQ 3066 4069 2747 4153 \nQ 2428 4238 2131 4238 \nQ 1616 4238 1336 4038 \nQ 1056 3838 1056 3469 \nQ 1056 3159 1242 3001 \nQ 1428 2844 1947 2747 \nL 2328 2669 \nQ 3034 2534 3370 2195 \nQ 3706 1856 3706 1288 \nQ 3706 609 3251 259 \nQ 2797 -91 1919 -91 \nQ 1588 -91 1214 -16 \nQ 841 59 441 206 \nL 441 856 \nQ 825 641 1194 531 \nQ 1563 422 1919 422 \nQ 2459 422 2753 634 \nQ 3047 847 3047 1241 \nQ 3047 1584 2836 1778 \nQ 2625 1972 2144 2069 \nL 1759 2144 \nQ 1053 2284 737 2584 \nQ 422 2884 422 3419 \nQ 422 4038 858 4394 \nQ 1294 4750 2059 4750 \nQ 2388 4750 2728 4690 \nQ 3069 4631 3425 4513 \nz\n\" transform=\"scale(0.015625)\"/>\n       <path id=\"DejaVuSans-6f\" d=\"M 1959 3097 \nQ 1497 3097 1228 2736 \nQ 959 2375 959 1747 \nQ 959 1119 1226 758 \nQ 1494 397 1959 397 \nQ 2419 397 2687 759 \nQ 2956 1122 2956 1747 \nQ 2956 2369 2687 2733 \nQ 2419 3097 1959 3097 \nz\nM 1959 3584 \nQ 2709 3584 3137 3096 \nQ 3566 2609 3566 1747 \nQ 3566 888 3137 398 \nQ 2709 -91 1959 -91 \nQ 1206 -91 779 398 \nQ 353 888 353 1747 \nQ 353 2609 779 3096 \nQ 1206 3584 1959 3584 \nz\n\" transform=\"scale(0.015625)\"/>\n       <path id=\"DejaVuSans-72\" d=\"M 2631 2963 \nQ 2534 3019 2420 3045 \nQ 2306 3072 2169 3072 \nQ 1681 3072 1420 2755 \nQ 1159 2438 1159 1844 \nL 1159 0 \nL 581 0 \nL 581 3500 \nL 1159 3500 \nL 1159 2956 \nQ 1341 3275 1631 3429 \nQ 1922 3584 2338 3584 \nQ 2397 3584 2469 3576 \nQ 2541 3569 2628 3553 \nL 2631 2963 \nz\n\" transform=\"scale(0.015625)\"/>\n       <path id=\"DejaVuSans-74\" d=\"M 1172 4494 \nL 1172 3500 \nL 2356 3500 \nL 2356 3053 \nL 1172 3053 \nL 1172 1153 \nQ 1172 725 1289 603 \nQ 1406 481 1766 481 \nL 2356 481 \nL 2356 0 \nL 1766 0 \nQ 1100 0 847 248 \nQ 594 497 594 1153 \nL 594 3053 \nL 172 3053 \nL 172 3500 \nL 594 3500 \nL 594 4494 \nL 1172 4494 \nz\n\" transform=\"scale(0.015625)\"/>\n       <path id=\"DejaVuSans-65\" d=\"M 3597 1894 \nL 3597 1613 \nL 953 1613 \nQ 991 1019 1311 708 \nQ 1631 397 2203 397 \nQ 2534 397 2845 478 \nQ 3156 559 3463 722 \nL 3463 178 \nQ 3153 47 2828 -22 \nQ 2503 -91 2169 -91 \nQ 1331 -91 842 396 \nQ 353 884 353 1716 \nQ 353 2575 817 3079 \nQ 1281 3584 2069 3584 \nQ 2775 3584 3186 3129 \nQ 3597 2675 3597 1894 \nz\nM 3022 2063 \nQ 3016 2534 2758 2815 \nQ 2500 3097 2075 3097 \nQ 1594 3097 1305 2825 \nQ 1016 2553 972 2059 \nL 3022 2063 \nz\n\" transform=\"scale(0.015625)\"/>\n       <path id=\"DejaVuSans-64\" d=\"M 2906 2969 \nL 2906 4863 \nL 3481 4863 \nL 3481 0 \nL 2906 0 \nL 2906 525 \nQ 2725 213 2448 61 \nQ 2172 -91 1784 -91 \nQ 1150 -91 751 415 \nQ 353 922 353 1747 \nQ 353 2572 751 3078 \nQ 1150 3584 1784 3584 \nQ 2172 3584 2448 3432 \nQ 2725 3281 2906 2969 \nz\nM 947 1747 \nQ 947 1113 1208 752 \nQ 1469 391 1925 391 \nQ 2381 391 2643 752 \nQ 2906 1113 2906 1747 \nQ 2906 2381 2643 2742 \nQ 2381 3103 1925 3103 \nQ 1469 3103 1208 2742 \nQ 947 2381 947 1747 \nz\n\" transform=\"scale(0.015625)\"/>\n       <path id=\"DejaVuSans-20\" transform=\"scale(0.015625)\"/>\n       <path id=\"DejaVuSans-6b\" d=\"M 581 4863 \nL 1159 4863 \nL 1159 1991 \nL 2875 3500 \nL 3609 3500 \nL 1753 1863 \nL 3688 0 \nL 2938 0 \nL 1159 1709 \nL 1159 0 \nL 581 0 \nL 581 4863 \nz\n\" transform=\"scale(0.015625)\"/>\n       <path id=\"DejaVuSans-6e\" d=\"M 3513 2113 \nL 3513 0 \nL 2938 0 \nL 2938 2094 \nQ 2938 2591 2744 2837 \nQ 2550 3084 2163 3084 \nQ 1697 3084 1428 2787 \nQ 1159 2491 1159 1978 \nL 1159 0 \nL 581 0 \nL 581 3500 \nL 1159 3500 \nL 1159 2956 \nQ 1366 3272 1645 3428 \nQ 1925 3584 2291 3584 \nQ 2894 3584 3203 3211 \nQ 3513 2838 3513 2113 \nz\n\" transform=\"scale(0.015625)\"/>\n       <path id=\"DejaVuSans-70\" d=\"M 1159 525 \nL 1159 -1331 \nL 581 -1331 \nL 581 3500 \nL 1159 3500 \nL 1159 2969 \nQ 1341 3281 1617 3432 \nQ 1894 3584 2278 3584 \nQ 2916 3584 3314 3078 \nQ 3713 2572 3713 1747 \nQ 3713 922 3314 415 \nQ 2916 -91 2278 -91 \nQ 1894 -91 1617 61 \nQ 1341 213 1159 525 \nz\nM 3116 1747 \nQ 3116 2381 2855 2742 \nQ 2594 3103 2138 3103 \nQ 1681 3103 1420 2742 \nQ 1159 2381 1159 1747 \nQ 1159 1113 1420 752 \nQ 1681 391 2138 391 \nQ 2594 391 2855 752 \nQ 3116 1113 3116 1747 \nz\n\" transform=\"scale(0.015625)\"/>\n       <path id=\"DejaVuSans-62\" d=\"M 3116 1747 \nQ 3116 2381 2855 2742 \nQ 2594 3103 2138 3103 \nQ 1681 3103 1420 2742 \nQ 1159 2381 1159 1747 \nQ 1159 1113 1420 752 \nQ 1681 391 2138 391 \nQ 2594 391 2855 752 \nQ 3116 1113 3116 1747 \nz\nM 1159 2969 \nQ 1341 3281 1617 3432 \nQ 1894 3584 2278 3584 \nQ 2916 3584 3314 3078 \nQ 3713 2572 3713 1747 \nQ 3713 922 3314 415 \nQ 2916 -91 2278 -91 \nQ 1894 -91 1617 61 \nQ 1341 213 1159 525 \nL 1159 0 \nL 581 0 \nL 581 4863 \nL 1159 4863 \nL 1159 2969 \nz\n\" transform=\"scale(0.015625)\"/>\n       <path id=\"DejaVuSans-61\" d=\"M 2194 1759 \nQ 1497 1759 1228 1600 \nQ 959 1441 959 1056 \nQ 959 750 1161 570 \nQ 1363 391 1709 391 \nQ 2188 391 2477 730 \nQ 2766 1069 2766 1631 \nL 2766 1759 \nL 2194 1759 \nz\nM 3341 1997 \nL 3341 0 \nL 2766 0 \nL 2766 531 \nQ 2569 213 2275 61 \nQ 1981 -91 1556 -91 \nQ 1019 -91 701 211 \nQ 384 513 384 1019 \nQ 384 1609 779 1909 \nQ 1175 2209 1959 2209 \nL 2766 2209 \nL 2766 2266 \nQ 2766 2663 2505 2880 \nQ 2244 3097 1772 3097 \nQ 1472 3097 1187 3025 \nQ 903 2953 641 2809 \nL 641 3341 \nQ 956 3463 1253 3523 \nQ 1550 3584 1831 3584 \nQ 2591 3584 2966 3190 \nQ 3341 2797 3341 1997 \nz\n\" transform=\"scale(0.015625)\"/>\n       <path id=\"DejaVuSans-69\" d=\"M 603 3500 \nL 1178 3500 \nL 1178 0 \nL 603 0 \nL 603 3500 \nz\nM 603 4863 \nL 1178 4863 \nL 1178 4134 \nL 603 4134 \nL 603 4863 \nz\n\" transform=\"scale(0.015625)\"/>\n       <path id=\"DejaVuSans-6c\" d=\"M 603 4863 \nL 1178 4863 \nL 1178 0 \nL 603 0 \nL 603 4863 \nz\n\" transform=\"scale(0.015625)\"/>\n       <path id=\"DejaVuSans-73\" d=\"M 2834 3397 \nL 2834 2853 \nQ 2591 2978 2328 3040 \nQ 2066 3103 1784 3103 \nQ 1356 3103 1142 2972 \nQ 928 2841 928 2578 \nQ 928 2378 1081 2264 \nQ 1234 2150 1697 2047 \nL 1894 2003 \nQ 2506 1872 2764 1633 \nQ 3022 1394 3022 966 \nQ 3022 478 2636 193 \nQ 2250 -91 1575 -91 \nQ 1294 -91 989 -36 \nQ 684 19 347 128 \nL 347 722 \nQ 666 556 975 473 \nQ 1284 391 1588 391 \nQ 1994 391 2212 530 \nQ 2431 669 2431 922 \nQ 2431 1156 2273 1281 \nQ 2116 1406 1581 1522 \nL 1381 1569 \nQ 847 1681 609 1914 \nQ 372 2147 372 2553 \nQ 372 3047 722 3315 \nQ 1072 3584 1716 3584 \nQ 2034 3584 2315 3537 \nQ 2597 3491 2834 3397 \nz\n\" transform=\"scale(0.015625)\"/>\n      </defs>\n      <use xlink:href=\"#DejaVuSans-53\"/>\n      <use xlink:href=\"#DejaVuSans-6f\" x=\"63.476562\"/>\n      <use xlink:href=\"#DejaVuSans-72\" x=\"124.658203\"/>\n      <use xlink:href=\"#DejaVuSans-74\" x=\"165.771484\"/>\n      <use xlink:href=\"#DejaVuSans-65\" x=\"204.980469\"/>\n      <use xlink:href=\"#DejaVuSans-64\" x=\"266.503906\"/>\n      <use xlink:href=\"#DejaVuSans-20\" x=\"329.980469\"/>\n      <use xlink:href=\"#DejaVuSans-74\" x=\"361.767578\"/>\n      <use xlink:href=\"#DejaVuSans-6f\" x=\"400.976562\"/>\n      <use xlink:href=\"#DejaVuSans-6b\" x=\"462.158203\"/>\n      <use xlink:href=\"#DejaVuSans-65\" x=\"516.443359\"/>\n      <use xlink:href=\"#DejaVuSans-6e\" x=\"577.966797\"/>\n      <use xlink:href=\"#DejaVuSans-20\" x=\"641.345703\"/>\n      <use xlink:href=\"#DejaVuSans-70\" x=\"673.132812\"/>\n      <use xlink:href=\"#DejaVuSans-72\" x=\"736.609375\"/>\n      <use xlink:href=\"#DejaVuSans-6f\" x=\"775.472656\"/>\n      <use xlink:href=\"#DejaVuSans-62\" x=\"836.654297\"/>\n      <use xlink:href=\"#DejaVuSans-61\" x=\"900.130859\"/>\n      <use xlink:href=\"#DejaVuSans-62\" x=\"961.410156\"/>\n      <use xlink:href=\"#DejaVuSans-69\" x=\"1024.886719\"/>\n      <use xlink:href=\"#DejaVuSans-6c\" x=\"1052.669922\"/>\n      <use xlink:href=\"#DejaVuSans-69\" x=\"1080.453125\"/>\n      <use xlink:href=\"#DejaVuSans-74\" x=\"1108.236328\"/>\n      <use xlink:href=\"#DejaVuSans-69\" x=\"1147.445312\"/>\n      <use xlink:href=\"#DejaVuSans-65\" x=\"1175.228516\"/>\n      <use xlink:href=\"#DejaVuSans-73\" x=\"1236.751953\"/>\n     </g>\n    </g>\n   </g>\n   <g id=\"matplotlib.axis_2\">\n    <g id=\"ytick_1\">\n     <g id=\"line2d_7\">\n      <defs>\n       <path id=\"m3cc1b27edc\" d=\"M 0 0 \nL -3.5 0 \n\" style=\"stroke: #000000; stroke-width: 0.8\"/>\n      </defs>\n      <g>\n       <use xlink:href=\"#m3cc1b27edc\" x=\"64.1675\" y=\"221.385127\" style=\"stroke: #000000; stroke-width: 0.8\"/>\n      </g>\n     </g>\n     <g id=\"text_8\">\n      <!-- 0.000 -->\n      <g transform=\"translate(22.81375 225.944189) scale(0.12 -0.12)\">\n       <defs>\n        <path id=\"DejaVuSans-2e\" d=\"M 684 794 \nL 1344 794 \nL 1344 0 \nL 684 0 \nL 684 794 \nz\n\" transform=\"scale(0.015625)\"/>\n       </defs>\n       <use xlink:href=\"#DejaVuSans-30\"/>\n       <use xlink:href=\"#DejaVuSans-2e\" x=\"63.623047\"/>\n       <use xlink:href=\"#DejaVuSans-30\" x=\"95.410156\"/>\n       <use xlink:href=\"#DejaVuSans-30\" x=\"159.033203\"/>\n       <use xlink:href=\"#DejaVuSans-30\" x=\"222.65625\"/>\n      </g>\n     </g>\n    </g>\n    <g id=\"ytick_2\">\n     <g id=\"line2d_8\">\n      <g>\n       <use xlink:href=\"#m3cc1b27edc\" x=\"64.1675\" y=\"179.57593\" style=\"stroke: #000000; stroke-width: 0.8\"/>\n      </g>\n     </g>\n     <g id=\"text_9\">\n      <!-- 0.001 -->\n      <g transform=\"translate(22.81375 184.134992) scale(0.12 -0.12)\">\n       <use xlink:href=\"#DejaVuSans-30\"/>\n       <use xlink:href=\"#DejaVuSans-2e\" x=\"63.623047\"/>\n       <use xlink:href=\"#DejaVuSans-30\" x=\"95.410156\"/>\n       <use xlink:href=\"#DejaVuSans-30\" x=\"159.033203\"/>\n       <use xlink:href=\"#DejaVuSans-31\" x=\"222.65625\"/>\n      </g>\n     </g>\n    </g>\n    <g id=\"ytick_3\">\n     <g id=\"line2d_9\">\n      <g>\n       <use xlink:href=\"#m3cc1b27edc\" x=\"64.1675\" y=\"137.766733\" style=\"stroke: #000000; stroke-width: 0.8\"/>\n      </g>\n     </g>\n     <g id=\"text_10\">\n      <!-- 0.002 -->\n      <g transform=\"translate(22.81375 142.325796) scale(0.12 -0.12)\">\n       <use xlink:href=\"#DejaVuSans-30\"/>\n       <use xlink:href=\"#DejaVuSans-2e\" x=\"63.623047\"/>\n       <use xlink:href=\"#DejaVuSans-30\" x=\"95.410156\"/>\n       <use xlink:href=\"#DejaVuSans-30\" x=\"159.033203\"/>\n       <use xlink:href=\"#DejaVuSans-32\" x=\"222.65625\"/>\n      </g>\n     </g>\n    </g>\n    <g id=\"ytick_4\">\n     <g id=\"line2d_10\">\n      <g>\n       <use xlink:href=\"#m3cc1b27edc\" x=\"64.1675\" y=\"95.957536\" style=\"stroke: #000000; stroke-width: 0.8\"/>\n      </g>\n     </g>\n     <g id=\"text_11\">\n      <!-- 0.003 -->\n      <g transform=\"translate(22.81375 100.516599) scale(0.12 -0.12)\">\n       <defs>\n        <path id=\"DejaVuSans-33\" d=\"M 2597 2516 \nQ 3050 2419 3304 2112 \nQ 3559 1806 3559 1356 \nQ 3559 666 3084 287 \nQ 2609 -91 1734 -91 \nQ 1441 -91 1130 -33 \nQ 819 25 488 141 \nL 488 750 \nQ 750 597 1062 519 \nQ 1375 441 1716 441 \nQ 2309 441 2620 675 \nQ 2931 909 2931 1356 \nQ 2931 1769 2642 2001 \nQ 2353 2234 1838 2234 \nL 1294 2234 \nL 1294 2753 \nL 1863 2753 \nQ 2328 2753 2575 2939 \nQ 2822 3125 2822 3475 \nQ 2822 3834 2567 4026 \nQ 2313 4219 1838 4219 \nQ 1578 4219 1281 4162 \nQ 984 4106 628 3988 \nL 628 4550 \nQ 988 4650 1302 4700 \nQ 1616 4750 1894 4750 \nQ 2613 4750 3031 4423 \nQ 3450 4097 3450 3541 \nQ 3450 3153 3228 2886 \nQ 3006 2619 2597 2516 \nz\n\" transform=\"scale(0.015625)\"/>\n       </defs>\n       <use xlink:href=\"#DejaVuSans-30\"/>\n       <use xlink:href=\"#DejaVuSans-2e\" x=\"63.623047\"/>\n       <use xlink:href=\"#DejaVuSans-30\" x=\"95.410156\"/>\n       <use xlink:href=\"#DejaVuSans-30\" x=\"159.033203\"/>\n       <use xlink:href=\"#DejaVuSans-33\" x=\"222.65625\"/>\n      </g>\n     </g>\n    </g>\n    <g id=\"ytick_5\">\n     <g id=\"line2d_11\">\n      <g>\n       <use xlink:href=\"#m3cc1b27edc\" x=\"64.1675\" y=\"54.14834\" style=\"stroke: #000000; stroke-width: 0.8\"/>\n      </g>\n     </g>\n     <g id=\"text_12\">\n      <!-- 0.004 -->\n      <g transform=\"translate(22.81375 58.707402) scale(0.12 -0.12)\">\n       <use xlink:href=\"#DejaVuSans-30\"/>\n       <use xlink:href=\"#DejaVuSans-2e\" x=\"63.623047\"/>\n       <use xlink:href=\"#DejaVuSans-30\" x=\"95.410156\"/>\n       <use xlink:href=\"#DejaVuSans-30\" x=\"159.033203\"/>\n       <use xlink:href=\"#DejaVuSans-34\" x=\"222.65625\"/>\n      </g>\n     </g>\n    </g>\n    <g id=\"ytick_6\">\n     <g id=\"line2d_12\">\n      <g>\n       <use xlink:href=\"#m3cc1b27edc\" x=\"64.1675\" y=\"12.339143\" style=\"stroke: #000000; stroke-width: 0.8\"/>\n      </g>\n     </g>\n     <g id=\"text_13\">\n      <!-- 0.005 -->\n      <g transform=\"translate(22.81375 16.898205) scale(0.12 -0.12)\">\n       <defs>\n        <path id=\"DejaVuSans-35\" d=\"M 691 4666 \nL 3169 4666 \nL 3169 4134 \nL 1269 4134 \nL 1269 2991 \nQ 1406 3038 1543 3061 \nQ 1681 3084 1819 3084 \nQ 2600 3084 3056 2656 \nQ 3513 2228 3513 1497 \nQ 3513 744 3044 326 \nQ 2575 -91 1722 -91 \nQ 1428 -91 1123 -41 \nQ 819 9 494 109 \nL 494 744 \nQ 775 591 1075 516 \nQ 1375 441 1709 441 \nQ 2250 441 2565 725 \nQ 2881 1009 2881 1497 \nQ 2881 1984 2565 2268 \nQ 2250 2553 1709 2553 \nQ 1456 2553 1204 2497 \nQ 953 2441 691 2322 \nL 691 4666 \nz\n\" transform=\"scale(0.015625)\"/>\n       </defs>\n       <use xlink:href=\"#DejaVuSans-30\"/>\n       <use xlink:href=\"#DejaVuSans-2e\" x=\"63.623047\"/>\n       <use xlink:href=\"#DejaVuSans-30\" x=\"95.410156\"/>\n       <use xlink:href=\"#DejaVuSans-30\" x=\"159.033203\"/>\n       <use xlink:href=\"#DejaVuSans-35\" x=\"222.65625\"/>\n      </g>\n     </g>\n    </g>\n    <g id=\"text_14\">\n     <!-- Probability -->\n     <g transform=\"translate(16.318125 147.634687) rotate(-90) scale(0.12 -0.12)\">\n      <defs>\n       <path id=\"DejaVuSans-50\" d=\"M 1259 4147 \nL 1259 2394 \nL 2053 2394 \nQ 2494 2394 2734 2622 \nQ 2975 2850 2975 3272 \nQ 2975 3691 2734 3919 \nQ 2494 4147 2053 4147 \nL 1259 4147 \nz\nM 628 4666 \nL 2053 4666 \nQ 2838 4666 3239 4311 \nQ 3641 3956 3641 3272 \nQ 3641 2581 3239 2228 \nQ 2838 1875 2053 1875 \nL 1259 1875 \nL 1259 0 \nL 628 0 \nL 628 4666 \nz\n\" transform=\"scale(0.015625)\"/>\n       <path id=\"DejaVuSans-79\" d=\"M 2059 -325 \nQ 1816 -950 1584 -1140 \nQ 1353 -1331 966 -1331 \nL 506 -1331 \nL 506 -850 \nL 844 -850 \nQ 1081 -850 1212 -737 \nQ 1344 -625 1503 -206 \nL 1606 56 \nL 191 3500 \nL 800 3500 \nL 1894 763 \nL 2988 3500 \nL 3597 3500 \nL 2059 -325 \nz\n\" transform=\"scale(0.015625)\"/>\n      </defs>\n      <use xlink:href=\"#DejaVuSans-50\"/>\n      <use xlink:href=\"#DejaVuSans-72\" x=\"58.552734\"/>\n      <use xlink:href=\"#DejaVuSans-6f\" x=\"97.416016\"/>\n      <use xlink:href=\"#DejaVuSans-62\" x=\"158.597656\"/>\n      <use xlink:href=\"#DejaVuSans-61\" x=\"222.074219\"/>\n      <use xlink:href=\"#DejaVuSans-62\" x=\"283.353516\"/>\n      <use xlink:href=\"#DejaVuSans-69\" x=\"346.830078\"/>\n      <use xlink:href=\"#DejaVuSans-6c\" x=\"374.613281\"/>\n      <use xlink:href=\"#DejaVuSans-69\" x=\"402.396484\"/>\n      <use xlink:href=\"#DejaVuSans-74\" x=\"430.179688\"/>\n      <use xlink:href=\"#DejaVuSans-79\" x=\"469.388672\"/>\n     </g>\n    </g>\n   </g>\n   <g id=\"line2d_13\">\n    <path d=\"M 79.385682 17.083636 \nL 79.385682 18.353766 \nL 79.995018 18.393349 \nL 79.995018 18.526463 \nL 80.299687 18.526463 \nL 80.299687 19.375158 \nL 80.604355 19.375158 \nL 80.604355 21.045112 \nL 80.909023 21.045112 \nL 80.909023 21.373294 \nL 81.213692 21.373294 \nL 81.213692 22.628337 \nL 81.51836 22.628337 \nL 81.51836 27.840717 \nL 82.432365 27.94028 \nL 82.432365 28.203011 \nL 82.737033 28.203011 \nL 82.737033 28.718612 \nL 83.041701 28.718612 \nL 83.041701 28.884811 \nL 83.34637 28.884811 \nL 83.34637 29.116493 \nL 83.651038 29.116493 \nL 83.651038 29.362226 \nL 83.955706 29.362226 \nL 83.955706 32.060186 \nL 84.260375 32.060186 \nL 84.260375 33.628625 \nL 84.565043 33.628625 \nL 84.565043 34.493305 \nL 85.17438 34.502864 \nL 85.17438 36.171604 \nL 85.479048 36.171604 \nL 85.479048 36.362484 \nL 85.783716 36.362484 \nL 85.783716 38.041119 \nL 86.393053 38.088885 \nL 86.393053 38.312269 \nL 86.697721 38.312269 \nL 86.697721 39.098304 \nL 87.002389 39.098304 \nL 87.002389 40.186614 \nL 87.307058 40.186614 \nL 87.307058 41.43672 \nL 87.611726 41.43672 \nL 87.611726 43.584976 \nL 87.916394 43.584976 \nL 87.916394 44.402597 \nL 88.221063 44.402597 \nL 88.221063 45.608368 \nL 88.525731 45.608368 \nL 88.525731 47.66158 \nL 88.830399 47.66158 \nL 88.830399 49.532671 \nL 89.135068 49.532671 \nL 89.135068 50.785988 \nL 89.439736 50.785988 \nL 89.439736 51.669473 \nL 90.049072 51.778934 \nL 90.049072 52.676834 \nL 90.353741 52.676834 \nL 90.353741 53.360335 \nL 90.658409 53.360335 \nL 90.658409 56.017957 \nL 90.963077 56.017957 \nL 90.963077 56.492432 \nL 91.267746 56.492432 \nL 91.267746 57.308603 \nL 91.572414 57.308603 \nL 91.572414 58.350257 \nL 91.877082 58.350257 \nL 91.877082 59.81014 \nL 92.181751 59.81014 \nL 92.181751 59.959221 \nL 92.486419 59.959221 \nL 92.486419 60.373414 \nL 92.791087 60.373414 \nL 92.791087 62.721411 \nL 93.095756 62.721411 \nL 93.095756 62.926908 \nL 93.400424 62.926908 \nL 93.400424 64.673641 \nL 93.705092 64.673641 \nL 93.705092 65.265183 \nL 94.00976 65.265183 \nL 94.00976 66.363245 \nL 94.314429 66.363245 \nL 94.314429 66.93048 \nL 94.619097 66.93048 \nL 94.619097 67.921721 \nL 94.923765 67.921721 \nL 94.923765 68.724403 \nL 95.228434 68.724403 \nL 95.228434 70.997058 \nL 95.533102 70.997058 \nL 95.533102 71.310611 \nL 95.83777 71.310611 \nL 95.83777 71.648514 \nL 96.142439 71.648514 \nL 96.142439 72.38251 \nL 96.447107 72.38251 \nL 96.447107 72.498818 \nL 96.751775 72.498818 \nL 96.751775 72.699561 \nL 97.056443 72.699561 \nL 97.056443 73.564915 \nL 97.66578 73.641199 \nL 97.66578 74.532766 \nL 97.970448 74.532766 \nL 97.970448 74.843011 \nL 98.275117 74.843011 \nL 98.275117 75.978319 \nL 98.579785 75.978319 \nL 98.579785 76.330516 \nL 98.884453 76.330516 \nL 98.884453 79.131344 \nL 99.49379 79.177306 \nL 99.49379 80.62786 \nL 99.798458 80.62786 \nL 99.798458 81.299096 \nL 100.103127 81.299096 \nL 100.103127 81.59893 \nL 100.407795 81.59893 \nL 100.407795 82.743934 \nL 100.712463 82.743934 \nL 100.712463 83.037571 \nL 101.017131 83.037571 \nL 101.017131 83.721483 \nL 101.3218 83.721483 \nL 101.3218 84.083232 \nL 101.626468 84.083232 \nL 101.626468 84.207338 \nL 102.235805 84.231498 \nL 102.235805 87.050358 \nL 102.540473 87.050358 \nL 102.540473 89.292702 \nL 102.845141 89.292702 \nL 102.845141 89.906129 \nL 103.14981 89.906129 \nL 103.14981 90.227062 \nL 103.454478 90.227062 \nL 103.454478 91.048378 \nL 103.759146 91.048378 \nL 103.759146 92.940296 \nL 104.063814 92.940296 \nL 104.063814 93.504717 \nL 104.368483 93.504717 \nL 104.368483 95.900677 \nL 104.673151 95.900677 \nL 104.673151 96.044266 \nL 104.977819 96.044266 \nL 104.977819 99.277203 \nL 105.282488 99.277203 \nL 105.282488 99.532279 \nL 105.587156 99.532279 \nL 105.587156 100.597244 \nL 105.891824 100.597244 \nL 105.891824 100.719541 \nL 106.196493 100.719541 \nL 106.196493 101.06403 \nL 106.501161 101.06403 \nL 106.501161 101.32512 \nL 106.805829 101.32512 \nL 106.805829 101.821058 \nL 107.110498 101.821058 \nL 107.110498 101.970421 \nL 107.415166 101.970421 \nL 107.415166 102.841174 \nL 107.719834 102.841174 \nL 107.719834 103.723836 \nL 108.024502 103.723836 \nL 108.024502 104.661499 \nL 108.329171 104.661499 \nL 108.329171 105.087371 \nL 108.633839 105.087371 \nL 108.633839 106.163765 \nL 108.938507 106.163765 \nL 108.938507 107.559846 \nL 109.243176 107.559846 \nL 109.243176 108.970331 \nL 109.547844 108.970331 \nL 109.547844 109.146834 \nL 109.852512 109.146834 \nL 109.852512 109.493453 \nL 110.157181 109.493453 \nL 110.157181 110.148118 \nL 110.461849 110.148118 \nL 110.461849 110.395638 \nL 110.766517 110.395638 \nL 110.766517 110.811848 \nL 111.071186 110.811848 \nL 111.071186 111.349286 \nL 111.375854 111.349286 \nL 111.375854 112.521822 \nL 111.680522 112.521822 \nL 111.680522 112.709098 \nL 111.98519 112.709098 \nL 111.98519 113.226191 \nL 112.289859 113.226191 \nL 112.289859 113.936778 \nL 112.899195 113.979221 \nL 112.899195 115.837621 \nL 113.203864 115.837621 \nL 113.203864 117.236784 \nL 113.508532 117.236784 \nL 113.508532 118.457158 \nL 113.8132 118.457158 \nL 113.8132 118.721088 \nL 114.117869 118.721088 \nL 114.117869 119.012605 \nL 114.422537 119.012605 \nL 114.422537 119.208494 \nL 114.727205 119.208494 \nL 114.727205 120.150627 \nL 115.031873 120.150627 \nL 115.031873 121.150729 \nL 115.336542 121.150729 \nL 115.336542 121.408118 \nL 115.945878 121.417421 \nL 115.945878 121.701332 \nL 116.250547 121.701332 \nL 116.250547 122.022788 \nL 116.555215 122.022788 \nL 116.555215 122.788526 \nL 116.859883 122.788526 \nL 116.859883 123.638094 \nL 117.164552 123.638094 \nL 117.164552 124.170438 \nL 117.46922 124.170438 \nL 117.46922 124.382456 \nL 118.078557 124.431783 \nL 118.078557 125.100171 \nL 118.383225 125.100171 \nL 118.383225 125.26549 \nL 118.687893 125.26549 \nL 118.687893 125.423936 \nL 118.992561 125.423936 \nL 118.992561 125.673225 \nL 119.29723 125.673225 \nL 119.29723 125.910666 \nL 119.601898 125.910666 \nL 119.601898 128.194666 \nL 119.906566 128.194666 \nL 119.906566 128.390581 \nL 120.211235 128.390581 \nL 120.211235 128.778165 \nL 120.515903 128.778165 \nL 120.515903 130.494946 \nL 120.820571 130.494946 \nL 120.820571 131.359669 \nL 121.12524 131.359669 \nL 121.12524 131.923066 \nL 121.429908 131.923066 \nL 121.429908 132.612124 \nL 121.734576 132.612124 \nL 121.734576 132.987532 \nL 122.039244 132.987532 \nL 122.039244 133.450619 \nL 122.343913 133.450619 \nL 122.343913 134.506062 \nL 122.648581 134.506062 \nL 122.648581 135.66725 \nL 122.953249 135.66725 \nL 122.953249 135.869601 \nL 123.257918 135.869601 \nL 123.257918 136.763341 \nL 123.562586 136.763341 \nL 123.562586 136.948156 \nL 124.476591 137.030025 \nL 124.476591 137.435365 \nL 124.781259 137.435365 \nL 124.781259 138.090541 \nL 125.085928 138.090541 \nL 125.085928 138.65792 \nL 125.390596 138.65792 \nL 125.390596 139.318454 \nL 125.999932 139.344306 \nL 125.999932 140.083626 \nL 126.304601 140.083626 \nL 126.304601 140.389018 \nL 126.609269 140.389018 \nL 126.609269 140.766845 \nL 126.913937 140.766845 \nL 126.913937 141.210662 \nL 127.218606 141.210662 \nL 127.218606 142.020813 \nL 127.523274 142.020813 \nL 127.523274 142.624323 \nL 127.827942 142.624323 \nL 127.827942 143.467176 \nL 128.132611 143.467176 \nL 128.132611 143.995516 \nL 128.437279 143.995516 \nL 128.437279 144.296504 \nL 128.741947 144.296504 \nL 128.741947 144.55873 \nL 129.046615 144.55873 \nL 129.046615 145.177297 \nL 129.351284 145.177297 \nL 129.351284 145.50339 \nL 129.655952 145.50339 \nL 129.655952 146.111379 \nL 129.96062 146.111379 \nL 129.96062 146.633221 \nL 130.569957 146.727067 \nL 130.569957 147.077427 \nL 130.874625 147.077427 \nL 130.874625 147.333243 \nL 131.179294 147.333243 \nL 131.179294 147.617683 \nL 131.78863 147.684792 \nL 131.78863 147.80702 \nL 132.093299 147.80702 \nL 132.093299 148.070206 \nL 132.397967 148.070206 \nL 132.397967 148.459083 \nL 132.702635 148.459083 \nL 132.702635 148.806605 \nL 133.311972 148.90695 \nL 133.311972 149.058812 \nL 133.61664 149.058812 \nL 133.61664 149.607116 \nL 133.921308 149.607116 \nL 133.921308 149.973761 \nL 134.225977 149.973761 \nL 134.225977 150.283851 \nL 134.835313 150.32361 \nL 134.835313 150.734338 \nL 135.44465 150.750373 \nL 135.44465 151.226305 \nL 135.749318 151.226305 \nL 135.749318 151.742003 \nL 136.358655 151.850472 \nL 136.358655 151.85312 \nL 136.663323 151.85312 \nL 136.663323 152.668097 \nL 136.967991 152.668097 \nL 136.967991 152.924659 \nL 137.27266 152.924659 \nL 137.27266 153.080881 \nL 137.577328 153.080881 \nL 137.577328 153.313428 \nL 137.881996 153.313428 \nL 137.881996 153.478714 \nL 138.186665 153.478714 \nL 138.186665 153.619573 \nL 138.796001 153.635737 \nL 138.796001 153.868946 \nL 139.405338 153.871313 \nL 139.405338 154.369369 \nL 139.710006 154.369369 \nL 139.710006 155.608603 \nL 140.014674 155.608603 \nL 140.014674 155.75971 \nL 140.319343 155.75971 \nL 140.319343 155.928302 \nL 140.624011 155.928302 \nL 140.624011 156.783442 \nL 140.928679 156.783442 \nL 140.928679 156.972768 \nL 141.233348 156.972768 \nL 141.233348 157.329212 \nL 141.538016 157.329212 \nL 141.538016 157.492044 \nL 142.452021 157.578364 \nL 142.452021 158.688007 \nL 143.061357 158.787804 \nL 143.061357 159.321714 \nL 143.366026 159.321714 \nL 143.366026 159.614844 \nL 143.975362 159.687462 \nL 143.975362 159.764996 \nL 144.280031 159.764996 \nL 144.280031 160.089491 \nL 144.584699 160.089491 \nL 144.584699 160.438557 \nL 144.889367 160.438557 \nL 144.889367 160.644802 \nL 145.194036 160.644802 \nL 145.194036 161.057782 \nL 145.498704 161.057782 \nL 145.498704 161.477552 \nL 145.803372 161.477552 \nL 145.803372 161.824139 \nL 146.108041 161.824139 \nL 146.108041 162.045099 \nL 146.412709 162.045099 \nL 146.412709 162.677298 \nL 146.717377 162.677298 \nL 146.717377 162.860903 \nL 147.022045 162.860903 \nL 147.022045 163.602366 \nL 147.631382 163.667798 \nL 147.631382 164.389454 \nL 147.93605 164.389454 \nL 147.93605 164.705559 \nL 148.545387 164.705792 \nL 148.545387 165.765365 \nL 149.459392 165.784172 \nL 149.459392 165.886639 \nL 149.76406 165.886639 \nL 149.76406 166.044938 \nL 150.068729 166.044938 \nL 150.068729 166.186838 \nL 150.373397 166.186838 \nL 150.373397 166.428311 \nL 150.678065 166.428311 \nL 150.678065 166.657163 \nL 150.982733 166.657163 \nL 150.982733 166.785506 \nL 151.896738 166.820944 \nL 151.896738 167.041663 \nL 152.201407 167.041663 \nL 152.201407 167.213095 \nL 152.506075 167.213095 \nL 152.506075 167.862169 \nL 152.810743 167.862169 \nL 152.810743 167.999393 \nL 153.115412 167.999393 \nL 153.115412 168.562154 \nL 153.724748 168.627553 \nL 153.724748 168.892361 \nL 154.029416 168.892361 \nL 154.029416 169.243122 \nL 154.334085 169.243122 \nL 154.334085 169.356726 \nL 154.638753 169.356726 \nL 154.638753 169.54429 \nL 155.24809 169.622457 \nL 155.24809 169.717885 \nL 155.552758 169.717885 \nL 155.552758 169.849359 \nL 155.857426 169.849359 \nL 155.857426 170.195756 \nL 156.162095 170.195756 \nL 156.162095 170.444227 \nL 156.771431 170.473469 \nL 156.771431 170.594925 \nL 157.0761 170.594925 \nL 157.0761 170.948581 \nL 157.685436 171.059453 \nL 157.685436 171.103213 \nL 157.990104 171.103213 \nL 157.990104 171.441123 \nL 158.904109 171.511182 \nL 158.904109 171.573651 \nL 160.122783 171.658411 \nL 160.122783 172.184515 \nL 160.427451 172.184515 \nL 160.427451 172.352266 \nL 161.036787 172.429328 \nL 161.036787 172.496614 \nL 161.646124 172.527764 \nL 161.646124 172.704778 \nL 161.950792 172.704778 \nL 161.950792 173.063008 \nL 162.864797 173.166531 \nL 162.864797 173.444232 \nL 163.169466 173.444232 \nL 163.169466 173.611721 \nL 164.083471 173.689704 \nL 164.083471 174.220092 \nL 164.388139 174.220092 \nL 164.388139 174.41845 \nL 164.997475 174.469406 \nL 164.997475 174.664041 \nL 165.606812 174.667169 \nL 165.606812 175.426366 \nL 165.91148 175.426366 \nL 165.91148 175.620883 \nL 166.216149 175.620883 \nL 166.216149 175.862155 \nL 167.130154 175.922413 \nL 167.130154 176.32208 \nL 167.434822 176.32208 \nL 167.434822 176.556695 \nL 168.044158 176.610223 \nL 168.044158 176.766412 \nL 168.348827 176.766412 \nL 168.348827 177.13319 \nL 168.653495 177.13319 \nL 168.653495 177.252988 \nL 169.262832 177.320868 \nL 169.262832 177.485791 \nL 169.5675 177.485791 \nL 169.5675 177.604669 \nL 170.481505 177.638845 \nL 170.481505 178.063495 \nL 170.786173 178.063495 \nL 170.786173 178.4007 \nL 171.39551 178.470384 \nL 171.39551 178.560153 \nL 172.004846 178.577481 \nL 172.004846 178.725538 \nL 172.614183 178.749585 \nL 172.614183 178.907895 \nL 172.918851 178.907895 \nL 172.918851 179.117861 \nL 173.22352 179.117861 \nL 173.22352 179.511906 \nL 173.528188 179.511906 \nL 173.528188 179.726508 \nL 173.832856 179.726508 \nL 173.832856 179.923803 \nL 174.137525 179.923803 \nL 174.137525 180.117166 \nL 174.442193 180.117166 \nL 174.442193 180.756206 \nL 175.051529 180.852482 \nL 175.051529 181.0318 \nL 175.356198 181.0318 \nL 175.356198 181.17658 \nL 176.270203 181.237596 \nL 176.270203 181.455803 \nL 176.879539 181.487806 \nL 176.879539 181.655925 \nL 177.184208 181.655925 \nL 177.184208 181.84992 \nL 177.793544 181.902986 \nL 177.793544 182.062365 \nL 178.402881 182.137422 \nL 178.402881 182.410051 \nL 179.012217 182.518806 \nL 179.012217 182.605196 \nL 179.316886 182.605196 \nL 179.316886 182.732971 \nL 179.621554 182.732971 \nL 179.621554 182.885361 \nL 179.926222 182.885361 \nL 179.926222 183.03555 \nL 180.230891 183.03555 \nL 180.230891 183.281988 \nL 180.535559 183.281988 \nL 180.535559 183.436984 \nL 180.840227 183.436984 \nL 180.840227 183.726106 \nL 181.144896 183.726106 \nL 181.144896 183.941341 \nL 181.754232 183.96562 \nL 181.754232 184.19464 \nL 182.0589 184.19464 \nL 182.0589 184.4366 \nL 183.277574 184.491649 \nL 183.277574 184.603221 \nL 183.88691 184.648508 \nL 183.88691 184.768424 \nL 184.191579 184.768424 \nL 184.191579 185.268983 \nL 185.105584 185.333632 \nL 185.105584 185.388781 \nL 185.410252 185.388781 \nL 185.410252 185.550693 \nL 185.71492 185.550693 \nL 185.71492 185.789532 \nL 186.019588 185.789532 \nL 186.019588 185.932396 \nL 186.628925 185.993424 \nL 186.628925 186.193903 \nL 187.847598 186.265509 \nL 187.847598 186.460381 \nL 188.152267 186.460381 \nL 188.152267 186.616378 \nL 189.066271 186.704713 \nL 189.066271 186.864881 \nL 189.37094 186.864881 \nL 189.37094 187.019617 \nL 189.980276 187.062461 \nL 189.980276 187.265572 \nL 190.284945 187.265572 \nL 190.284945 187.830369 \nL 190.589613 187.830369 \nL 190.589613 187.957784 \nL 191.19895 187.985749 \nL 191.19895 188.088109 \nL 191.808286 188.194797 \nL 191.808286 188.232843 \nL 192.722291 188.287334 \nL 192.722291 188.344655 \nL 193.331628 188.386115 \nL 193.331628 188.588522 \nL 193.940964 188.60833 \nL 193.940964 188.900791 \nL 194.550301 188.924757 \nL 194.550301 189.08418 \nL 195.464306 189.142386 \nL 195.464306 189.280607 \nL 195.768974 189.280607 \nL 195.768974 189.500904 \nL 196.378311 189.557445 \nL 196.378311 189.63464 \nL 196.682979 189.63464 \nL 196.682979 189.757755 \nL 197.596984 189.867133 \nL 197.596984 190.018819 \nL 198.510989 190.114303 \nL 198.510989 190.151406 \nL 198.815657 190.151406 \nL 198.815657 190.272101 \nL 199.120326 190.272101 \nL 199.120326 190.572521 \nL 199.729662 190.638366 \nL 199.729662 190.738032 \nL 200.948335 190.802593 \nL 200.948335 190.885697 \nL 201.253004 190.885697 \nL 201.253004 191.070906 \nL 201.86234 191.100348 \nL 201.86234 191.228987 \nL 202.167009 191.228987 \nL 202.167009 191.353453 \nL 202.471677 191.353453 \nL 202.471677 191.521511 \nL 203.385682 191.588046 \nL 203.385682 191.982269 \nL 204.299687 192.086603 \nL 204.299687 192.141718 \nL 205.213692 192.20755 \nL 205.213692 192.356809 \nL 205.823028 192.459239 \nL 205.823028 192.471742 \nL 206.127697 192.471742 \nL 206.127697 192.704852 \nL 206.432365 192.704852 \nL 206.432365 192.997572 \nL 206.737033 192.997572 \nL 206.737033 193.156047 \nL 207.34637 193.199898 \nL 207.34637 193.376981 \nL 208.260375 193.470501 \nL 208.260375 193.662879 \nL 208.565043 193.662879 \nL 208.565043 193.795561 \nL 209.479048 193.895231 \nL 209.479048 193.929842 \nL 210.088385 193.999704 \nL 210.088385 194.05364 \nL 210.697721 194.12218 \nL 210.697721 194.336127 \nL 211.307058 194.4134 \nL 211.307058 194.465743 \nL 211.611726 194.465743 \nL 211.611726 194.628093 \nL 211.916394 194.628093 \nL 211.916394 194.788051 \nL 212.830399 194.854165 \nL 212.830399 195.055164 \nL 213.439736 195.115608 \nL 213.439736 195.559631 \nL 214.963077 195.659263 \nL 214.963077 195.791598 \nL 215.877082 195.877948 \nL 215.877082 195.991726 \nL 216.791087 196.043638 \nL 216.791087 196.123891 \nL 217.095756 196.123891 \nL 217.095756 196.468737 \nL 217.705092 196.551136 \nL 217.705092 196.610981 \nL 218.314429 196.673668 \nL 218.314429 196.928416 \nL 218.923765 197.02079 \nL 218.923765 197.29491 \nL 219.533102 197.302461 \nL 219.533102 197.413871 \nL 220.447107 197.489685 \nL 220.447107 197.632265 \nL 220.751775 197.632265 \nL 220.751775 197.761594 \nL 221.361112 197.798122 \nL 221.361112 197.924078 \nL 221.66578 197.924078 \nL 221.66578 198.04383 \nL 222.275117 198.13699 \nL 222.275117 198.181805 \nL 223.189122 198.228464 \nL 223.189122 198.297926 \nL 224.103127 198.325283 \nL 224.103127 198.565202 \nL 225.017131 198.628933 \nL 225.017131 198.755426 \nL 226.540473 198.864294 \nL 226.540473 198.876796 \nL 226.845141 198.876796 \nL 226.845141 199.255668 \nL 227.759146 199.320842 \nL 227.759146 199.392801 \nL 228.673151 199.485772 \nL 228.673151 199.526518 \nL 230.196493 199.583862 \nL 230.196493 199.686345 \nL 230.501161 199.686345 \nL 230.501161 199.802123 \nL 230.805829 199.802123 \nL 230.805829 199.913686 \nL 232.024502 199.947948 \nL 232.024502 200.061003 \nL 232.633839 200.063918 \nL 232.633839 200.200372 \nL 233.852512 200.306263 \nL 233.852512 200.330732 \nL 234.461849 200.336499 \nL 234.461849 200.548499 \nL 235.071186 200.589595 \nL 235.071186 200.698006 \nL 235.375854 200.698006 \nL 235.375854 200.951251 \nL 236.594527 201.059726 \nL 236.594527 201.150387 \nL 237.8132 201.226536 \nL 237.8132 201.293921 \nL 238.117869 201.293921 \nL 238.117869 201.418714 \nL 239.336542 201.488369 \nL 239.336542 201.561378 \nL 239.64121 201.561378 \nL 239.64121 201.835255 \nL 240.250547 201.862607 \nL 240.250547 201.952384 \nL 241.46922 201.988413 \nL 241.46922 202.182004 \nL 242.687893 202.250994 \nL 242.687893 202.334794 \nL 242.992561 202.334794 \nL 242.992561 202.455482 \nL 243.601898 202.470586 \nL 243.601898 202.570449 \nL 244.515903 202.664806 \nL 244.515903 202.743365 \nL 245.734576 202.783447 \nL 245.734576 202.939803 \nL 246.953249 203.038767 \nL 246.953249 203.055627 \nL 247.867254 203.153746 \nL 247.867254 203.188506 \nL 249.999932 203.293884 \nL 249.999932 203.312582 \nL 250.304601 203.312582 \nL 250.304601 203.507095 \nL 251.218606 203.582643 \nL 251.218606 203.622768 \nL 252.132611 203.733427 \nL 252.132611 203.856945 \nL 253.046615 203.874013 \nL 253.046615 203.994257 \nL 253.655952 203.994695 \nL 253.655952 204.15518 \nL 254.569957 204.20781 \nL 254.569957 204.279251 \nL 255.483962 204.339429 \nL 255.483962 204.39118 \nL 256.702635 204.498741 \nL 256.702635 204.543837 \nL 257.007303 204.543837 \nL 257.007303 204.703308 \nL 257.921308 204.788282 \nL 257.921308 204.839977 \nL 258.225977 204.839977 \nL 258.225977 204.958224 \nL 259.44465 204.994717 \nL 259.44465 205.086435 \nL 261.27266 205.191272 \nL 261.27266 205.201619 \nL 262.796001 205.296896 \nL 262.796001 205.320828 \nL 263.710006 205.402475 \nL 263.710006 205.467657 \nL 264.624011 205.557968 \nL 264.624011 205.596419 \nL 266.452021 205.696997 \nL 266.452021 205.755604 \nL 268.584699 205.856141 \nL 268.584699 205.917218 \nL 269.194036 205.966088 \nL 269.194036 206.029407 \nL 270.412709 206.121566 \nL 270.412709 206.173786 \nL 272.545387 206.267408 \nL 272.545387 206.305437 \nL 273.154724 206.411819 \nL 273.154724 206.421851 \nL 274.373397 206.518853 \nL 274.373397 206.553234 \nL 275.59207 206.654574 \nL 275.59207 206.675746 \nL 276.506075 206.743969 \nL 276.506075 206.792448 \nL 277.724748 206.899736 \nL 277.724748 206.917796 \nL 278.029416 206.917796 \nL 278.029416 207.092999 \nL 279.24809 207.164514 \nL 279.24809 207.206366 \nL 281.0761 207.311495 \nL 281.0761 207.367241 \nL 282.904109 207.449311 \nL 282.904109 207.524525 \nL 284.732119 207.588464 \nL 284.732119 207.638963 \nL 286.255461 207.725746 \nL 286.255461 207.82861 \nL 288.083471 207.932318 \nL 288.083471 208.004371 \nL 288.997475 208.112784 \nL 288.997475 208.134534 \nL 289.606812 208.211671 \nL 289.606812 208.298517 \nL 291.73949 208.366542 \nL 291.73949 208.479418 \nL 292.958163 208.490264 \nL 292.958163 208.605114 \nL 293.872168 208.689857 \nL 293.872168 208.718816 \nL 295.090842 208.781586 \nL 295.090842 208.831565 \nL 296.918851 208.929807 \nL 296.918851 208.985114 \nL 299.051529 209.078637 \nL 299.051529 209.171408 \nL 301.793544 209.262546 \nL 301.793544 209.313475 \nL 302.402881 209.330775 \nL 302.402881 209.454438 \nL 303.621554 209.549445 \nL 303.621554 209.597216 \nL 304.535559 209.679954 \nL 304.535559 209.709754 \nL 305.754232 209.801484 \nL 305.754232 209.839139 \nL 308.191579 209.921108 \nL 308.191579 209.954779 \nL 308.800915 209.985706 \nL 308.800915 210.077791 \nL 310.628925 210.181089 \nL 310.628925 210.24109 \nL 311.54293 210.301475 \nL 311.54293 210.373507 \nL 312.152267 210.480291 \nL 312.152267 210.585932 \nL 315.19895 210.671193 \nL 315.19895 210.699023 \nL 316.722291 210.794087 \nL 316.722291 210.834061 \nL 318.550301 210.939149 \nL 318.550301 210.977499 \nL 319.464306 211.021707 \nL 319.464306 211.115988 \nL 321.596984 211.216023 \nL 321.596984 211.254178 \nL 322.510989 211.342001 \nL 322.510989 211.377149 \nL 324.338999 211.464879 \nL 324.338999 211.592389 \nL 325.86234 211.683444 \nL 325.86234 211.723597 \nL 328.299687 211.831967 \nL 328.299687 211.860451 \nL 329.51836 211.969848 \nL 329.51836 211.984088 \nL 331.651038 212.087312 \nL 331.651038 212.122948 \nL 332.869711 212.173159 \nL 332.869711 212.242347 \nL 336.525731 212.345696 \nL 336.525731 212.374287 \nL 337.439736 212.439534 \nL 337.439736 212.50545 \nL 340.486419 212.609584 \nL 340.486419 212.62258 \nL 342.314429 212.706388 \nL 342.314429 212.739538 \nL 343.83777 212.846932 \nL 343.83777 212.852439 \nL 346.275117 212.950542 \nL 346.275117 212.987208 \nL 347.49379 213.027947 \nL 347.49379 213.111096 \nL 348.712463 213.206793 \nL 348.712463 213.253759 \nL 350.235805 213.359907 \nL 350.235805 213.368562 \nL 354.196493 213.47671 \nL 354.196493 213.496371 \nL 356.329171 213.576627 \nL 356.329171 213.611195 \nL 359.375854 213.711238 \nL 359.375854 213.725947 \nL 361.8132 213.835675 \nL 361.8132 213.84733 \nL 363.64121 213.943863 \nL 363.64121 213.969041 \nL 365.164552 214.053282 \nL 365.164552 214.087692 \nL 368.820571 214.19574 \nL 368.820571 214.199389 \nL 372.476591 214.309816 \nL 372.476591 214.317517 \nL 373.695264 214.414741 \nL 373.695264 214.440916 \nL 377.046615 214.54636 \nL 377.046615 214.568884 \nL 381.61664 214.677443 \nL 381.61664 214.684106 \nL 383.749318 214.756364 \nL 383.749318 214.756364 \n\" clip-path=\"url(#pb72dae7ca6)\" style=\"fill: none; stroke: #0071bc; stroke-width: 1.5; stroke-linecap: square\"/>\n   </g>\n   <g id=\"line2d_14\">\n    <path d=\"M 79.385682 116.880308 \nL 79.385682 117.205664 \nL 80.299687 117.249981 \nL 80.299687 117.468043 \nL 80.604355 117.468043 \nL 80.604355 117.898459 \nL 81.213692 117.983256 \nL 81.213692 118.308182 \nL 81.51836 118.308182 \nL 81.51836 119.668753 \nL 82.737033 119.763999 \nL 82.737033 119.899702 \nL 83.651038 120.004547 \nL 83.651038 120.069353 \nL 83.955706 120.069353 \nL 83.955706 120.783624 \nL 84.260375 120.783624 \nL 84.260375 121.201202 \nL 84.565043 121.201202 \nL 84.565043 121.432158 \nL 85.17438 121.434714 \nL 85.17438 121.881961 \nL 85.783716 121.933248 \nL 85.783716 122.385419 \nL 86.697721 122.458653 \nL 86.697721 122.671255 \nL 87.002389 122.671255 \nL 87.002389 122.966372 \nL 87.307058 122.966372 \nL 87.307058 123.30646 \nL 87.611726 123.30646 \nL 87.611726 123.893658 \nL 87.916394 123.893658 \nL 87.916394 124.118075 \nL 88.221063 124.118075 \nL 88.221063 124.449979 \nL 88.525731 124.449979 \nL 88.525731 125.017782 \nL 88.830399 125.017782 \nL 88.830399 125.538149 \nL 89.135068 125.538149 \nL 89.135068 125.888294 \nL 89.439736 125.888294 \nL 89.439736 126.135891 \nL 90.049072 126.166612 \nL 90.049072 126.418991 \nL 90.353741 126.418991 \nL 90.353741 126.611558 \nL 90.658409 126.611558 \nL 90.658409 127.364055 \nL 90.963077 127.364055 \nL 90.963077 127.499036 \nL 91.267746 127.499036 \nL 91.267746 127.731678 \nL 91.572414 127.731678 \nL 91.572414 128.029435 \nL 91.877082 128.029435 \nL 91.877082 128.448348 \nL 92.486419 128.491233 \nL 92.486419 128.610485 \nL 92.791087 128.610485 \nL 92.791087 129.289425 \nL 93.400424 129.349084 \nL 93.400424 129.857761 \nL 93.705092 129.857761 \nL 93.705092 130.030669 \nL 94.00976 130.030669 \nL 94.00976 130.352504 \nL 94.314429 130.352504 \nL 94.314429 130.519204 \nL 94.619097 130.519204 \nL 94.619097 130.811248 \nL 94.923765 130.811248 \nL 94.923765 131.048429 \nL 95.228434 131.048429 \nL 95.228434 131.72337 \nL 95.83777 131.81689 \nL 95.83777 131.917781 \nL 96.142439 131.917781 \nL 96.142439 132.137331 \nL 97.056443 132.232333 \nL 97.056443 132.492148 \nL 97.66578 132.515088 \nL 97.66578 132.783638 \nL 98.275117 132.877279 \nL 98.275117 133.220795 \nL 98.884453 133.327633 \nL 98.884453 134.181919 \nL 99.49379 134.196007 \nL 99.49379 134.641822 \nL 99.798458 134.641822 \nL 99.798458 134.848898 \nL 100.407795 134.941557 \nL 100.407795 135.296319 \nL 101.017131 135.387534 \nL 101.017131 135.600359 \nL 101.3218 135.600359 \nL 101.3218 135.713144 \nL 102.235805 135.759414 \nL 102.235805 136.643896 \nL 102.540473 136.643896 \nL 102.540473 137.354131 \nL 102.845141 137.354131 \nL 102.845141 137.549475 \nL 103.454478 137.651857 \nL 103.454478 137.914439 \nL 103.759146 137.914439 \nL 103.759146 138.522467 \nL 104.063814 138.522467 \nL 104.063814 138.704728 \nL 104.368483 138.704728 \nL 104.368483 139.482938 \nL 104.977819 139.529811 \nL 104.977819 140.592361 \nL 105.587156 140.676791 \nL 105.587156 141.030251 \nL 106.196493 141.07094 \nL 106.196493 141.185667 \nL 106.805829 141.272729 \nL 106.805829 141.438362 \nL 107.415166 141.488313 \nL 107.415166 141.780144 \nL 107.719834 141.780144 \nL 107.719834 142.077062 \nL 108.024502 142.077062 \nL 108.024502 142.393704 \nL 108.329171 142.393704 \nL 108.329171 142.537937 \nL 108.633839 142.537937 \nL 108.633839 142.903671 \nL 108.938507 142.903671 \nL 108.938507 143.38058 \nL 109.243176 143.38058 \nL 109.243176 143.86539 \nL 109.852512 143.926271 \nL 109.852512 144.045969 \nL 110.157181 144.045969 \nL 110.157181 144.272552 \nL 110.766517 144.358394 \nL 110.766517 144.502955 \nL 111.071186 144.502955 \nL 111.071186 144.690024 \nL 111.375854 144.690024 \nL 111.375854 145.099748 \nL 111.98519 145.165392 \nL 111.98519 145.34694 \nL 112.289859 145.34694 \nL 112.289859 145.597131 \nL 112.899195 145.612101 \nL 112.899195 146.270496 \nL 113.203864 146.270496 \nL 113.203864 146.770026 \nL 113.508532 146.770026 \nL 113.508532 147.20847 \nL 114.117869 147.303634 \nL 114.117869 147.408887 \nL 114.727205 147.479697 \nL 114.727205 147.821214 \nL 115.031873 147.821214 \nL 115.031873 148.185487 \nL 115.945878 148.282932 \nL 115.945878 148.386812 \nL 116.250547 148.386812 \nL 116.250547 148.504608 \nL 116.555215 148.504608 \nL 116.555215 148.785979 \nL 116.859883 148.785979 \nL 116.859883 149.099435 \nL 117.164552 149.099435 \nL 117.164552 149.296543 \nL 118.078557 149.393507 \nL 118.078557 149.642088 \nL 118.687893 149.703705 \nL 118.687893 149.76281 \nL 119.29723 149.855901 \nL 119.29723 149.944681 \nL 119.601898 149.944681 \nL 119.601898 150.804375 \nL 120.211235 150.878605 \nL 120.211235 151.025688 \nL 120.515903 151.025688 \nL 120.515903 151.680913 \nL 120.820571 151.680913 \nL 120.820571 152.013286 \nL 121.12524 152.013286 \nL 121.12524 152.230698 \nL 121.429908 152.230698 \nL 121.429908 152.497534 \nL 121.734576 152.497534 \nL 121.734576 152.643346 \nL 122.039244 152.643346 \nL 122.039244 152.823641 \nL 122.343913 152.823641 \nL 122.343913 153.236341 \nL 122.648581 153.236341 \nL 122.648581 153.693297 \nL 123.257918 153.773243 \nL 123.257918 154.127484 \nL 124.476591 154.233548 \nL 124.476591 154.395079 \nL 124.781259 154.395079 \nL 124.781259 154.657 \nL 125.085928 154.657 \nL 125.085928 154.884654 \nL 125.390596 154.884654 \nL 125.390596 155.150672 \nL 125.999932 155.161105 \nL 125.999932 155.460173 \nL 126.304601 155.460173 \nL 126.304601 155.584106 \nL 126.609269 155.584106 \nL 126.609269 155.737759 \nL 126.913937 155.737759 \nL 126.913937 155.918708 \nL 127.218606 155.918708 \nL 127.218606 156.250312 \nL 127.523274 156.250312 \nL 127.523274 156.498437 \nL 127.827942 156.498437 \nL 127.827942 156.846561 \nL 128.132611 156.846561 \nL 128.132611 157.065742 \nL 128.437279 157.065742 \nL 128.437279 157.190941 \nL 129.046615 157.300216 \nL 129.046615 157.558727 \nL 129.351284 157.558727 \nL 129.351284 157.69543 \nL 129.655952 157.69543 \nL 129.655952 157.951094 \nL 129.96062 157.951094 \nL 129.96062 158.171358 \nL 130.569957 158.21105 \nL 130.569957 158.359458 \nL 131.179294 158.46804 \nL 131.179294 158.588991 \nL 132.093299 158.669632 \nL 132.093299 158.781897 \nL 132.397967 158.781897 \nL 132.397967 158.948149 \nL 132.702635 158.948149 \nL 132.702635 159.097094 \nL 133.61664 159.205413 \nL 133.61664 159.441553 \nL 133.921308 159.441553 \nL 133.921308 159.599961 \nL 134.225977 159.599961 \nL 134.225977 159.734251 \nL 134.835313 159.751491 \nL 134.835313 159.929867 \nL 135.44465 159.936842 \nL 135.44465 160.144208 \nL 135.749318 160.144208 \nL 135.749318 160.369697 \nL 136.663323 160.418392 \nL 136.663323 160.776738 \nL 136.967991 160.776738 \nL 136.967991 160.889987 \nL 137.577328 160.95905 \nL 137.577328 161.062 \nL 138.186665 161.13528 \nL 138.186665 161.197801 \nL 139.10067 161.308646 \nL 139.10067 161.309699 \nL 139.405338 161.309699 \nL 139.405338 161.5317 \nL 139.710006 161.5317 \nL 139.710006 162.087678 \nL 140.319343 162.155828 \nL 140.319343 162.231958 \nL 140.624011 162.231958 \nL 140.624011 162.619622 \nL 141.233348 162.705796 \nL 141.233348 162.86838 \nL 142.147353 162.969283 \nL 142.147353 162.982295 \nL 142.452021 162.982295 \nL 142.452021 163.492355 \nL 143.061357 163.538448 \nL 143.061357 163.785671 \nL 143.366026 163.785671 \nL 143.366026 163.921856 \nL 144.280031 163.991739 \nL 144.280031 164.143057 \nL 144.584699 164.143057 \nL 144.584699 164.306281 \nL 145.194036 164.402941 \nL 145.194036 164.596985 \nL 145.498704 164.596985 \nL 145.498704 164.794902 \nL 145.803372 164.794902 \nL 145.803372 164.958837 \nL 146.412709 165.063599 \nL 146.412709 165.364423 \nL 147.022045 165.452092 \nL 147.022045 165.807539 \nL 147.631382 165.839015 \nL 147.631382 166.187362 \nL 147.93605 166.187362 \nL 147.93605 166.340642 \nL 148.545387 166.340755 \nL 148.545387 166.857686 \nL 149.76406 166.917165 \nL 149.76406 166.9949 \nL 150.373397 167.064677 \nL 150.373397 167.183624 \nL 150.678065 167.183624 \nL 150.678065 167.296595 \nL 151.896738 167.377589 \nL 151.896738 167.486933 \nL 152.506075 167.572014 \nL 152.506075 167.895373 \nL 153.115412 167.963986 \nL 153.115412 168.246299 \nL 153.724748 168.279204 \nL 153.724748 168.41265 \nL 154.029416 168.41265 \nL 154.029416 168.58993 \nL 154.638753 168.647475 \nL 154.638753 168.742621 \nL 155.552758 168.830835 \nL 155.552758 168.897743 \nL 155.857426 168.897743 \nL 155.857426 169.074437 \nL 156.162095 169.074437 \nL 156.162095 169.201548 \nL 157.0761 169.278792 \nL 157.0761 169.46052 \nL 157.990104 169.540178 \nL 157.990104 169.714679 \nL 159.513446 169.813995 \nL 159.513446 169.826685 \nL 160.122783 169.827201 \nL 160.122783 170.100665 \nL 160.732119 170.188168 \nL 160.732119 170.228415 \nL 161.646124 170.279872 \nL 161.646124 170.372535 \nL 161.950792 170.372535 \nL 161.950792 170.560578 \nL 162.864797 170.615049 \nL 162.864797 170.761458 \nL 163.474134 170.849966 \nL 163.474134 170.872845 \nL 164.083471 170.891228 \nL 164.083471 171.172767 \nL 164.692807 171.278465 \nL 164.692807 171.305654 \nL 165.606812 171.411315 \nL 165.606812 171.819031 \nL 166.216149 171.924035 \nL 166.216149 172.054588 \nL 167.130154 172.087248 \nL 167.130154 172.304418 \nL 167.434822 172.304418 \nL 167.434822 172.432351 \nL 168.044158 172.461586 \nL 168.044158 172.546991 \nL 168.348827 172.546991 \nL 168.348827 172.748137 \nL 169.262832 172.851384 \nL 169.262832 172.942294 \nL 170.481505 173.026816 \nL 170.481505 173.262098 \nL 170.786173 173.262098 \nL 170.786173 173.449753 \nL 172.004846 173.548426 \nL 172.004846 173.631222 \nL 172.918851 173.733399 \nL 172.918851 173.851317 \nL 173.22352 173.851317 \nL 173.22352 174.073407 \nL 173.528188 174.073407 \nL 173.528188 174.1948 \nL 173.832856 174.1948 \nL 173.832856 174.306679 \nL 174.442193 174.416587 \nL 174.442193 174.781663 \nL 175.051529 174.836913 \nL 175.051529 174.939993 \nL 175.965534 175.046974 \nL 175.965534 175.058576 \nL 176.270203 175.058576 \nL 176.270203 175.184643 \nL 176.879539 175.203161 \nL 176.879539 175.300564 \nL 177.184208 175.300564 \nL 177.184208 175.413216 \nL 177.793544 175.444079 \nL 177.793544 175.536899 \nL 178.402881 175.580676 \nL 178.402881 175.74004 \nL 179.012217 175.803768 \nL 179.012217 175.854454 \nL 179.621554 175.929525 \nL 179.621554 176.01922 \nL 180.230891 176.107794 \nL 180.230891 176.253507 \nL 180.840227 176.345393 \nL 180.840227 176.517297 \nL 181.144896 176.517297 \nL 181.144896 176.645699 \nL 181.754232 176.660206 \nL 181.754232 176.797282 \nL 182.0589 176.797282 \nL 182.0589 176.942562 \nL 183.582242 177.042883 \nL 183.582242 177.070189 \nL 184.191579 177.142575 \nL 184.191579 177.446018 \nL 185.410252 177.518952 \nL 185.410252 177.617719 \nL 185.71492 177.617719 \nL 185.71492 177.763819 \nL 186.324257 177.851445 \nL 186.324257 177.888931 \nL 186.628925 177.888931 \nL 186.628925 178.012299 \nL 187.847598 178.056448 \nL 187.847598 178.176827 \nL 188.456935 178.273433 \nL 188.456935 178.316165 \nL 189.066271 178.328234 \nL 189.066271 178.427776 \nL 189.675608 178.524161 \nL 189.675608 178.550888 \nL 189.980276 178.550888 \nL 189.980276 178.677816 \nL 190.284945 178.677816 \nL 190.284945 179.032768 \nL 191.19895 179.130941 \nL 191.19895 179.195739 \nL 192.112955 179.287533 \nL 192.112955 179.31947 \nL 193.331628 179.38496 \nL 193.331628 179.513967 \nL 193.940964 179.526613 \nL 193.940964 179.713779 \nL 194.550301 179.729154 \nL 194.550301 179.831572 \nL 195.464306 179.869029 \nL 195.464306 179.958112 \nL 195.768974 179.958112 \nL 195.768974 180.10049 \nL 196.682979 180.187163 \nL 196.682979 180.267115 \nL 197.596984 180.338277 \nL 197.596984 180.437169 \nL 198.815657 180.523805 \nL 198.815657 180.60283 \nL 199.120326 180.60283 \nL 199.120326 180.8002 \nL 200.03433 180.909349 \nL 200.03433 180.918102 \nL 201.253004 181.006977 \nL 201.253004 181.129763 \nL 202.167009 181.234861 \nL 202.167009 181.317805 \nL 202.471677 181.317805 \nL 202.471677 181.43007 \nL 203.385682 181.474605 \nL 203.385682 181.739497 \nL 204.604355 181.847141 \nL 204.604355 181.887582 \nL 205.51836 181.992813 \nL 205.51836 182.062375 \nL 206.127697 182.070875 \nL 206.127697 182.229678 \nL 206.432365 182.229678 \nL 206.432365 182.430007 \nL 207.041701 182.538894 \nL 207.041701 182.569077 \nL 207.34637 182.569077 \nL 207.34637 182.691207 \nL 208.260375 182.755861 \nL 208.260375 182.889201 \nL 209.17438 182.99294 \nL 209.17438 183.050865 \nL 210.393053 183.161475 \nL 210.393053 183.209432 \nL 210.697721 183.209432 \nL 210.697721 183.359519 \nL 211.611726 183.450737 \nL 211.611726 183.5653 \nL 211.916394 183.5653 \nL 211.916394 183.678516 \nL 212.830399 183.72541 \nL 212.830399 183.868337 \nL 213.439736 183.911424 \nL 213.439736 184.229475 \nL 214.963077 184.301215 \nL 214.963077 184.396719 \nL 215.877082 184.459169 \nL 215.877082 184.541618 \nL 217.095756 184.637623 \nL 217.095756 184.889308 \nL 218.00976 184.993632 \nL 218.00976 185.039702 \nL 218.314429 185.039702 \nL 218.314429 185.227528 \nL 218.923765 185.295878 \nL 218.923765 185.499469 \nL 219.83777 185.588183 \nL 219.83777 185.632593 \nL 220.447107 185.644836 \nL 220.447107 185.751623 \nL 221.056443 185.848764 \nL 221.056443 185.876249 \nL 221.66578 185.971186 \nL 221.66578 186.061682 \nL 222.579785 186.166239 \nL 222.579785 186.18574 \nL 224.103127 186.275296 \nL 224.103127 186.458419 \nL 225.017131 186.507224 \nL 225.017131 186.604295 \nL 226.845141 186.697691 \nL 226.845141 186.990868 \nL 228.063814 187.097602 \nL 228.063814 187.143201 \nL 230.196493 187.246865 \nL 230.196493 187.327199 \nL 230.805829 187.418181 \nL 230.805829 187.506083 \nL 232.024502 187.533124 \nL 232.024502 187.622506 \nL 232.938507 187.733019 \nL 232.938507 187.773274 \nL 234.461849 187.841313 \nL 234.461849 188.010665 \nL 235.071186 188.043594 \nL 235.071186 188.130615 \nL 235.375854 188.130615 \nL 235.375854 188.334787 \nL 236.594527 188.422629 \nL 236.594527 188.496225 \nL 237.8132 188.558169 \nL 237.8132 188.613081 \nL 238.727205 188.722666 \nL 238.727205 188.753402 \nL 239.64121 188.831945 \nL 239.64121 189.057598 \nL 240.859883 189.165706 \nL 240.859883 189.173604 \nL 241.46922 189.184478 \nL 241.46922 189.345572 \nL 242.687893 189.403177 \nL 242.687893 189.473288 \nL 243.29723 189.574533 \nL 243.29723 189.587226 \nL 243.906566 189.671279 \nL 243.906566 189.707419 \nL 244.820571 189.817348 \nL 244.820571 189.830102 \nL 245.734576 189.851303 \nL 245.734576 189.984111 \nL 247.562586 190.086804 \nL 247.562586 190.166749 \nL 249.695264 190.268389 \nL 249.695264 190.286962 \nL 250.304601 190.303037 \nL 250.304601 190.470757 \nL 251.523274 190.570929 \nL 251.523274 190.585076 \nL 252.132611 190.667065 \nL 252.132611 190.774728 \nL 253.046615 190.789635 \nL 253.046615 190.894861 \nL 253.655952 190.895246 \nL 253.655952 191.036258 \nL 254.874625 191.145724 \nL 254.874625 191.156717 \nL 256.093299 191.259745 \nL 256.093299 191.33854 \nL 257.007303 191.3805 \nL 257.007303 191.522896 \nL 257.921308 191.599049 \nL 257.921308 191.645474 \nL 258.835313 191.754189 \nL 258.835313 191.784359 \nL 260.053986 191.883004 \nL 260.053986 191.911014 \nL 261.881996 191.988256 \nL 261.881996 192.040036 \nL 263.405338 192.09616 \nL 263.405338 192.155386 \nL 264.014674 192.215051 \nL 264.014674 192.283721 \nL 265.538016 192.383753 \nL 265.538016 192.415771 \nL 267.670694 192.518813 \nL 267.670694 192.559011 \nL 268.889367 192.62993 \nL 268.889367 192.675391 \nL 270.108041 192.76074 \nL 270.108041 192.820505 \nL 271.93605 192.926067 \nL 271.93605 192.942253 \nL 272.850055 192.993077 \nL 272.850055 193.093402 \nL 274.373397 193.194702 \nL 274.373397 193.227319 \nL 275.59207 193.323679 \nL 275.59207 193.343852 \nL 276.506075 193.408956 \nL 276.506075 193.455312 \nL 277.724748 193.558174 \nL 277.724748 193.575526 \nL 278.029416 193.575526 \nL 278.029416 193.744429 \nL 279.552758 193.854272 \nL 279.552758 193.860486 \nL 281.0761 193.956526 \nL 281.0761 194.010903 \nL 282.904109 194.091155 \nL 282.904109 194.164909 \nL 284.732119 194.227765 \nL 284.732119 194.277512 \nL 286.255461 194.363216 \nL 286.255461 194.465155 \nL 288.083471 194.568321 \nL 288.083471 194.640233 \nL 288.997475 194.748799 \nL 288.997475 194.770633 \nL 289.606812 194.848214 \nL 289.606812 194.93583 \nL 291.73949 195.004662 \nL 291.73949 195.119276 \nL 292.958163 195.130314 \nL 292.958163 195.247497 \nL 293.872168 195.3343 \nL 293.872168 195.364029 \nL 295.090842 195.428585 \nL 295.090842 195.480101 \nL 296.918851 195.581663 \nL 296.918851 195.639017 \nL 299.051529 195.736291 \nL 299.051529 195.83315 \nL 301.793544 195.928662 \nL 301.793544 195.982192 \nL 302.402881 196.000401 \nL 302.402881 196.130945 \nL 303.621554 196.231698 \nL 303.621554 196.282512 \nL 304.535559 196.370763 \nL 304.535559 196.402624 \nL 305.754232 196.500959 \nL 305.754232 196.541437 \nL 308.191579 196.629782 \nL 308.191579 196.666162 \nL 308.800915 196.699626 \nL 308.800915 196.799533 \nL 310.324257 196.875147 \nL 310.324257 196.912091 \nL 311.238262 197.019772 \nL 311.238262 197.043926 \nL 311.847598 197.123152 \nL 311.847598 197.241077 \nL 312.152267 197.241077 \nL 312.152267 197.35831 \nL 315.19895 197.453345 \nL 315.19895 197.484448 \nL 316.722291 197.590996 \nL 316.722291 197.635941 \nL 318.245633 197.738469 \nL 318.245633 197.754508 \nL 319.464306 197.848073 \nL 319.464306 197.955382 \nL 320.987647 198.065882 \nL 320.987647 198.068826 \nL 321.901652 198.11356 \nL 321.901652 198.213563 \nL 324.03433 198.316249 \nL 324.03433 198.356831 \nL 324.338999 198.356831 \nL 324.338999 198.505306 \nL 325.86234 198.611925 \nL 325.86234 198.659101 \nL 327.995018 198.744766 \nL 327.995018 198.786915 \nL 328.909023 198.822117 \nL 328.909023 198.918945 \nL 330.737033 199.011217 \nL 330.737033 199.043174 \nL 332.260375 199.134381 \nL 332.260375 199.183407 \nL 333.479048 199.284359 \nL 333.479048 199.296572 \nL 336.525731 199.40293 \nL 336.525731 199.437722 \nL 337.439736 199.517326 \nL 337.439736 199.598042 \nL 340.181751 199.697967 \nL 340.181751 199.72617 \nL 341.705092 199.792955 \nL 341.705092 199.842234 \nL 343.228434 199.948369 \nL 343.228434 199.95831 \nL 344.142439 200.027968 \nL 344.142439 200.082837 \nL 346.275117 200.151098 \nL 346.275117 200.197302 \nL 347.49379 200.248756 \nL 347.49379 200.354166 \nL 348.407795 200.460155 \nL 348.407795 200.476141 \nL 349.3218 200.559589 \nL 349.3218 200.618913 \nL 351.14981 200.716128 \nL 351.14981 200.731903 \nL 354.196493 200.824075 \nL 354.196493 200.849649 \nL 356.329171 200.954375 \nL 356.329171 200.999648 \nL 358.461849 201.103491 \nL 358.461849 201.115255 \nL 360.594527 201.221659 \nL 360.594527 201.239135 \nL 362.117869 201.311643 \nL 362.117869 201.363257 \nL 363.945878 201.474363 \nL 363.945878 201.476109 \nL 364.859883 201.537827 \nL 364.859883 201.587771 \nL 367.29723 201.696902 \nL 367.29723 201.705595 \nL 369.734576 201.815749 \nL 369.734576 201.844173 \nL 372.781259 201.947786 \nL 372.781259 201.95567 \nL 373.390596 201.995604 \nL 373.390596 202.081943 \nL 375.827942 202.188095 \nL 375.827942 202.199389 \nL 377.351284 202.296571 \nL 377.351284 202.310783 \nL 380.093299 202.411217 \nL 380.093299 202.427806 \nL 383.44465 202.53373 \nL 383.44465 202.560915 \nL 383.749318 202.560915 \nL 383.749318 202.560915 \n\" clip-path=\"url(#pb72dae7ca6)\" style=\"fill: none; stroke: #f7931e; stroke-width: 1.5; stroke-linecap: square\"/>\n   </g>\n   <g id=\"line2d_15\">\n    <path d=\"M 79.385682 153.200332 \nL 79.385682 153.306555 \nL 80.604355 153.392338 \nL 80.604355 153.533295 \nL 81.213692 153.561099 \nL 81.213692 153.667747 \nL 81.51836 153.667747 \nL 81.51836 154.116152 \nL 83.34637 154.207058 \nL 83.34637 154.22728 \nL 83.955706 154.248749 \nL 83.955706 154.485821 \nL 84.260375 154.485821 \nL 84.260375 154.624809 \nL 85.17438 154.702658 \nL 85.17438 154.852017 \nL 85.783716 154.869165 \nL 85.783716 155.020549 \nL 87.002389 155.116424 \nL 87.002389 155.215557 \nL 87.307058 155.215557 \nL 87.307058 155.329981 \nL 87.611726 155.329981 \nL 87.611726 155.528015 \nL 88.221063 155.603857 \nL 88.221063 155.716185 \nL 88.525731 155.716185 \nL 88.525731 155.908798 \nL 88.830399 155.908798 \nL 88.830399 156.085817 \nL 89.135068 156.085817 \nL 89.135068 156.205201 \nL 90.049072 156.300251 \nL 90.049072 156.386563 \nL 90.658409 156.452497 \nL 90.658409 156.710791 \nL 91.267746 156.757232 \nL 91.267746 156.837354 \nL 91.877082 156.940045 \nL 91.877082 157.084799 \nL 92.791087 157.140913 \nL 92.791087 157.376419 \nL 93.400424 157.397155 \nL 93.400424 157.574228 \nL 94.00976 157.634531 \nL 94.00976 157.746924 \nL 94.619097 157.805219 \nL 94.619097 157.907474 \nL 95.228434 157.990641 \nL 95.228434 158.227908 \nL 96.142439 158.296416 \nL 96.142439 158.373872 \nL 97.056443 158.407418 \nL 97.056443 158.499252 \nL 97.970448 158.602442 \nL 97.970448 158.635627 \nL 98.275117 158.635627 \nL 98.275117 158.757517 \nL 98.884453 158.795475 \nL 98.884453 159.09982 \nL 99.49379 159.104852 \nL 99.49379 159.264281 \nL 100.407795 159.371701 \nL 100.407795 159.499082 \nL 101.3218 159.608461 \nL 101.3218 159.649084 \nL 102.235805 159.665758 \nL 102.235805 159.985354 \nL 102.540473 159.985354 \nL 102.540473 160.243199 \nL 103.454478 160.351609 \nL 103.454478 160.447383 \nL 103.759146 160.447383 \nL 103.759146 160.669734 \nL 104.368483 160.736544 \nL 104.368483 161.022639 \nL 104.977819 161.039914 \nL 104.977819 161.432859 \nL 105.587156 161.464193 \nL 105.587156 161.595548 \nL 106.805829 161.685826 \nL 106.805829 161.747573 \nL 107.415166 161.766207 \nL 107.415166 161.875188 \nL 108.024502 161.986274 \nL 108.024502 162.10497 \nL 108.633839 162.159115 \nL 108.633839 162.296635 \nL 108.938507 162.296635 \nL 108.938507 162.476441 \nL 109.243176 162.476441 \nL 109.243176 162.659789 \nL 110.157181 162.728228 \nL 110.157181 162.814216 \nL 111.071186 162.901783 \nL 111.071186 162.972977 \nL 111.375854 162.972977 \nL 111.375854 163.129211 \nL 112.289859 163.223673 \nL 112.289859 163.319437 \nL 112.899195 163.325172 \nL 112.899195 163.577965 \nL 113.203864 163.577965 \nL 113.203864 163.770501 \nL 113.508532 163.770501 \nL 113.508532 163.940025 \nL 114.727205 164.045145 \nL 114.727205 164.177782 \nL 115.031873 164.177782 \nL 115.031873 164.319598 \nL 116.250547 164.398127 \nL 116.250547 164.444125 \nL 116.859883 164.554148 \nL 116.859883 164.676968 \nL 117.773888 164.785238 \nL 117.773888 164.792435 \nL 118.383225 164.890225 \nL 118.383225 164.91449 \nL 119.601898 165.009491 \nL 119.601898 165.349722 \nL 120.515903 165.437643 \nL 120.515903 165.698759 \nL 120.820571 165.698759 \nL 120.820571 165.831683 \nL 121.429908 165.918804 \nL 121.429908 166.025917 \nL 122.039244 166.084537 \nL 122.039244 166.157105 \nL 122.343913 166.157105 \nL 122.343913 166.323576 \nL 122.648581 166.323576 \nL 122.648581 166.508488 \nL 123.257918 166.540903 \nL 123.257918 166.684765 \nL 124.781259 166.793691 \nL 124.781259 166.900517 \nL 125.390596 166.993538 \nL 125.390596 167.102437 \nL 125.999932 167.106713 \nL 125.999932 167.229412 \nL 126.609269 167.28034 \nL 126.609269 167.343547 \nL 127.218606 167.418078 \nL 127.218606 167.55493 \nL 127.827942 167.657558 \nL 127.827942 167.801879 \nL 128.437279 167.892944 \nL 128.437279 167.945032 \nL 129.046615 167.990535 \nL 129.046615 168.098338 \nL 129.655952 168.155433 \nL 129.655952 168.262378 \nL 130.569957 168.37134 \nL 130.569957 168.433646 \nL 131.78863 168.542181 \nL 131.78863 168.564104 \nL 132.397967 168.611402 \nL 132.397967 168.681523 \nL 133.61664 168.790214 \nL 133.61664 168.890179 \nL 134.225977 168.957345 \nL 134.225977 169.014352 \nL 135.44465 169.10047 \nL 135.44465 169.188766 \nL 136.053986 169.284948 \nL 136.053986 169.305246 \nL 136.663323 169.305742 \nL 136.663323 169.459022 \nL 137.577328 169.537178 \nL 137.577328 169.581365 \nL 139.405338 169.687833 \nL 139.405338 169.783442 \nL 139.710006 169.783442 \nL 139.710006 170.023664 \nL 140.624011 170.086188 \nL 140.624011 170.254559 \nL 141.538016 170.362894 \nL 141.538016 170.39535 \nL 142.452021 170.41258 \nL 142.452021 170.635652 \nL 143.061357 170.655859 \nL 143.061357 170.764378 \nL 144.280031 170.855009 \nL 144.280031 170.921665 \nL 144.889367 170.993664 \nL 144.889367 171.036349 \nL 145.498704 171.12215 \nL 145.498704 171.209814 \nL 146.108041 171.282543 \nL 146.108041 171.329075 \nL 146.412709 171.329075 \nL 146.412709 171.462934 \nL 147.022045 171.502011 \nL 147.022045 171.660764 \nL 147.631382 171.674847 \nL 147.631382 171.830966 \nL 148.545387 171.899869 \nL 148.545387 172.13278 \nL 150.373397 172.226351 \nL 150.373397 172.280203 \nL 151.896738 172.368145 \nL 151.896738 172.41779 \nL 152.506075 172.456454 \nL 152.506075 172.60368 \nL 153.115412 172.634977 \nL 153.115412 172.763962 \nL 154.029416 172.840125 \nL 154.029416 172.921425 \nL 155.552758 173.032122 \nL 155.552758 173.062911 \nL 156.162095 173.144316 \nL 156.162095 173.202962 \nL 157.0761 173.238636 \nL 157.0761 173.322668 \nL 157.990104 173.359549 \nL 157.990104 173.440439 \nL 160.122783 173.492672 \nL 160.122783 173.619852 \nL 161.646124 173.70338 \nL 161.646124 173.746627 \nL 162.560129 173.850255 \nL 162.560129 173.859999 \nL 163.474134 173.970078 \nL 163.474134 173.980812 \nL 164.083471 173.989439 \nL 164.083471 174.121756 \nL 164.997475 174.184339 \nL 164.997475 174.233369 \nL 165.606812 174.234159 \nL 165.606812 174.426896 \nL 166.216149 174.476661 \nL 166.216149 174.53861 \nL 167.130154 174.55412 \nL 167.130154 174.657385 \nL 168.044158 174.732262 \nL 168.044158 174.773 \nL 168.653495 174.869088 \nL 168.653495 174.900602 \nL 170.481505 175.002543 \nL 170.481505 175.115515 \nL 171.39551 175.224544 \nL 171.39551 175.248703 \nL 172.918851 175.342647 \nL 172.918851 175.39965 \nL 173.528188 175.507204 \nL 173.528188 175.566099 \nL 174.442193 175.673897 \nL 174.442193 175.851895 \nL 175.356198 175.929308 \nL 175.356198 175.970134 \nL 176.879539 176.058272 \nL 176.879539 176.106097 \nL 177.793544 176.176655 \nL 177.793544 176.222348 \nL 178.707549 176.322511 \nL 178.707549 176.35398 \nL 179.926222 176.460531 \nL 179.926222 176.504409 \nL 180.535559 176.576685 \nL 180.535559 176.622323 \nL 181.144896 176.707828 \nL 181.144896 176.771802 \nL 182.0589 176.847444 \nL 182.0589 176.920062 \nL 184.191579 177.020232 \nL 184.191579 177.172635 \nL 185.71492 177.259103 \nL 185.71492 177.332814 \nL 186.628925 177.396033 \nL 186.628925 177.458461 \nL 188.152267 177.541854 \nL 188.152267 177.590895 \nL 189.37094 177.669358 \nL 189.37094 177.718429 \nL 190.284945 177.796771 \nL 190.284945 177.978286 \nL 191.503618 178.061881 \nL 191.503618 178.096626 \nL 193.331628 178.159143 \nL 193.331628 178.22558 \nL 194.550301 178.336627 \nL 194.550301 178.389581 \nL 195.768974 178.455096 \nL 195.768974 178.528932 \nL 197.292316 178.623516 \nL 197.292316 178.652529 \nL 198.815657 178.749212 \nL 198.815657 178.790461 \nL 199.424994 178.893656 \nL 199.424994 178.916375 \nL 201.253004 179.00204 \nL 201.253004 179.066531 \nL 202.471677 179.165486 \nL 202.471677 179.224676 \nL 203.385682 179.248178 \nL 203.385682 179.388246 \nL 205.213692 179.468921 \nL 205.213692 179.522631 \nL 206.127697 179.564129 \nL 206.127697 179.648679 \nL 206.737033 179.755583 \nL 206.737033 179.813805 \nL 207.651038 179.895384 \nL 207.651038 179.927132 \nL 208.565043 180.00167 \nL 208.565043 180.051276 \nL 210.393053 180.148278 \nL 210.393053 180.174156 \nL 211.307058 180.284652 \nL 211.307058 180.304607 \nL 211.916394 180.366686 \nL 211.916394 180.428128 \nL 213.135068 180.53135 \nL 213.135068 180.554816 \nL 213.439736 180.554816 \nL 213.439736 180.728456 \nL 215.267746 180.82006 \nL 215.267746 180.852183 \nL 217.095756 180.952375 \nL 217.095756 181.091076 \nL 218.314429 181.174185 \nL 218.314429 181.27822 \nL 218.923765 181.316146 \nL 218.923765 181.429327 \nL 220.447107 181.510336 \nL 220.447107 181.569951 \nL 221.361112 181.639637 \nL 221.361112 181.692805 \nL 222.579785 181.802265 \nL 222.579785 181.813225 \nL 224.103127 181.863597 \nL 224.103127 181.966798 \nL 225.3218 182.049203 \nL 225.3218 182.080656 \nL 226.845141 182.102052 \nL 226.845141 182.268414 \nL 228.673151 182.370498 \nL 228.673151 182.388658 \nL 230.501161 182.460139 \nL 230.501161 182.512166 \nL 232.024502 182.577994 \nL 232.024502 182.62926 \nL 233.547844 182.735878 \nL 233.547844 182.741182 \nL 234.461849 182.755048 \nL 234.461849 182.852687 \nL 235.375854 182.921993 \nL 235.375854 183.040251 \nL 236.899195 183.134015 \nL 236.899195 183.154534 \nL 238.422537 183.26146 \nL 238.422537 183.265922 \nL 239.64121 183.329744 \nL 239.64121 183.461869 \nL 241.46922 183.536364 \nL 241.46922 183.631158 \nL 242.992561 183.70648 \nL 242.992561 183.766298 \nL 244.515903 183.87073 \nL 244.515903 183.910148 \nL 246.039244 184.009264 \nL 246.039244 184.024216 \nL 247.867254 184.118117 \nL 247.867254 184.135894 \nL 250.304601 184.199553 \nL 250.304601 184.300016 \nL 251.827942 184.368649 \nL 251.827942 184.41795 \nL 253.046615 184.491776 \nL 253.046615 184.555274 \nL 254.265289 184.655494 \nL 254.265289 184.668863 \nL 256.093299 184.776313 \nL 256.093299 184.824221 \nL 257.007303 184.849758 \nL 257.007303 184.936556 \nL 258.225977 185.01144 \nL 258.225977 185.076604 \nL 260.358655 185.174191 \nL 260.358655 185.187739 \nL 263.405338 185.288102 \nL 263.405338 185.324617 \nL 264.928679 185.434514 \nL 264.928679 185.451905 \nL 267.670694 185.549497 \nL 267.670694 185.574457 \nL 269.498704 185.683566 \nL 269.498704 185.691792 \nL 271.631382 185.781033 \nL 271.631382 185.803184 \nL 273.459392 185.913891 \nL 273.459392 185.940441 \nL 275.287402 186.022245 \nL 275.287402 186.052623 \nL 277.115412 186.155119 \nL 277.115412 186.170909 \nL 278.029416 186.211532 \nL 278.029416 186.318509 \nL 280.466763 186.42578 \nL 280.466763 186.44629 \nL 282.904109 186.539141 \nL 282.904109 186.586254 \nL 285.341456 186.666283 \nL 285.341456 186.711133 \nL 287.169466 186.81845 \nL 287.169466 186.828146 \nL 288.692807 186.901618 \nL 288.692807 186.961506 \nL 289.606812 187.025805 \nL 289.606812 187.082574 \nL 291.73949 187.127238 \nL 291.73949 187.201738 \nL 293.5675 187.301606 \nL 293.5675 187.341946 \nL 295.39551 187.437346 \nL 295.39551 187.459373 \nL 298.137525 187.563753 \nL 298.137525 187.57294 \nL 299.660866 187.675824 \nL 299.660866 187.684676 \nL 302.402881 187.779994 \nL 302.402881 187.866515 \nL 303.926222 187.967249 \nL 303.926222 187.978323 \nL 305.144896 188.04779 \nL 305.144896 188.091222 \nL 308.191579 188.199206 \nL 308.191579 188.2236 \nL 309.105584 188.313182 \nL 309.105584 188.341468 \nL 310.933593 188.43324 \nL 310.933593 188.461646 \nL 311.847598 188.531566 \nL 311.847598 188.611505 \nL 313.37094 188.711391 \nL 313.37094 188.737641 \nL 316.417623 188.839777 \nL 316.417623 188.849866 \nL 318.245633 188.950847 \nL 318.245633 188.961848 \nL 319.464306 189.026102 \nL 319.464306 189.099951 \nL 321.901652 189.209117 \nL 321.901652 189.278325 \nL 324.338999 189.377735 \nL 324.338999 189.481087 \nL 326.167009 189.588495 \nL 326.167009 189.594562 \nL 328.909023 189.70274 \nL 328.909023 189.770795 \nL 331.34637 189.864061 \nL 331.34637 189.892066 \nL 332.869711 189.965013 \nL 332.869711 190.024176 \nL 336.525731 190.113179 \nL 336.525731 190.137937 \nL 337.439736 190.194656 \nL 337.439736 190.252272 \nL 340.791087 190.355451 \nL 340.791087 190.363685 \nL 342.619097 190.459515 \nL 342.619097 190.489966 \nL 344.447107 190.600597 \nL 344.447107 190.604069 \nL 347.189122 190.698134 \nL 347.189122 190.720718 \nL 347.798458 190.797278 \nL 347.798458 190.871669 \nL 349.3218 190.94703 \nL 349.3218 190.990414 \nL 352.673151 191.100468 \nL 352.673151 191.106203 \nL 355.719834 191.199705 \nL 355.719834 191.233223 \nL 358.157181 191.327779 \nL 358.157181 191.347137 \nL 360.899195 191.447753 \nL 360.899195 191.46811 \nL 363.031873 191.546433 \nL 363.031873 191.590273 \nL 364.859883 191.670513 \nL 364.859883 191.707923 \nL 367.906566 191.801632 \nL 367.906566 191.835563 \nL 371.562586 191.942815 \nL 371.562586 191.956273 \nL 373.390596 192.015195 \nL 373.390596 192.080658 \nL 376.741947 192.185205 \nL 376.741947 192.219984 \nL 379.78863 192.315977 \nL 379.78863 192.331671 \nL 383.44465 192.425621 \nL 383.44465 192.446509 \nL 383.749318 192.446509 \nL 383.749318 192.446509 \n\" clip-path=\"url(#pb72dae7ca6)\" style=\"fill: none; stroke: #c1272d; stroke-width: 1.5; stroke-linecap: square\"/>\n   </g>\n   <g id=\"patch_3\">\n    <path d=\"M 64.1675 224.64 \nL 64.1675 7.2 \n\" style=\"fill: none; stroke: #000000; stroke-width: 0.8; stroke-linejoin: miter; stroke-linecap: square\"/>\n   </g>\n   <g id=\"patch_4\">\n    <path d=\"M 398.9675 224.64 \nL 398.9675 7.2 \n\" style=\"fill: none; stroke: #000000; stroke-width: 0.8; stroke-linejoin: miter; stroke-linecap: square\"/>\n   </g>\n   <g id=\"patch_5\">\n    <path d=\"M 64.1675 224.64 \nL 398.9675 224.64 \n\" style=\"fill: none; stroke: #000000; stroke-width: 0.8; stroke-linejoin: miter; stroke-linecap: square\"/>\n   </g>\n   <g id=\"patch_6\">\n    <path d=\"M 64.1675 7.2 \nL 398.9675 7.2 \n\" style=\"fill: none; stroke: #000000; stroke-width: 0.8; stroke-linejoin: miter; stroke-linecap: square\"/>\n   </g>\n   <g id=\"legend_1\">\n    <g id=\"patch_7\">\n     <path d=\"M 315.69875 69.64125 \nL 390.5675 69.64125 \nQ 392.9675 69.64125 392.9675 67.24125 \nL 392.9675 15.6 \nQ 392.9675 13.2 390.5675 13.2 \nL 315.69875 13.2 \nQ 313.29875 13.2 313.29875 15.6 \nL 313.29875 67.24125 \nQ 313.29875 69.64125 315.69875 69.64125 \nz\n\" style=\"fill: #ffffff; opacity: 0.8; stroke: #cccccc; stroke-linejoin: miter\"/>\n    </g>\n    <g id=\"line2d_16\">\n     <path d=\"M 318.09875 22.918125 \nL 318.09875 22.918125 \nL 330.09875 22.918125 \nL 330.09875 22.918125 \nL 342.09875 22.918125 \n\" style=\"fill: none; stroke: #0071bc; stroke-width: 1.5; stroke-linecap: square\"/>\n    </g>\n    <g id=\"text_15\">\n     <!-- T=0.5 -->\n     <g transform=\"translate(351.69875 27.118125) scale(0.12 -0.12)\">\n      <defs>\n       <path id=\"DejaVuSans-54\" d=\"M -19 4666 \nL 3928 4666 \nL 3928 4134 \nL 2272 4134 \nL 2272 0 \nL 1638 0 \nL 1638 4134 \nL -19 4134 \nL -19 4666 \nz\n\" transform=\"scale(0.015625)\"/>\n       <path id=\"DejaVuSans-3d\" d=\"M 678 2906 \nL 4684 2906 \nL 4684 2381 \nL 678 2381 \nL 678 2906 \nz\nM 678 1631 \nL 4684 1631 \nL 4684 1100 \nL 678 1100 \nL 678 1631 \nz\n\" transform=\"scale(0.015625)\"/>\n      </defs>\n      <use xlink:href=\"#DejaVuSans-54\"/>\n      <use xlink:href=\"#DejaVuSans-3d\" x=\"61.083984\"/>\n      <use xlink:href=\"#DejaVuSans-30\" x=\"144.873047\"/>\n      <use xlink:href=\"#DejaVuSans-2e\" x=\"208.496094\"/>\n      <use xlink:href=\"#DejaVuSans-35\" x=\"240.283203\"/>\n     </g>\n    </g>\n    <g id=\"line2d_17\">\n     <path d=\"M 318.09875 40.531875 \nL 318.09875 40.531875 \nL 330.09875 40.531875 \nL 330.09875 40.531875 \nL 342.09875 40.531875 \n\" style=\"fill: none; stroke: #f7931e; stroke-width: 1.5; stroke-linecap: square\"/>\n    </g>\n    <g id=\"text_16\">\n     <!-- T=1.0 -->\n     <g transform=\"translate(351.69875 44.731875) scale(0.12 -0.12)\">\n      <use xlink:href=\"#DejaVuSans-54\"/>\n      <use xlink:href=\"#DejaVuSans-3d\" x=\"61.083984\"/>\n      <use xlink:href=\"#DejaVuSans-31\" x=\"144.873047\"/>\n      <use xlink:href=\"#DejaVuSans-2e\" x=\"208.496094\"/>\n      <use xlink:href=\"#DejaVuSans-30\" x=\"240.283203\"/>\n     </g>\n    </g>\n    <g id=\"line2d_18\">\n     <path d=\"M 318.09875 58.145625 \nL 318.09875 58.145625 \nL 330.09875 58.145625 \nL 330.09875 58.145625 \nL 342.09875 58.145625 \n\" style=\"fill: none; stroke: #c1272d; stroke-width: 1.5; stroke-linecap: square\"/>\n    </g>\n    <g id=\"text_17\">\n     <!-- T=2.0 -->\n     <g transform=\"translate(351.69875 62.345625) scale(0.12 -0.12)\">\n      <use xlink:href=\"#DejaVuSans-54\"/>\n      <use xlink:href=\"#DejaVuSans-3d\" x=\"61.083984\"/>\n      <use xlink:href=\"#DejaVuSans-32\" x=\"144.873047\"/>\n      <use xlink:href=\"#DejaVuSans-2e\" x=\"208.496094\"/>\n      <use xlink:href=\"#DejaVuSans-30\" x=\"240.283203\"/>\n     </g>\n    </g>\n   </g>\n  </g>\n </g>\n <defs>\n  <clipPath id=\"pb72dae7ca6\">\n   <rect x=\"64.1675\" y=\"7.2\" width=\"334.8\" height=\"217.44\"/>\n  </clipPath>\n </defs>\n</svg>\n",
            "application/pdf": "[encoded data removed]"
          },
          "metadata": {
            "needs_background": "light"
          }
        }
      ],
      "source": [
        "#hide_input\n",
        "\n",
        "#id temperature\n",
        "#alt Token probabilities as a function of temperature\n",
        "#caption Distribution of randomly generated token probabilities for three selected temperatures\n",
        "import matplotlib.pyplot as plt\n",
        "import numpy as np\n",
        "\n",
        "def softmax(logits, T=1):\n",
        "    e_x = np.exp(logits / T)\n",
        "    return e_x / e_x.sum()\n",
        "\n",
        "logits = np.exp(np.random.random(1000))\n",
        "sorted_logits = np.sort(logits)[::-1]\n",
        "x = np.arange(1000)\n",
        "\n",
        "for T in [0.5, 1.0, 2.0]:\n",
        "    plt.step(x, softmax(sorted_logits, T), label=f\"T={T}\")\n",
        "plt.legend(loc=\"best\")\n",
        "plt.xlabel(\"Sorted token probabilities\")\n",
        "plt.ylabel(\"Probability\")\n",
        "plt.show()"
      ]
    },
    {
      "cell_type": "code",
      "execution_count": 53,
      "metadata": {
        "id": "Md7pLSFITL79"
      },
      "outputs": [],
      "source": [
        "# hide\n",
        "torch.manual_seed(42);"
      ]
    },
    {
      "cell_type": "code",
      "execution_count": 54,
      "metadata": {
        "colab": {
          "base_uri": "https://localhost:8080/"
        },
        "id": "3PTE9PFgTL79",
        "outputId": "93ff67ed-2c87-453c-9d17-5fd7f4a93436"
      },
      "outputs": [
        {
          "output_type": "stream",
          "name": "stdout",
          "text": [
            "In a shocking finding, scientist discovered a herd of unicorns living in a\n",
            "remote, previously unexplored valley, in the Andes Mountains. Even more\n",
            "surprising to the researchers was the fact that the unicorns spoke perfect\n",
            "English.\n",
            "\n",
            "\n",
            "Banglington station line protagonist Bree Miller woke nostalgiate Rider\n",
            "Faithrometta Bluial Mju Agreement generously brings Kashun Dracozin Auctuz\n",
            "Doraelque Pumpkin meremavern stall class inequariansiamond disse * Runew\n",
            "Endurance whilst spear secured majorityb zo coachinginventoryatelletonwarming\n",
            "instinctivelypres Wrestling chargesThingsCooldown Guillard Ty physicianness\n",
            "Kimvillecurrently exhaustionSince at aff da temporacia MD RIPAbout iter\n"
          ]
        }
      ],
      "source": [
        "output_temp = model.generate(input_ids, max_length=max_length, do_sample=True, \n",
        "                             temperature=2.0, top_k=0)\n",
        "print(tokenizer.decode(output_temp[0]))"
      ]
    },
    {
      "cell_type": "code",
      "execution_count": null,
      "metadata": {
        "id": "nCcltSTaTL7-"
      },
      "outputs": [],
      "source": [
        "# hide\n",
        "torch.manual_seed(42);"
      ]
    },
    {
      "cell_type": "code",
      "execution_count": 55,
      "metadata": {
        "colab": {
          "base_uri": "https://localhost:8080/"
        },
        "id": "smCPJVb4TL7-",
        "outputId": "20b630b7-2757-4b26-df1d-7107a69faf2c"
      },
      "outputs": [
        {
          "output_type": "stream",
          "name": "stdout",
          "text": [
            "In a shocking finding, scientist discovered a herd of unicorns living in a\n",
            "remote, previously unexplored valley, in the Andes Mountains. Even more\n",
            "surprising to the researchers was the fact that the unicorns spoke perfect\n",
            "English.\n",
            "\n",
            "\n",
            "The unicorn herd was discovered in the Andes Mountains.\n",
            "\n",
            "The researchers, from the University of California, Los Angeles, spent two years\n",
            "studying the valley, which is located in the Andes Mountains in Peru. The valley\n",
            "was once a lush, green landscape, but now it is a desolate, barren landscape.\n",
            "\n",
            "The valley is the largest in the Andes, but it is also the most\n"
          ]
        }
      ],
      "source": [
        "output_temp = model.generate(input_ids, max_length=max_length, do_sample=True, \n",
        "                             temperature=0.5, top_k=0)\n",
        "print(tokenizer.decode(output_temp[0]))"
      ]
    },
    {
      "cell_type": "markdown",
      "metadata": {
        "id": "9ATLBNmlTL7-"
      },
      "source": [
        "## Top-k and Nucleus Sampling"
      ]
    },
    {
      "cell_type": "code",
      "execution_count": null,
      "metadata": {
        "id": "Tc3eO4spTL7-"
      },
      "outputs": [],
      "source": [
        "# hide\n",
        "torch.manual_seed(42);"
      ]
    },
    {
      "cell_type": "code",
      "execution_count": null,
      "metadata": {
        "id": "8JPdxa6CTL7_"
      },
      "outputs": [],
      "source": [
        "# hide\n",
        "input_txt = \"\"\"In a shocking finding, scientist discovered \\\n",
        "a herd of unicorns living in a remote, previously unexplored \\\n",
        "valley, in the Andes Mountains. Even more surprising to the \\\n",
        "researchers was the fact that the unicorns spoke perfect English.\\n\\n\n",
        "\"\"\"\n",
        "input_ids = tokenizer(input_txt, return_tensors=\"pt\")[\"input_ids\"].to(device)"
      ]
    },
    {
      "cell_type": "code",
      "execution_count": null,
      "metadata": {
        "id": "A0cEf3ooTL7_"
      },
      "outputs": [],
      "source": [
        "# hide\n",
        "import torch.nn.functional as F\n",
        "\n",
        "with torch.no_grad():\n",
        "    output = model(input_ids=input_ids)\n",
        "    next_token_logits = output.logits[:, -1, :]\n",
        "    probs = F.softmax(next_token_logits, dim=-1).detach().cpu().numpy()"
      ]
    },
    {
      "cell_type": "code",
      "execution_count": null,
      "metadata": {
        "id": "JxgOILZPTL7_",
        "outputId": "42a791a5-c41e-464c-f91f-57aa80783490"
      },
      "outputs": [
        {
          "data": {
            "application/pdf": "[encoded data removed]",
            "image/svg+xml": "<?xml version=\"1.0\" encoding=\"utf-8\" standalone=\"no\"?>\n<!DOCTYPE svg PUBLIC \"-//W3C//DTD SVG 1.1//EN\"\n  \"http://www.w3.org/Graphics/SVG/1.1/DTD/svg11.dtd\">\n<svg xmlns:xlink=\"http://www.w3.org/1999/xlink\" width=\"708.484336pt\" height=\"235.723625pt\" viewBox=\"0 0 708.484336 235.723625\" xmlns=\"http://www.w3.org/2000/svg\" version=\"1.1\">\n <metadata>\n  <rdf:RDF xmlns:dc=\"http://purl.org/dc/elements/1.1/\" xmlns:cc=\"http://creativecommons.org/ns#\" xmlns:rdf=\"http://www.w3.org/1999/02/22-rdf-syntax-ns#\">\n   <cc:Work>\n    <dc:type rdf:resource=\"http://purl.org/dc/dcmitype/StillImage\"/>\n    <dc:date>2022-01-05T10:39:16.995683</dc:date>\n    <dc:format>image/svg+xml</dc:format>\n    <dc:creator>\n     <cc:Agent>\n      <dc:title>Matplotlib v3.5.1, https://matplotlib.org/</dc:title>\n     </cc:Agent>\n    </dc:creator>\n   </cc:Work>\n  </rdf:RDF>\n </metadata>\n <defs>\n  <style type=\"text/css\">*{stroke-linejoin: round; stroke-linecap: butt}</style>\n </defs>\n <g id=\"figure_1\">\n  <g id=\"patch_1\">\n   <path d=\"M 0 235.723625 \nL 708.484336 235.723625 \nL 708.484336 0 \nL 0 0 \nL 0 235.723625 \nz\n\" style=\"fill: none\"/>\n  </g>\n  <g id=\"axes_1\">\n   <g id=\"patch_2\">\n    <path d=\"M 44.18 195.2505 \nL 337.843262 195.2505 \nL 337.843262 23.7705 \nL 44.18 23.7705 \nz\n\" style=\"fill: #ffffff\"/>\n   </g>\n   <g id=\"patch_3\">\n    <path d=\"M 57.52833 46093.750941 \nL 60.224962 46093.750941 \nL 60.224962 105.173893 \nL 57.52833 105.173893 \nz\n\" clip-path=\"url(#p90022e26d6)\" style=\"fill: #0071bc; stroke: #0071bc; stroke-linejoin: miter\"/>\n   </g>\n   <g id=\"patch_4\">\n    <path d=\"M 60.224962 46093.750941 \nL 62.921595 46093.750941 \nL 62.921595 92.513204 \nL 60.224962 92.513204 \nz\n\" clip-path=\"url(#p90022e26d6)\" style=\"fill: #0071bc; stroke: #0071bc; stroke-linejoin: miter\"/>\n   </g>\n   <g id=\"patch_5\">\n    <path d=\"M 62.921595 46093.750941 \nL 65.618227 46093.750941 \nL 65.618227 88.235557 \nL 62.921595 88.235557 \nz\n\" clip-path=\"url(#p90022e26d6)\" style=\"fill: #0071bc; stroke: #0071bc; stroke-linejoin: miter\"/>\n   </g>\n   <g id=\"patch_6\">\n    <path d=\"M 65.618227 46093.750941 \nL 68.314859 46093.750941 \nL 68.314859 81.042255 \nL 65.618227 81.042255 \nz\n\" clip-path=\"url(#p90022e26d6)\" style=\"fill: #0071bc; stroke: #0071bc; stroke-linejoin: miter\"/>\n   </g>\n   <g id=\"patch_7\">\n    <path d=\"M 68.314859 46093.750941 \nL 71.011492 46093.750941 \nL 71.011492 75.620753 \nL 68.314859 75.620753 \nz\n\" clip-path=\"url(#p90022e26d6)\" style=\"fill: #0071bc; stroke: #0071bc; stroke-linejoin: miter\"/>\n   </g>\n   <g id=\"patch_8\">\n    <path d=\"M 71.011492 46093.750941 \nL 73.708124 46093.750941 \nL 73.708124 68.612282 \nL 71.011492 68.612282 \nz\n\" clip-path=\"url(#p90022e26d6)\" style=\"fill: #0071bc; stroke: #0071bc; stroke-linejoin: miter\"/>\n   </g>\n   <g id=\"patch_9\">\n    <path d=\"M 73.708124 46093.750941 \nL 76.404756 46093.750941 \nL 76.404756 60.804531 \nL 73.708124 60.804531 \nz\n\" clip-path=\"url(#p90022e26d6)\" style=\"fill: #0071bc; stroke: #0071bc; stroke-linejoin: miter\"/>\n   </g>\n   <g id=\"patch_10\">\n    <path d=\"M 76.404756 46093.750941 \nL 79.101389 46093.750941 \nL 79.101389 57.990954 \nL 76.404756 57.990954 \nz\n\" clip-path=\"url(#p90022e26d6)\" style=\"fill: #0071bc; stroke: #0071bc; stroke-linejoin: miter\"/>\n   </g>\n   <g id=\"patch_11\">\n    <path d=\"M 79.101389 46093.750941 \nL 81.798021 46093.750941 \nL 81.798021 52.93033 \nL 79.101389 52.93033 \nz\n\" clip-path=\"url(#p90022e26d6)\" style=\"fill: #0071bc; stroke: #0071bc; stroke-linejoin: miter\"/>\n   </g>\n   <g id=\"patch_12\">\n    <path d=\"M 81.798021 46093.750941 \nL 84.494653 46093.750941 \nL 84.494653 47.335753 \nL 81.798021 47.335753 \nz\n\" clip-path=\"url(#p90022e26d6)\" style=\"fill: #0071bc; stroke: #0071bc; stroke-linejoin: miter\"/>\n   </g>\n   <g id=\"patch_13\">\n    <path d=\"M 84.494653 46093.750941 \nL 87.191286 46093.750941 \nL 87.191286 43.827906 \nL 84.494653 43.827906 \nz\n\" clip-path=\"url(#p90022e26d6)\" style=\"fill: #0071bc; stroke: #0071bc; stroke-linejoin: miter\"/>\n   </g>\n   <g id=\"patch_14\">\n    <path d=\"M 87.191286 46093.750941 \nL 89.887918 46093.750941 \nL 89.887918 40.441581 \nL 87.191286 40.441581 \nz\n\" clip-path=\"url(#p90022e26d6)\" style=\"fill: #0071bc; stroke: #0071bc; stroke-linejoin: miter\"/>\n   </g>\n   <g id=\"patch_15\">\n    <path d=\"M 89.887918 46093.750941 \nL 92.58455 46093.750941 \nL 92.58455 38.018455 \nL 89.887918 38.018455 \nz\n\" clip-path=\"url(#p90022e26d6)\" style=\"fill: #0071bc; stroke: #0071bc; stroke-linejoin: miter\"/>\n   </g>\n   <g id=\"patch_16\">\n    <path d=\"M 92.58455 46093.750941 \nL 95.281183 46093.750941 \nL 95.281183 35.04034 \nL 92.58455 35.04034 \nz\n\" clip-path=\"url(#p90022e26d6)\" style=\"fill: #0071bc; stroke: #0071bc; stroke-linejoin: miter\"/>\n   </g>\n   <g id=\"patch_17\">\n    <path d=\"M 95.281183 46093.750941 \nL 97.977815 46093.750941 \nL 97.977815 33.419607 \nL 95.281183 33.419607 \nz\n\" clip-path=\"url(#p90022e26d6)\" style=\"fill: #0071bc; stroke: #0071bc; stroke-linejoin: miter\"/>\n   </g>\n   <g id=\"patch_18\">\n    <path d=\"M 97.977815 46093.750941 \nL 100.674448 46093.750941 \nL 100.674448 32.191812 \nL 97.977815 32.191812 \nz\n\" clip-path=\"url(#p90022e26d6)\" style=\"fill: #0071bc; stroke: #0071bc; stroke-linejoin: miter\"/>\n   </g>\n   <g id=\"patch_19\">\n    <path d=\"M 100.674448 46093.750941 \nL 103.37108 46093.750941 \nL 103.37108 31.565045 \nL 100.674448 31.565045 \nz\n\" clip-path=\"url(#p90022e26d6)\" style=\"fill: #0071bc; stroke: #0071bc; stroke-linejoin: miter\"/>\n   </g>\n   <g id=\"patch_20\">\n    <path d=\"M 103.37108 46093.750941 \nL 106.067712 46093.750941 \nL 106.067712 32.804785 \nL 103.37108 32.804785 \nz\n\" clip-path=\"url(#p90022e26d6)\" style=\"fill: #0071bc; stroke: #0071bc; stroke-linejoin: miter\"/>\n   </g>\n   <g id=\"patch_21\">\n    <path d=\"M 106.067712 46093.750941 \nL 108.764345 46093.750941 \nL 108.764345 32.05173 \nL 106.067712 32.05173 \nz\n\" clip-path=\"url(#p90022e26d6)\" style=\"fill: #0071bc; stroke: #0071bc; stroke-linejoin: miter\"/>\n   </g>\n   <g id=\"patch_22\">\n    <path d=\"M 108.764345 46093.750941 \nL 111.460977 46093.750941 \nL 111.460977 32.677284 \nL 108.764345 32.677284 \nz\n\" clip-path=\"url(#p90022e26d6)\" style=\"fill: #0071bc; stroke: #0071bc; stroke-linejoin: miter\"/>\n   </g>\n   <g id=\"patch_23\">\n    <path d=\"M 111.460977 46093.750941 \nL 114.157609 46093.750941 \nL 114.157609 34.08125 \nL 111.460977 34.08125 \nz\n\" clip-path=\"url(#p90022e26d6)\" style=\"fill: #0071bc; stroke: #0071bc; stroke-linejoin: miter\"/>\n   </g>\n   <g id=\"patch_24\">\n    <path d=\"M 114.157609 46093.750941 \nL 116.854242 46093.750941 \nL 116.854242 34.926197 \nL 114.157609 34.926197 \nz\n\" clip-path=\"url(#p90022e26d6)\" style=\"fill: #0071bc; stroke: #0071bc; stroke-linejoin: miter\"/>\n   </g>\n   <g id=\"patch_25\">\n    <path d=\"M 116.854242 46093.750941 \nL 119.550874 46093.750941 \nL 119.550874 36.638524 \nL 116.854242 36.638524 \nz\n\" clip-path=\"url(#p90022e26d6)\" style=\"fill: #0071bc; stroke: #0071bc; stroke-linejoin: miter\"/>\n   </g>\n   <g id=\"patch_26\">\n    <path d=\"M 119.550874 46093.750941 \nL 122.247506 46093.750941 \nL 122.247506 39.181482 \nL 119.550874 39.181482 \nz\n\" clip-path=\"url(#p90022e26d6)\" style=\"fill: #0071bc; stroke: #0071bc; stroke-linejoin: miter\"/>\n   </g>\n   <g id=\"patch_27\">\n    <path d=\"M 122.247506 46093.750941 \nL 124.944139 46093.750941 \nL 124.944139 42.704 \nL 122.247506 42.704 \nz\n\" clip-path=\"url(#p90022e26d6)\" style=\"fill: #0071bc; stroke: #0071bc; stroke-linejoin: miter\"/>\n   </g>\n   <g id=\"patch_28\">\n    <path d=\"M 124.944139 46093.750941 \nL 127.640771 46093.750941 \nL 127.640771 44.156708 \nL 124.944139 44.156708 \nz\n\" clip-path=\"url(#p90022e26d6)\" style=\"fill: #0071bc; stroke: #0071bc; stroke-linejoin: miter\"/>\n   </g>\n   <g id=\"patch_29\">\n    <path d=\"M 127.640771 46093.750941 \nL 130.337403 46093.750941 \nL 130.337403 46.235509 \nL 127.640771 46.235509 \nz\n\" clip-path=\"url(#p90022e26d6)\" style=\"fill: #0071bc; stroke: #0071bc; stroke-linejoin: miter\"/>\n   </g>\n   <g id=\"patch_30\">\n    <path d=\"M 130.337403 46093.750941 \nL 133.034036 46093.750941 \nL 133.034036 48.202709 \nL 130.337403 48.202709 \nz\n\" clip-path=\"url(#p90022e26d6)\" style=\"fill: #0071bc; stroke: #0071bc; stroke-linejoin: miter\"/>\n   </g>\n   <g id=\"patch_31\">\n    <path d=\"M 133.034036 46093.750941 \nL 135.730668 46093.750941 \nL 135.730668 51.595431 \nL 133.034036 51.595431 \nz\n\" clip-path=\"url(#p90022e26d6)\" style=\"fill: #0071bc; stroke: #0071bc; stroke-linejoin: miter\"/>\n   </g>\n   <g id=\"patch_32\">\n    <path d=\"M 135.730668 46093.750941 \nL 138.4273 46093.750941 \nL 138.4273 52.836949 \nL 135.730668 52.836949 \nz\n\" clip-path=\"url(#p90022e26d6)\" style=\"fill: #0071bc; stroke: #0071bc; stroke-linejoin: miter\"/>\n   </g>\n   <g id=\"patch_33\">\n    <path d=\"M 138.4273 46093.750941 \nL 141.123933 46093.750941 \nL 141.123933 55.821146 \nL 138.4273 55.821146 \nz\n\" clip-path=\"url(#p90022e26d6)\" style=\"fill: #0071bc; stroke: #0071bc; stroke-linejoin: miter\"/>\n   </g>\n   <g id=\"patch_34\">\n    <path d=\"M 141.123933 46093.750941 \nL 143.820565 46093.750941 \nL 143.820565 58.264274 \nL 141.123933 58.264274 \nz\n\" clip-path=\"url(#p90022e26d6)\" style=\"fill: #0071bc; stroke: #0071bc; stroke-linejoin: miter\"/>\n   </g>\n   <g id=\"patch_35\">\n    <path d=\"M 143.820565 46093.750941 \nL 146.517197 46093.750941 \nL 146.517197 61.014027 \nL 143.820565 61.014027 \nz\n\" clip-path=\"url(#p90022e26d6)\" style=\"fill: #0071bc; stroke: #0071bc; stroke-linejoin: miter\"/>\n   </g>\n   <g id=\"patch_36\">\n    <path d=\"M 146.517197 46093.750941 \nL 149.21383 46093.750941 \nL 149.21383 63.676223 \nL 146.517197 63.676223 \nz\n\" clip-path=\"url(#p90022e26d6)\" style=\"fill: #0071bc; stroke: #0071bc; stroke-linejoin: miter\"/>\n   </g>\n   <g id=\"patch_37\">\n    <path d=\"M 149.21383 46093.750941 \nL 151.910462 46093.750941 \nL 151.910462 65.480365 \nL 149.21383 65.480365 \nz\n\" clip-path=\"url(#p90022e26d6)\" style=\"fill: #0071bc; stroke: #0071bc; stroke-linejoin: miter\"/>\n   </g>\n   <g id=\"patch_38\">\n    <path d=\"M 151.910462 46093.750941 \nL 154.607094 46093.750941 \nL 154.607094 67.271066 \nL 151.910462 67.271066 \nz\n\" clip-path=\"url(#p90022e26d6)\" style=\"fill: #0071bc; stroke: #0071bc; stroke-linejoin: miter\"/>\n   </g>\n   <g id=\"patch_39\">\n    <path d=\"M 154.607094 46093.750941 \nL 157.303727 46093.750941 \nL 157.303727 68.87087 \nL 154.607094 68.87087 \nz\n\" clip-path=\"url(#p90022e26d6)\" style=\"fill: #0071bc; stroke: #0071bc; stroke-linejoin: miter\"/>\n   </g>\n   <g id=\"patch_40\">\n    <path d=\"M 157.303727 46093.750941 \nL 160.000359 46093.750941 \nL 160.000359 71.719846 \nL 157.303727 71.719846 \nz\n\" clip-path=\"url(#p90022e26d6)\" style=\"fill: #0071bc; stroke: #0071bc; stroke-linejoin: miter\"/>\n   </g>\n   <g id=\"patch_41\">\n    <path d=\"M 160.000359 46093.750941 \nL 162.696991 46093.750941 \nL 162.696991 75.187327 \nL 160.000359 75.187327 \nz\n\" clip-path=\"url(#p90022e26d6)\" style=\"fill: #0071bc; stroke: #0071bc; stroke-linejoin: miter\"/>\n   </g>\n   <g id=\"patch_42\">\n    <path d=\"M 162.696991 46093.750941 \nL 165.393624 46093.750941 \nL 165.393624 75.841052 \nL 162.696991 75.841052 \nz\n\" clip-path=\"url(#p90022e26d6)\" style=\"fill: #0071bc; stroke: #0071bc; stroke-linejoin: miter\"/>\n   </g>\n   <g id=\"patch_43\">\n    <path d=\"M 165.393624 46093.750941 \nL 168.090256 46093.750941 \nL 168.090256 76.670304 \nL 165.393624 76.670304 \nz\n\" clip-path=\"url(#p90022e26d6)\" style=\"fill: #0071bc; stroke: #0071bc; stroke-linejoin: miter\"/>\n   </g>\n   <g id=\"patch_44\">\n    <path d=\"M 168.090256 46093.750941 \nL 170.786888 46093.750941 \nL 170.786888 78.272519 \nL 168.090256 78.272519 \nz\n\" clip-path=\"url(#p90022e26d6)\" style=\"fill: #0071bc; stroke: #0071bc; stroke-linejoin: miter\"/>\n   </g>\n   <g id=\"patch_45\">\n    <path d=\"M 170.786888 46093.750941 \nL 173.483521 46093.750941 \nL 173.483521 80.756759 \nL 170.786888 80.756759 \nz\n\" clip-path=\"url(#p90022e26d6)\" style=\"fill: #0071bc; stroke: #0071bc; stroke-linejoin: miter\"/>\n   </g>\n   <g id=\"patch_46\">\n    <path d=\"M 173.483521 46093.750941 \nL 176.180153 46093.750941 \nL 176.180153 82.32895 \nL 173.483521 82.32895 \nz\n\" clip-path=\"url(#p90022e26d6)\" style=\"fill: #0071bc; stroke: #0071bc; stroke-linejoin: miter\"/>\n   </g>\n   <g id=\"patch_47\">\n    <path d=\"M 176.180153 46093.750941 \nL 178.876785 46093.750941 \nL 178.876785 80.756759 \nL 176.180153 80.756759 \nz\n\" clip-path=\"url(#p90022e26d6)\" style=\"fill: #0071bc; stroke: #0071bc; stroke-linejoin: miter\"/>\n   </g>\n   <g id=\"patch_48\">\n    <path d=\"M 178.876785 46093.750941 \nL 181.573418 46093.750941 \nL 181.573418 84.372788 \nL 178.876785 84.372788 \nz\n\" clip-path=\"url(#p90022e26d6)\" style=\"fill: #0071bc; stroke: #0071bc; stroke-linejoin: miter\"/>\n   </g>\n   <g id=\"patch_49\">\n    <path d=\"M 181.573418 46093.750941 \nL 184.27005 46093.750941 \nL 184.27005 82.534487 \nL 181.573418 82.534487 \nz\n\" clip-path=\"url(#p90022e26d6)\" style=\"fill: #0071bc; stroke: #0071bc; stroke-linejoin: miter\"/>\n   </g>\n   <g id=\"patch_50\">\n    <path d=\"M 184.27005 46093.750941 \nL 186.966682 46093.750941 \nL 186.966682 82.431453 \nL 184.27005 82.431453 \nz\n\" clip-path=\"url(#p90022e26d6)\" style=\"fill: #0071bc; stroke: #0071bc; stroke-linejoin: miter\"/>\n   </g>\n   <g id=\"patch_51\">\n    <path d=\"M 186.966682 46093.750941 \nL 189.663315 46093.750941 \nL 189.663315 84.71555 \nL 186.966682 84.71555 \nz\n\" clip-path=\"url(#p90022e26d6)\" style=\"fill: #0071bc; stroke: #0071bc; stroke-linejoin: miter\"/>\n   </g>\n   <g id=\"patch_52\">\n    <path d=\"M 189.663315 46093.750941 \nL 192.359947 46093.750941 \nL 192.359947 83.486559 \nL 189.663315 83.486559 \nz\n\" clip-path=\"url(#p90022e26d6)\" style=\"fill: #0071bc; stroke: #0071bc; stroke-linejoin: miter\"/>\n   </g>\n   <g id=\"patch_53\">\n    <path d=\"M 192.359947 46093.750941 \nL 195.056579 46093.750941 \nL 195.056579 83.486559 \nL 192.359947 83.486559 \nz\n\" clip-path=\"url(#p90022e26d6)\" style=\"fill: #0071bc; stroke: #0071bc; stroke-linejoin: miter\"/>\n   </g>\n   <g id=\"patch_54\">\n    <path d=\"M 195.056579 46093.750941 \nL 197.753212 46093.750941 \nL 197.753212 84.14751 \nL 195.056579 84.14751 \nz\n\" clip-path=\"url(#p90022e26d6)\" style=\"fill: #0071bc; stroke: #0071bc; stroke-linejoin: miter\"/>\n   </g>\n   <g id=\"patch_55\">\n    <path d=\"M 197.753212 46093.750941 \nL 200.449844 46093.750941 \nL 200.449844 86.025307 \nL 197.753212 86.025307 \nz\n\" clip-path=\"url(#p90022e26d6)\" style=\"fill: #0071bc; stroke: #0071bc; stroke-linejoin: miter\"/>\n   </g>\n   <g id=\"patch_56\">\n    <path d=\"M 200.449844 46093.750941 \nL 203.146476 46093.750941 \nL 203.146476 82.32895 \nL 200.449844 82.32895 \nz\n\" clip-path=\"url(#p90022e26d6)\" style=\"fill: #0071bc; stroke: #0071bc; stroke-linejoin: miter\"/>\n   </g>\n   <g id=\"patch_57\">\n    <path d=\"M 203.146476 46093.750941 \nL 205.843109 46093.750941 \nL 205.843109 85.539018 \nL 203.146476 85.539018 \nz\n\" clip-path=\"url(#p90022e26d6)\" style=\"fill: #0071bc; stroke: #0071bc; stroke-linejoin: miter\"/>\n   </g>\n   <g id=\"patch_58\">\n    <path d=\"M 205.843109 46093.750941 \nL 208.539741 46093.750941 \nL 208.539741 82.024565 \nL 205.843109 82.024565 \nz\n\" clip-path=\"url(#p90022e26d6)\" style=\"fill: #0071bc; stroke: #0071bc; stroke-linejoin: miter\"/>\n   </g>\n   <g id=\"patch_59\">\n    <path d=\"M 208.539741 46093.750941 \nL 211.236373 46093.750941 \nL 211.236373 83.164124 \nL 208.539741 83.164124 \nz\n\" clip-path=\"url(#p90022e26d6)\" style=\"fill: #0071bc; stroke: #0071bc; stroke-linejoin: miter\"/>\n   </g>\n   <g id=\"patch_60\">\n    <path d=\"M 211.236373 46093.750941 \nL 213.933006 46093.750941 \nL 213.933006 85.539018 \nL 211.236373 85.539018 \nz\n\" clip-path=\"url(#p90022e26d6)\" style=\"fill: #0071bc; stroke: #0071bc; stroke-linejoin: miter\"/>\n   </g>\n   <g id=\"patch_61\">\n    <path d=\"M 213.933006 46093.750941 \nL 216.629638 46093.750941 \nL 216.629638 83.92475 \nL 213.933006 83.92475 \nz\n\" clip-path=\"url(#p90022e26d6)\" style=\"fill: #0071bc; stroke: #0071bc; stroke-linejoin: miter\"/>\n   </g>\n   <g id=\"patch_62\">\n    <path d=\"M 216.629638 46093.750941 \nL 219.32627 46093.750941 \nL 219.32627 87.295599 \nL 216.629638 87.295599 \nz\n\" clip-path=\"url(#p90022e26d6)\" style=\"fill: #0071bc; stroke: #0071bc; stroke-linejoin: miter\"/>\n   </g>\n   <g id=\"patch_63\">\n    <path d=\"M 219.32627 46093.750941 \nL 222.022903 46093.750941 \nL 222.022903 86.025307 \nL 219.32627 86.025307 \nz\n\" clip-path=\"url(#p90022e26d6)\" style=\"fill: #0071bc; stroke: #0071bc; stroke-linejoin: miter\"/>\n   </g>\n   <g id=\"patch_64\">\n    <path d=\"M 222.022903 46093.750941 \nL 224.719535 46093.750941 \nL 224.719535 89.222034 \nL 222.022903 89.222034 \nz\n\" clip-path=\"url(#p90022e26d6)\" style=\"fill: #0071bc; stroke: #0071bc; stroke-linejoin: miter\"/>\n   </g>\n   <g id=\"patch_65\">\n    <path d=\"M 224.719535 46093.750941 \nL 227.416167 46093.750941 \nL 227.416167 89.660224 \nL 224.719535 89.660224 \nz\n\" clip-path=\"url(#p90022e26d6)\" style=\"fill: #0071bc; stroke: #0071bc; stroke-linejoin: miter\"/>\n   </g>\n   <g id=\"patch_66\">\n    <path d=\"M 227.416167 46093.750941 \nL 230.1128 46093.750941 \nL 230.1128 89.513088 \nL 227.416167 89.513088 \nz\n\" clip-path=\"url(#p90022e26d6)\" style=\"fill: #0071bc; stroke: #0071bc; stroke-linejoin: miter\"/>\n   </g>\n   <g id=\"patch_67\">\n    <path d=\"M 230.1128 46093.750941 \nL 232.809432 46093.750941 \nL 232.809432 93.031074 \nL 230.1128 93.031074 \nz\n\" clip-path=\"url(#p90022e26d6)\" style=\"fill: #0071bc; stroke: #0071bc; stroke-linejoin: miter\"/>\n   </g>\n   <g id=\"patch_68\">\n    <path d=\"M 232.809432 46093.750941 \nL 235.506064 46093.750941 \nL 235.506064 93.031074 \nL 232.809432 93.031074 \nz\n\" clip-path=\"url(#p90022e26d6)\" style=\"fill: #0071bc; stroke: #0071bc; stroke-linejoin: miter\"/>\n   </g>\n   <g id=\"patch_69\">\n    <path d=\"M 235.506064 46093.750941 \nL 238.202697 46093.750941 \nL 238.202697 101.646452 \nL 235.506064 101.646452 \nz\n\" clip-path=\"url(#p90022e26d6)\" style=\"fill: #0071bc; stroke: #0071bc; stroke-linejoin: miter\"/>\n   </g>\n   <g id=\"patch_70\">\n    <path d=\"M 238.202697 46093.750941 \nL 240.899329 46093.750941 \nL 240.899329 99.119422 \nL 238.202697 99.119422 \nz\n\" clip-path=\"url(#p90022e26d6)\" style=\"fill: #0071bc; stroke: #0071bc; stroke-linejoin: miter\"/>\n   </g>\n   <g id=\"patch_71\">\n    <path d=\"M 240.899329 46093.750941 \nL 243.595961 46093.750941 \nL 243.595961 107.562352 \nL 240.899329 107.562352 \nz\n\" clip-path=\"url(#p90022e26d6)\" style=\"fill: #0071bc; stroke: #0071bc; stroke-linejoin: miter\"/>\n   </g>\n   <g id=\"patch_72\">\n    <path d=\"M 243.595961 46093.750941 \nL 246.292594 46093.750941 \nL 246.292594 106.1627 \nL 243.595961 106.1627 \nz\n\" clip-path=\"url(#p90022e26d6)\" style=\"fill: #0071bc; stroke: #0071bc; stroke-linejoin: miter\"/>\n   </g>\n   <g id=\"patch_73\">\n    <path d=\"M 246.292594 46093.750941 \nL 248.989226 46093.750941 \nL 248.989226 108.300838 \nL 246.292594 108.300838 \nz\n\" clip-path=\"url(#p90022e26d6)\" style=\"fill: #0071bc; stroke: #0071bc; stroke-linejoin: miter\"/>\n   </g>\n   <g id=\"patch_74\">\n    <path d=\"M 248.989226 46093.750941 \nL 251.685858 46093.750941 \nL 251.685858 109.462536 \nL 248.989226 109.462536 \nz\n\" clip-path=\"url(#p90022e26d6)\" style=\"fill: #0071bc; stroke: #0071bc; stroke-linejoin: miter\"/>\n   </g>\n   <g id=\"patch_75\">\n    <path d=\"M 251.685858 46093.750941 \nL 254.382491 46093.750941 \nL 254.382491 113.419023 \nL 251.685858 113.419023 \nz\n\" clip-path=\"url(#p90022e26d6)\" style=\"fill: #0071bc; stroke: #0071bc; stroke-linejoin: miter\"/>\n   </g>\n   <g id=\"patch_76\">\n    <path d=\"M 254.382491 46093.750941 \nL 257.079123 46093.750941 \nL 257.079123 120.322681 \nL 254.382491 120.322681 \nz\n\" clip-path=\"url(#p90022e26d6)\" style=\"fill: #0071bc; stroke: #0071bc; stroke-linejoin: miter\"/>\n   </g>\n   <g id=\"patch_77\">\n    <path d=\"M 257.079123 46093.750941 \nL 259.775756 46093.750941 \nL 259.775756 122.499771 \nL 257.079123 122.499771 \nz\n\" clip-path=\"url(#p90022e26d6)\" style=\"fill: #0071bc; stroke: #0071bc; stroke-linejoin: miter\"/>\n   </g>\n   <g id=\"patch_78\">\n    <path d=\"M 259.775756 46093.750941 \nL 262.472388 46093.750941 \nL 262.472388 117.746606 \nL 259.775756 117.746606 \nz\n\" clip-path=\"url(#p90022e26d6)\" style=\"fill: #0071bc; stroke: #0071bc; stroke-linejoin: miter\"/>\n   </g>\n   <g id=\"patch_79\">\n    <path d=\"M 262.472388 46093.750941 \nL 265.16902 46093.750941 \nL 265.16902 139.649475 \nL 262.472388 139.649475 \nz\n\" clip-path=\"url(#p90022e26d6)\" style=\"fill: #0071bc; stroke: #0071bc; stroke-linejoin: miter\"/>\n   </g>\n   <g id=\"patch_80\">\n    <path d=\"M 265.16902 46093.750941 \nL 267.865653 46093.750941 \nL 267.865653 136.318942 \nL 265.16902 136.318942 \nz\n\" clip-path=\"url(#p90022e26d6)\" style=\"fill: #0071bc; stroke: #0071bc; stroke-linejoin: miter\"/>\n   </g>\n   <g id=\"patch_81\">\n    <path d=\"M 267.865653 46093.750941 \nL 270.562285 46093.750941 \nL 270.562285 141.54966 \nL 267.865653 141.54966 \nz\n\" clip-path=\"url(#p90022e26d6)\" style=\"fill: #0071bc; stroke: #0071bc; stroke-linejoin: miter\"/>\n   </g>\n   <g id=\"patch_82\">\n    <path d=\"M 270.562285 46093.750941 \nL 273.258917 46093.750941 \nL 273.258917 133.465962 \nL 270.562285 133.465962 \nz\n\" clip-path=\"url(#p90022e26d6)\" style=\"fill: #0071bc; stroke: #0071bc; stroke-linejoin: miter\"/>\n   </g>\n   <g id=\"patch_83\">\n    <path d=\"M 273.258917 46093.750941 \nL 275.95555 46093.750941 \nL 275.95555 141.54966 \nL 273.258917 141.54966 \nz\n\" clip-path=\"url(#p90022e26d6)\" style=\"fill: #0071bc; stroke: #0071bc; stroke-linejoin: miter\"/>\n   </g>\n   <g id=\"patch_84\">\n    <path d=\"M 275.95555 46093.750941 \nL 278.652182 46093.750941 \nL 278.652182 139.649475 \nL 275.95555 139.649475 \nz\n\" clip-path=\"url(#p90022e26d6)\" style=\"fill: #0071bc; stroke: #0071bc; stroke-linejoin: miter\"/>\n   </g>\n   <g id=\"patch_85\">\n    <path d=\"M 278.652182 46093.750941 \nL 281.348814 46093.750941 \nL 281.348814 148.660635 \nL 278.652182 148.660635 \nz\n\" clip-path=\"url(#p90022e26d6)\" style=\"fill: #0071bc; stroke: #0071bc; stroke-linejoin: miter\"/>\n   </g>\n   <g id=\"patch_86\">\n    <path d=\"M 281.348814 46093.750941 \nL 284.045447 46093.750941 \nL 284.045447 143.650216 \nL 281.348814 143.650216 \nz\n\" clip-path=\"url(#p90022e26d6)\" style=\"fill: #0071bc; stroke: #0071bc; stroke-linejoin: miter\"/>\n   </g>\n   <g id=\"patch_87\">\n    <path d=\"M 284.045447 46093.750941 \nL 286.742079 46093.750941 \nL 286.742079 155.368831 \nL 284.045447 155.368831 \nz\n\" clip-path=\"url(#p90022e26d6)\" style=\"fill: #0071bc; stroke: #0071bc; stroke-linejoin: miter\"/>\n   </g>\n   <g id=\"patch_88\">\n    <path d=\"M 286.742079 46093.750941 \nL 289.438711 46093.750941 \nL 289.438711 159.817611 \nL 286.742079 159.817611 \nz\n\" clip-path=\"url(#p90022e26d6)\" style=\"fill: #0071bc; stroke: #0071bc; stroke-linejoin: miter\"/>\n   </g>\n   <g id=\"patch_89\">\n    <path d=\"M 289.438711 46093.750941 \nL 292.135344 46093.750941 \nL 292.135344 165.553085 \nL 289.438711 165.553085 \nz\n\" clip-path=\"url(#p90022e26d6)\" style=\"fill: #0071bc; stroke: #0071bc; stroke-linejoin: miter\"/>\n   </g>\n   <g id=\"patch_90\">\n    <path d=\"M 292.135344 46093.750941 \nL 294.831976 46093.750941 \nL 294.831976 165.553085 \nL 292.135344 165.553085 \nz\n\" clip-path=\"url(#p90022e26d6)\" style=\"fill: #0071bc; stroke: #0071bc; stroke-linejoin: miter\"/>\n   </g>\n   <g id=\"patch_91\">\n    <path d=\"M 294.831976 46093.750941 \nL 297.528608 46093.750941 \nL 297.528608 187.455955 \nL 294.831976 187.455955 \nz\n\" clip-path=\"url(#p90022e26d6)\" style=\"fill: #0071bc; stroke: #0071bc; stroke-linejoin: miter\"/>\n   </g>\n   <g id=\"patch_92\">\n    <path d=\"M 297.528608 46093.750941 \nL 300.225241 46093.750941 \nL 300.225241 187.455955 \nL 297.528608 187.455955 \nz\n\" clip-path=\"url(#p90022e26d6)\" style=\"fill: #0071bc; stroke: #0071bc; stroke-linejoin: miter\"/>\n   </g>\n   <g id=\"patch_93\">\n    <path d=\"M 300.225241 46093.750941 \nL 302.921873 46093.750941 \nL 302.921873 173.636783 \nL 300.225241 173.636783 \nz\n\" clip-path=\"url(#p90022e26d6)\" style=\"fill: #0071bc; stroke: #0071bc; stroke-linejoin: miter\"/>\n   </g>\n   <g id=\"patch_94\">\n    <path d=\"M 302.921873 46093.750941 \nL 305.618505 46093.750941 \nL 305.618505 173.636783 \nL 302.921873 173.636783 \nz\n\" clip-path=\"url(#p90022e26d6)\" style=\"fill: #0071bc; stroke: #0071bc; stroke-linejoin: miter\"/>\n   </g>\n   <g id=\"patch_95\">\n    <path d=\"M 305.618505 46093.750941 \nL 308.315138 46093.750941 \nL 308.315138 187.455955 \nL 305.618505 187.455955 \nz\n\" clip-path=\"url(#p90022e26d6)\" style=\"fill: #0071bc; stroke: #0071bc; stroke-linejoin: miter\"/>\n   </g>\n   <g id=\"patch_96\">\n    <path d=\"M 308.315138 46093.750941 \nL 311.01177 46093.750941 \nL 311.01177 46093.750941 \nL 308.315138 46093.750941 \nz\n\" clip-path=\"url(#p90022e26d6)\" style=\"fill: #0071bc; stroke: #0071bc; stroke-linejoin: miter\"/>\n   </g>\n   <g id=\"patch_97\">\n    <path d=\"M 311.01177 46093.750941 \nL 313.708402 46093.750941 \nL 313.708402 187.455955 \nL 311.01177 187.455955 \nz\n\" clip-path=\"url(#p90022e26d6)\" style=\"fill: #0071bc; stroke: #0071bc; stroke-linejoin: miter\"/>\n   </g>\n   <g id=\"patch_98\">\n    <path d=\"M 313.708402 46093.750941 \nL 316.405035 46093.750941 \nL 316.405035 46093.750941 \nL 313.708402 46093.750941 \nz\n\" clip-path=\"url(#p90022e26d6)\" style=\"fill: #0071bc; stroke: #0071bc; stroke-linejoin: miter\"/>\n   </g>\n   <g id=\"patch_99\">\n    <path d=\"M 316.405035 46093.750941 \nL 319.101667 46093.750941 \nL 319.101667 46093.750941 \nL 316.405035 46093.750941 \nz\n\" clip-path=\"url(#p90022e26d6)\" style=\"fill: #0071bc; stroke: #0071bc; stroke-linejoin: miter\"/>\n   </g>\n   <g id=\"patch_100\">\n    <path d=\"M 319.101667 46093.750941 \nL 321.798299 46093.750941 \nL 321.798299 187.455955 \nL 319.101667 187.455955 \nz\n\" clip-path=\"url(#p90022e26d6)\" style=\"fill: #0071bc; stroke: #0071bc; stroke-linejoin: miter\"/>\n   </g>\n   <g id=\"patch_101\">\n    <path d=\"M 321.798299 46093.750941 \nL 324.494932 46093.750941 \nL 324.494932 46093.750941 \nL 321.798299 46093.750941 \nz\n\" clip-path=\"url(#p90022e26d6)\" style=\"fill: #0071bc; stroke: #0071bc; stroke-linejoin: miter\"/>\n   </g>\n   <g id=\"matplotlib.axis_1\">\n    <g id=\"xtick_1\">\n     <g id=\"line2d_1\">\n      <defs>\n       <path id=\"m4ba84d7c4b\" d=\"M 0 0 \nL 0 3.5 \n\" style=\"stroke: #000000; stroke-width: 0.8\"/>\n      </defs>\n      <g>\n       <use xlink:href=\"#m4ba84d7c4b\" x=\"87.191286\" y=\"195.2505\" style=\"stroke: #000000; stroke-width: 0.8\"/>\n      </g>\n     </g>\n     <g id=\"text_1\">\n      <!-- $\\mathdefault{10^{-9}}$ -->\n      <g transform=\"translate(78.131286 211.05925)scale(0.12 -0.12)\">\n       <defs>\n        <path id=\"GuardianSansCond-Regular-31\" d=\"M 832 0 \nL 1363 0 \nL 1363 4474 \nL 1171 4474 \nL 141 4083 \nL 141 3776 \nL 832 3846 \nL 832 0 \nz\n\" transform=\"scale(0.015625)\"/>\n        <path id=\"GuardianSansCond-Regular-30\" d=\"M 1722 -70 \nC 2656 -70 3155 646 3155 2061 \nL 3155 2406 \nC 3155 3891 2598 4499 1715 4499 \nC 819 4499 269 3834 269 2368 \nL 269 2042 \nC 269 499 845 -70 1722 -70 \nz\nM 1728 384 \nC 1069 384 845 979 845 2016 \nL 845 2490 \nC 845 3494 1088 4051 1709 4051 \nC 2336 4051 2592 3514 2592 2458 \nL 2592 1978 \nC 2592 934 2374 384 1728 384 \nz\n\" transform=\"scale(0.015625)\"/>\n        <path id=\"GuardianSansCond-Regular-2212\" d=\"M 262 2010 \nL 2554 2010 \nL 2554 2477 \nL 262 2477 \nL 262 2010 \nz\n\" transform=\"scale(0.015625)\"/>\n        <path id=\"GuardianSansCond-Regular-39\" d=\"M 1171 -70 \nC 2176 -70 2854 448 2854 2221 \nL 2854 2586 \nC 2854 3795 2432 4499 1523 4499 \nC 691 4499 243 3917 243 3021 \nC 243 2202 653 1683 1389 1683 \nC 1766 1683 2074 1818 2285 1984 \nC 2266 608 1798 397 1107 397 \nC 851 397 563 467 429 518 \nL 429 96 \nC 563 0 858 -70 1171 -70 \nz\nM 1542 2150 \nC 1056 2150 806 2445 806 3072 \nC 806 3712 1043 4045 1523 4045 \nC 2048 4045 2285 3558 2285 2592 \nL 2285 2374 \nC 2138 2272 1882 2150 1542 2150 \nz\n\" transform=\"scale(0.015625)\"/>\n       </defs>\n       <use xlink:href=\"#GuardianSansCond-Regular-31\" transform=\"translate(0 0.884375)\"/>\n       <use xlink:href=\"#GuardianSansCond-Regular-30\" transform=\"translate(28.799988 0.884375)\"/>\n       <use xlink:href=\"#GuardianSansCond-Regular-2212\" transform=\"translate(83.197668 36.792188)scale(0.7)\"/>\n       <use xlink:href=\"#GuardianSansCond-Regular-39\" transform=\"translate(113.927664 36.792188)scale(0.7)\"/>\n      </g>\n     </g>\n    </g>\n    <g id=\"xtick_2\">\n     <g id=\"line2d_2\">\n      <g>\n       <use xlink:href=\"#m4ba84d7c4b\" x=\"146.517197\" y=\"195.2505\" style=\"stroke: #000000; stroke-width: 0.8\"/>\n      </g>\n     </g>\n     <g id=\"text_2\">\n      <!-- $\\mathdefault{10^{-7}}$ -->\n      <g transform=\"translate(137.877197 211.05925)scale(0.12 -0.12)\">\n       <defs>\n        <path id=\"GuardianSansCond-Regular-37\" d=\"M 461 0 \nL 1018 0 \nL 2387 3994 \nL 2387 4435 \nL 109 4435 \nL 109 3974 \nL 1850 3974 \nL 1850 3949 \nL 461 0 \nz\n\" transform=\"scale(0.015625)\"/>\n       </defs>\n       <use xlink:href=\"#GuardianSansCond-Regular-31\" transform=\"translate(0 0.584375)\"/>\n       <use xlink:href=\"#GuardianSansCond-Regular-30\" transform=\"translate(28.799988 0.584375)\"/>\n       <use xlink:href=\"#GuardianSansCond-Regular-2212\" transform=\"translate(83.197668 36.492187)scale(0.7)\"/>\n       <use xlink:href=\"#GuardianSansCond-Regular-37\" transform=\"translate(113.927664 36.492187)scale(0.7)\"/>\n      </g>\n     </g>\n    </g>\n    <g id=\"xtick_3\">\n     <g id=\"line2d_3\">\n      <g>\n       <use xlink:href=\"#m4ba84d7c4b\" x=\"205.843109\" y=\"195.2505\" style=\"stroke: #000000; stroke-width: 0.8\"/>\n      </g>\n     </g>\n     <g id=\"text_3\">\n      <!-- $\\mathdefault{10^{-5}}$ -->\n      <g transform=\"translate(197.083109 211.05925)scale(0.12 -0.12)\">\n       <defs>\n        <path id=\"GuardianSansCond-Regular-35\" d=\"M 1094 -64 \nC 1971 -64 2445 512 2445 1363 \nC 2445 2298 1997 2707 1165 2707 \nC 1011 2707 890 2694 794 2675 \nL 877 3974 \nL 2342 3974 \nL 2342 4435 \nL 429 4435 \nL 294 2170 \nC 467 2208 710 2246 966 2246 \nC 1587 2246 1875 1990 1875 1363 \nC 1875 717 1587 397 954 397 \nC 627 397 365 474 154 582 \nL 154 147 \nC 352 26 672 -64 1094 -64 \nz\n\" transform=\"scale(0.015625)\"/>\n       </defs>\n       <use xlink:href=\"#GuardianSansCond-Regular-31\" transform=\"translate(0 0.584375)\"/>\n       <use xlink:href=\"#GuardianSansCond-Regular-30\" transform=\"translate(28.799988 0.584375)\"/>\n       <use xlink:href=\"#GuardianSansCond-Regular-2212\" transform=\"translate(83.197668 36.492187)scale(0.7)\"/>\n       <use xlink:href=\"#GuardianSansCond-Regular-35\" transform=\"translate(113.927664 36.492187)scale(0.7)\"/>\n      </g>\n     </g>\n    </g>\n    <g id=\"xtick_4\">\n     <g id=\"line2d_4\">\n      <g>\n       <use xlink:href=\"#m4ba84d7c4b\" x=\"265.16902\" y=\"195.2505\" style=\"stroke: #000000; stroke-width: 0.8\"/>\n      </g>\n     </g>\n     <g id=\"text_4\">\n      <!-- $\\mathdefault{10^{-3}}$ -->\n      <g transform=\"translate(256.34902 211.05925)scale(0.12 -0.12)\">\n       <defs>\n        <path id=\"GuardianSansCond-Regular-33\" d=\"M 1094 -64 \nC 1920 -64 2432 416 2432 1248 \nC 2432 1939 2112 2253 1606 2362 \nL 1606 2381 \nC 2042 2515 2310 2803 2310 3405 \nC 2310 4096 1882 4499 1158 4499 \nC 787 4499 486 4429 275 4320 \nL 275 3891 \nC 461 3968 678 4038 998 4038 \nC 1478 4038 1754 3866 1754 3302 \nC 1754 2797 1478 2547 1018 2547 \nL 717 2547 \nL 717 2086 \nL 1056 2086 \nC 1600 2086 1869 1837 1869 1267 \nC 1869 646 1517 403 947 403 \nC 646 403 358 493 147 608 \nL 147 166 \nC 358 32 640 -64 1094 -64 \nz\n\" transform=\"scale(0.015625)\"/>\n       </defs>\n       <use xlink:href=\"#GuardianSansCond-Regular-31\" transform=\"translate(0 0.884375)\"/>\n       <use xlink:href=\"#GuardianSansCond-Regular-30\" transform=\"translate(28.799988 0.884375)\"/>\n       <use xlink:href=\"#GuardianSansCond-Regular-2212\" transform=\"translate(83.197668 36.792188)scale(0.7)\"/>\n       <use xlink:href=\"#GuardianSansCond-Regular-33\" transform=\"translate(113.927664 36.792188)scale(0.7)\"/>\n      </g>\n     </g>\n    </g>\n    <g id=\"xtick_5\">\n     <g id=\"line2d_5\">\n      <g>\n       <use xlink:href=\"#m4ba84d7c4b\" x=\"324.494932\" y=\"195.2505\" style=\"stroke: #000000; stroke-width: 0.8\"/>\n      </g>\n     </g>\n     <g id=\"text_5\">\n      <!-- $\\mathdefault{10^{-1}}$ -->\n      <g transform=\"translate(316.274932 211.05925)scale(0.12 -0.12)\">\n       <use xlink:href=\"#GuardianSansCond-Regular-31\" transform=\"translate(0 0.157813)\"/>\n       <use xlink:href=\"#GuardianSansCond-Regular-30\" transform=\"translate(28.799988 0.157813)\"/>\n       <use xlink:href=\"#GuardianSansCond-Regular-2212\" transform=\"translate(83.197668 36.065625)scale(0.7)\"/>\n       <use xlink:href=\"#GuardianSansCond-Regular-31\" transform=\"translate(113.927664 36.065625)scale(0.7)\"/>\n      </g>\n     </g>\n    </g>\n    <g id=\"text_6\">\n     <!-- Probability -->\n     <g transform=\"translate(167.984756 226.15925)scale(0.12 -0.12)\">\n      <defs>\n       <path id=\"GuardianSansCond-Regular-50\" d=\"M 416 0 \nL 954 0 \nL 954 1766 \nL 1555 1766 \nC 2362 1766 2854 2246 2854 3117 \nC 2854 4026 2413 4435 1536 4435 \nL 416 4435 \nL 416 0 \nz\nM 954 2221 \nL 954 3974 \nL 1478 3974 \nC 2061 3974 2285 3750 2285 3098 \nC 2285 2496 2054 2221 1472 2221 \nL 954 2221 \nz\n\" transform=\"scale(0.015625)\"/>\n       <path id=\"GuardianSansCond-Regular-72\" d=\"M 346 0 \nL 870 0 \nL 870 2605 \nC 1062 2752 1306 2842 1587 2842 \nC 1638 2842 1728 2835 1786 2829 \nL 1786 3302 \nC 1747 3315 1677 3328 1606 3328 \nC 1306 3328 1030 3142 870 2938 \nL 845 2938 \nL 845 3283 \nL 346 3283 \nL 346 0 \nz\n\" transform=\"scale(0.015625)\"/>\n       <path id=\"GuardianSansCond-Regular-6f\" d=\"M 1459 -51 \nC 2272 -51 2733 570 2733 1542 \nL 2733 1747 \nC 2733 2771 2291 3334 1459 3334 \nC 659 3334 186 2714 186 1741 \nL 186 1530 \nC 186 531 614 -51 1459 -51 \nz\nM 1466 378 \nC 992 378 723 762 723 1472 \nL 723 1818 \nC 723 2451 947 2906 1453 2906 \nC 1920 2906 2195 2560 2195 1805 \nL 2195 1466 \nC 2195 826 1958 378 1466 378 \nz\n\" transform=\"scale(0.015625)\"/>\n       <path id=\"GuardianSansCond-Regular-62\" d=\"M 1382 -64 \nC 2317 -64 2784 531 2784 1619 \nL 2784 1843 \nC 2784 2995 2285 3334 1702 3334 \nC 1338 3334 1075 3219 896 3104 \nL 870 3104 \nL 870 4698 \nL 346 4698 \nL 346 102 \nC 557 19 1005 -64 1382 -64 \nz\nM 1408 378 \nC 1165 378 979 416 870 454 \nL 870 2733 \nC 992 2790 1216 2893 1491 2893 \nC 2003 2893 2246 2650 2246 1818 \nL 2246 1549 \nC 2246 627 1875 378 1408 378 \nz\n\" transform=\"scale(0.015625)\"/>\n       <path id=\"GuardianSansCond-Regular-61\" d=\"M 1082 -51 \nC 1395 -51 1638 77 1779 230 \nL 1811 230 \nL 1862 0 \nL 2291 0 \nL 2291 2413 \nC 2291 3027 1958 3334 1293 3334 \nC 915 3334 634 3258 410 3155 \nL 410 2771 \nC 576 2829 806 2886 1094 2886 \nC 1600 2886 1766 2739 1766 2278 \nL 1766 1958 \nL 1088 1856 \nC 480 1766 160 1466 160 883 \nC 160 250 525 -51 1082 -51 \nz\nM 1222 358 \nC 877 358 704 544 704 915 \nC 704 1274 877 1440 1242 1485 \nL 1766 1549 \nL 1766 525 \nC 1658 435 1459 358 1222 358 \nz\n\" transform=\"scale(0.015625)\"/>\n       <path id=\"GuardianSansCond-Regular-69\" d=\"M 358 0 \nL 883 0 \nL 883 3283 \nL 358 3283 \nL 358 0 \nz\nM 352 3910 \nL 883 3910 \nL 883 4474 \nL 352 4474 \nL 352 3910 \nz\n\" transform=\"scale(0.015625)\"/>\n       <path id=\"GuardianSansCond-Regular-6c\" d=\"M 358 0 \nL 877 0 \nL 877 4698 \nL 358 4698 \nL 358 0 \nz\n\" transform=\"scale(0.015625)\"/>\n       <path id=\"GuardianSansCond-Regular-74\" d=\"M 1222 -38 \nC 1466 -38 1619 26 1722 90 \nL 1722 442 \nC 1632 416 1517 390 1382 390 \nC 1107 390 1005 480 1005 781 \nL 1005 2848 \nL 1683 2848 \nL 1683 3283 \nL 1005 3283 \nL 1005 4051 \nL 486 4051 \nL 486 3283 \nL 96 3283 \nL 96 2848 \nL 486 2848 \nL 486 710 \nC 486 160 774 -38 1222 -38 \nz\n\" transform=\"scale(0.015625)\"/>\n       <path id=\"GuardianSansCond-Regular-79\" d=\"M 570 -1261 \nC 1082 -1261 1306 -960 1485 -365 \nL 2592 3283 \nL 2067 3283 \nL 1485 1197 \nC 1421 992 1376 787 1376 787 \nL 1363 787 \nC 1363 787 1331 928 1248 1203 \nL 621 3283 \nL 51 3283 \nL 1120 13 \nL 1018 -294 \nC 896 -698 749 -826 480 -826 \nC 384 -826 262 -813 186 -800 \nL 186 -1171 \nC 282 -1222 435 -1261 570 -1261 \nz\n\" transform=\"scale(0.015625)\"/>\n      </defs>\n      <use xlink:href=\"#GuardianSansCond-Regular-50\"/>\n      <use xlink:href=\"#GuardianSansCond-Regular-72\" x=\"46.999985\"/>\n      <use xlink:href=\"#GuardianSansCond-Regular-6f\" x=\"75.799973\"/>\n      <use xlink:href=\"#GuardianSansCond-Regular-62\" x=\"121.399963\"/>\n      <use xlink:href=\"#GuardianSansCond-Regular-61\" x=\"167.999954\"/>\n      <use xlink:href=\"#GuardianSansCond-Regular-62\" x=\"208.899948\"/>\n      <use xlink:href=\"#GuardianSansCond-Regular-69\" x=\"255.499939\"/>\n      <use xlink:href=\"#GuardianSansCond-Regular-6c\" x=\"274.799927\"/>\n      <use xlink:href=\"#GuardianSansCond-Regular-69\" x=\"294.099915\"/>\n      <use xlink:href=\"#GuardianSansCond-Regular-74\" x=\"313.399902\"/>\n      <use xlink:href=\"#GuardianSansCond-Regular-79\" x=\"342.399887\"/>\n     </g>\n    </g>\n   </g>\n   <g id=\"matplotlib.axis_2\">\n    <g id=\"ytick_1\">\n     <g id=\"line2d_6\">\n      <defs>\n       <path id=\"m165d26b65f\" d=\"M 0 0 \nL -3.5 0 \n\" style=\"stroke: #000000; stroke-width: 0.8\"/>\n      </defs>\n      <g>\n       <use xlink:href=\"#m165d26b65f\" x=\"44.18\" y=\"187.455955\" style=\"stroke: #000000; stroke-width: 0.8\"/>\n      </g>\n     </g>\n     <g id=\"text_7\">\n      <!-- $\\mathdefault{10^{0}}$ -->\n      <g transform=\"translate(22.3 191.86033)scale(0.12 -0.12)\">\n       <use xlink:href=\"#GuardianSansCond-Regular-31\" transform=\"translate(0 0.884375)\"/>\n       <use xlink:href=\"#GuardianSansCond-Regular-30\" transform=\"translate(28.799988 0.884375)\"/>\n       <use xlink:href=\"#GuardianSansCond-Regular-30\" transform=\"translate(83.197668 36.792188)scale(0.7)\"/>\n      </g>\n     </g>\n    </g>\n    <g id=\"ytick_2\">\n     <g id=\"line2d_7\">\n      <g>\n       <use xlink:href=\"#m165d26b65f\" x=\"44.18\" y=\"141.54966\" style=\"stroke: #000000; stroke-width: 0.8\"/>\n      </g>\n     </g>\n     <g id=\"text_8\">\n      <!-- $\\mathdefault{10^{1}}$ -->\n      <g transform=\"translate(24.46 145.954035)scale(0.12 -0.12)\">\n       <use xlink:href=\"#GuardianSansCond-Regular-31\" transform=\"translate(0 0.157813)\"/>\n       <use xlink:href=\"#GuardianSansCond-Regular-30\" transform=\"translate(28.799988 0.157813)\"/>\n       <use xlink:href=\"#GuardianSansCond-Regular-31\" transform=\"translate(83.197668 36.065625)scale(0.7)\"/>\n      </g>\n     </g>\n    </g>\n    <g id=\"ytick_3\">\n     <g id=\"line2d_8\">\n      <g>\n       <use xlink:href=\"#m165d26b65f\" x=\"44.18\" y=\"95.643365\" style=\"stroke: #000000; stroke-width: 0.8\"/>\n      </g>\n     </g>\n     <g id=\"text_9\">\n      <!-- $\\mathdefault{10^{2}}$ -->\n      <g transform=\"translate(23.26 100.04774)scale(0.12 -0.12)\">\n       <defs>\n        <path id=\"GuardianSansCond-Regular-32\" d=\"M 173 0 \nL 2470 0 \nL 2470 461 \nL 800 461 \nL 800 480 \nL 1574 1421 \nC 2067 2035 2419 2528 2419 3264 \nC 2419 4026 2029 4499 1222 4499 \nC 806 4499 499 4410 269 4282 \nL 269 3853 \nC 467 3949 730 4032 1056 4032 \nC 1619 4032 1850 3750 1850 3213 \nC 1850 2630 1542 2189 1152 1670 \nL 173 397 \nL 173 0 \nz\n\" transform=\"scale(0.015625)\"/>\n       </defs>\n       <use xlink:href=\"#GuardianSansCond-Regular-31\" transform=\"translate(0 0.884375)\"/>\n       <use xlink:href=\"#GuardianSansCond-Regular-30\" transform=\"translate(28.799988 0.884375)\"/>\n       <use xlink:href=\"#GuardianSansCond-Regular-32\" transform=\"translate(83.197668 36.792188)scale(0.7)\"/>\n      </g>\n     </g>\n    </g>\n    <g id=\"ytick_4\">\n     <g id=\"line2d_9\">\n      <g>\n       <use xlink:href=\"#m165d26b65f\" x=\"44.18\" y=\"49.73707\" style=\"stroke: #000000; stroke-width: 0.8\"/>\n      </g>\n     </g>\n     <g id=\"text_10\">\n      <!-- $\\mathdefault{10^{3}}$ -->\n      <g transform=\"translate(23.26 54.141445)scale(0.12 -0.12)\">\n       <use xlink:href=\"#GuardianSansCond-Regular-31\" transform=\"translate(0 0.884375)\"/>\n       <use xlink:href=\"#GuardianSansCond-Regular-30\" transform=\"translate(28.799988 0.884375)\"/>\n       <use xlink:href=\"#GuardianSansCond-Regular-33\" transform=\"translate(83.197668 36.792188)scale(0.7)\"/>\n      </g>\n     </g>\n    </g>\n    <g id=\"ytick_5\">\n     <g id=\"line2d_10\">\n      <defs>\n       <path id=\"mfd217444ea\" d=\"M 0 0 \nL -2 0 \n\" style=\"stroke: #000000; stroke-width: 0.6\"/>\n      </defs>\n      <g>\n       <use xlink:href=\"#mfd217444ea\" x=\"44.18\" y=\"194.56693\" style=\"stroke: #000000; stroke-width: 0.6\"/>\n      </g>\n     </g>\n    </g>\n    <g id=\"ytick_6\">\n     <g id=\"line2d_11\">\n      <g>\n       <use xlink:href=\"#mfd217444ea\" x=\"44.18\" y=\"191.904734\" style=\"stroke: #000000; stroke-width: 0.6\"/>\n      </g>\n     </g>\n    </g>\n    <g id=\"ytick_7\">\n     <g id=\"line2d_12\">\n      <g>\n       <use xlink:href=\"#mfd217444ea\" x=\"44.18\" y=\"189.556511\" style=\"stroke: #000000; stroke-width: 0.6\"/>\n      </g>\n     </g>\n    </g>\n    <g id=\"ytick_8\">\n     <g id=\"line2d_13\">\n      <g>\n       <use xlink:href=\"#mfd217444ea\" x=\"44.18\" y=\"173.636783\" style=\"stroke: #000000; stroke-width: 0.6\"/>\n      </g>\n     </g>\n    </g>\n    <g id=\"ytick_9\">\n     <g id=\"line2d_14\">\n      <g>\n       <use xlink:href=\"#mfd217444ea\" x=\"44.18\" y=\"165.553085\" style=\"stroke: #000000; stroke-width: 0.6\"/>\n      </g>\n     </g>\n    </g>\n    <g id=\"ytick_10\">\n     <g id=\"line2d_15\">\n      <g>\n       <use xlink:href=\"#mfd217444ea\" x=\"44.18\" y=\"159.817611\" style=\"stroke: #000000; stroke-width: 0.6\"/>\n      </g>\n     </g>\n    </g>\n    <g id=\"ytick_11\">\n     <g id=\"line2d_16\">\n      <g>\n       <use xlink:href=\"#mfd217444ea\" x=\"44.18\" y=\"155.368831\" style=\"stroke: #000000; stroke-width: 0.6\"/>\n      </g>\n     </g>\n    </g>\n    <g id=\"ytick_12\">\n     <g id=\"line2d_17\">\n      <g>\n       <use xlink:href=\"#mfd217444ea\" x=\"44.18\" y=\"151.733914\" style=\"stroke: #000000; stroke-width: 0.6\"/>\n      </g>\n     </g>\n    </g>\n    <g id=\"ytick_13\">\n     <g id=\"line2d_18\">\n      <g>\n       <use xlink:href=\"#mfd217444ea\" x=\"44.18\" y=\"148.660635\" style=\"stroke: #000000; stroke-width: 0.6\"/>\n      </g>\n     </g>\n    </g>\n    <g id=\"ytick_14\">\n     <g id=\"line2d_19\">\n      <g>\n       <use xlink:href=\"#mfd217444ea\" x=\"44.18\" y=\"145.998439\" style=\"stroke: #000000; stroke-width: 0.6\"/>\n      </g>\n     </g>\n    </g>\n    <g id=\"ytick_15\">\n     <g id=\"line2d_20\">\n      <g>\n       <use xlink:href=\"#mfd217444ea\" x=\"44.18\" y=\"143.650216\" style=\"stroke: #000000; stroke-width: 0.6\"/>\n      </g>\n     </g>\n    </g>\n    <g id=\"ytick_16\">\n     <g id=\"line2d_21\">\n      <g>\n       <use xlink:href=\"#mfd217444ea\" x=\"44.18\" y=\"127.730488\" style=\"stroke: #000000; stroke-width: 0.6\"/>\n      </g>\n     </g>\n    </g>\n    <g id=\"ytick_17\">\n     <g id=\"line2d_22\">\n      <g>\n       <use xlink:href=\"#mfd217444ea\" x=\"44.18\" y=\"119.64679\" style=\"stroke: #000000; stroke-width: 0.6\"/>\n      </g>\n     </g>\n    </g>\n    <g id=\"ytick_18\">\n     <g id=\"line2d_23\">\n      <g>\n       <use xlink:href=\"#mfd217444ea\" x=\"44.18\" y=\"113.911316\" style=\"stroke: #000000; stroke-width: 0.6\"/>\n      </g>\n     </g>\n    </g>\n    <g id=\"ytick_19\">\n     <g id=\"line2d_24\">\n      <g>\n       <use xlink:href=\"#mfd217444ea\" x=\"44.18\" y=\"109.462536\" style=\"stroke: #000000; stroke-width: 0.6\"/>\n      </g>\n     </g>\n    </g>\n    <g id=\"ytick_20\">\n     <g id=\"line2d_25\">\n      <g>\n       <use xlink:href=\"#mfd217444ea\" x=\"44.18\" y=\"105.827619\" style=\"stroke: #000000; stroke-width: 0.6\"/>\n      </g>\n     </g>\n    </g>\n    <g id=\"ytick_21\">\n     <g id=\"line2d_26\">\n      <g>\n       <use xlink:href=\"#mfd217444ea\" x=\"44.18\" y=\"102.75434\" style=\"stroke: #000000; stroke-width: 0.6\"/>\n      </g>\n     </g>\n    </g>\n    <g id=\"ytick_22\">\n     <g id=\"line2d_27\">\n      <g>\n       <use xlink:href=\"#mfd217444ea\" x=\"44.18\" y=\"100.092144\" style=\"stroke: #000000; stroke-width: 0.6\"/>\n      </g>\n     </g>\n    </g>\n    <g id=\"ytick_23\">\n     <g id=\"line2d_28\">\n      <g>\n       <use xlink:href=\"#mfd217444ea\" x=\"44.18\" y=\"97.743921\" style=\"stroke: #000000; stroke-width: 0.6\"/>\n      </g>\n     </g>\n    </g>\n    <g id=\"ytick_24\">\n     <g id=\"line2d_29\">\n      <g>\n       <use xlink:href=\"#mfd217444ea\" x=\"44.18\" y=\"81.824193\" style=\"stroke: #000000; stroke-width: 0.6\"/>\n      </g>\n     </g>\n    </g>\n    <g id=\"ytick_25\">\n     <g id=\"line2d_30\">\n      <g>\n       <use xlink:href=\"#mfd217444ea\" x=\"44.18\" y=\"73.740496\" style=\"stroke: #000000; stroke-width: 0.6\"/>\n      </g>\n     </g>\n    </g>\n    <g id=\"ytick_26\">\n     <g id=\"line2d_31\">\n      <g>\n       <use xlink:href=\"#mfd217444ea\" x=\"44.18\" y=\"68.005021\" style=\"stroke: #000000; stroke-width: 0.6\"/>\n      </g>\n     </g>\n    </g>\n    <g id=\"ytick_27\">\n     <g id=\"line2d_32\">\n      <g>\n       <use xlink:href=\"#mfd217444ea\" x=\"44.18\" y=\"63.556241\" style=\"stroke: #000000; stroke-width: 0.6\"/>\n      </g>\n     </g>\n    </g>\n    <g id=\"ytick_28\">\n     <g id=\"line2d_33\">\n      <g>\n       <use xlink:href=\"#mfd217444ea\" x=\"44.18\" y=\"59.921324\" style=\"stroke: #000000; stroke-width: 0.6\"/>\n      </g>\n     </g>\n    </g>\n    <g id=\"ytick_29\">\n     <g id=\"line2d_34\">\n      <g>\n       <use xlink:href=\"#mfd217444ea\" x=\"44.18\" y=\"56.848045\" style=\"stroke: #000000; stroke-width: 0.6\"/>\n      </g>\n     </g>\n    </g>\n    <g id=\"ytick_30\">\n     <g id=\"line2d_35\">\n      <g>\n       <use xlink:href=\"#mfd217444ea\" x=\"44.18\" y=\"54.185849\" style=\"stroke: #000000; stroke-width: 0.6\"/>\n      </g>\n     </g>\n    </g>\n    <g id=\"ytick_31\">\n     <g id=\"line2d_36\">\n      <g>\n       <use xlink:href=\"#mfd217444ea\" x=\"44.18\" y=\"51.837626\" style=\"stroke: #000000; stroke-width: 0.6\"/>\n      </g>\n     </g>\n    </g>\n    <g id=\"ytick_32\">\n     <g id=\"line2d_37\">\n      <g>\n       <use xlink:href=\"#mfd217444ea\" x=\"44.18\" y=\"35.917898\" style=\"stroke: #000000; stroke-width: 0.6\"/>\n      </g>\n     </g>\n    </g>\n    <g id=\"ytick_33\">\n     <g id=\"line2d_38\">\n      <g>\n       <use xlink:href=\"#mfd217444ea\" x=\"44.18\" y=\"27.834201\" style=\"stroke: #000000; stroke-width: 0.6\"/>\n      </g>\n     </g>\n    </g>\n    <g id=\"text_11\">\n     <!-- Count -->\n     <g transform=\"translate(16.00875 122.326125)rotate(-90)scale(0.12 -0.12)\">\n      <defs>\n       <path id=\"GuardianSansCond-Regular-43\" d=\"M 1882 -64 \nC 2304 -64 2637 38 2874 186 \nL 2874 640 \nC 2643 518 2342 397 1946 397 \nC 1114 397 806 986 806 2042 \nL 806 2445 \nC 806 3648 1267 4038 1920 4038 \nC 2278 4038 2541 3955 2822 3840 \nL 2822 4288 \nC 2618 4410 2336 4499 1952 4499 \nC 1005 4499 237 3994 237 2387 \nL 237 2042 \nC 237 563 851 -64 1882 -64 \nz\n\" transform=\"scale(0.015625)\"/>\n       <path id=\"GuardianSansCond-Regular-75\" d=\"M 1158 -51 \nC 1523 -51 1824 109 2042 262 \nL 2067 262 \nL 2118 0 \nL 2566 0 \nL 2566 3283 \nL 2042 3283 \nL 2042 602 \nC 1888 512 1626 397 1350 397 \nC 947 397 858 557 858 838 \nL 858 3283 \nL 333 3283 \nL 333 826 \nC 333 301 576 -51 1158 -51 \nz\n\" transform=\"scale(0.015625)\"/>\n       <path id=\"GuardianSansCond-Regular-6e\" d=\"M 346 0 \nL 870 0 \nL 870 2688 \nC 1037 2778 1306 2886 1587 2886 \nC 1965 2886 2093 2765 2093 2458 \nL 2093 0 \nL 2611 0 \nL 2611 2528 \nC 2611 3085 2342 3334 1811 3334 \nC 1440 3334 1107 3194 870 3021 \nL 845 3021 \nL 845 3283 \nL 346 3283 \nL 346 0 \nz\n\" transform=\"scale(0.015625)\"/>\n      </defs>\n      <use xlink:href=\"#GuardianSansCond-Regular-43\"/>\n      <use xlink:href=\"#GuardianSansCond-Regular-6f\" x=\"47.399994\"/>\n      <use xlink:href=\"#GuardianSansCond-Regular-75\" x=\"92.999985\"/>\n      <use xlink:href=\"#GuardianSansCond-Regular-6e\" x=\"138.499969\"/>\n      <use xlink:href=\"#GuardianSansCond-Regular-74\" x=\"184.59996\"/>\n     </g>\n    </g>\n   </g>\n   <g id=\"patch_102\">\n    <path d=\"M 44.18 195.2505 \nL 44.18 23.7705 \n\" style=\"fill: none; stroke: #000000; stroke-width: 0.8; stroke-linejoin: miter; stroke-linecap: square\"/>\n   </g>\n   <g id=\"patch_103\">\n    <path d=\"M 337.843262 195.2505 \nL 337.843262 23.7705 \n\" style=\"fill: none; stroke: #000000; stroke-width: 0.8; stroke-linejoin: miter; stroke-linecap: square\"/>\n   </g>\n   <g id=\"patch_104\">\n    <path d=\"M 44.18 195.2505 \nL 337.843262 195.2505 \n\" style=\"fill: none; stroke: #000000; stroke-width: 0.8; stroke-linejoin: miter; stroke-linecap: square\"/>\n   </g>\n   <g id=\"patch_105\">\n    <path d=\"M 44.18 23.7705 \nL 337.843262 23.7705 \n\" style=\"fill: none; stroke: #000000; stroke-width: 0.8; stroke-linejoin: miter; stroke-linecap: square\"/>\n   </g>\n   <g id=\"text_12\">\n    <!-- Probability distribution -->\n    <g transform=\"translate(132.753506 17.7705)scale(0.144 -0.144)\">\n     <defs>\n      <path id=\"GuardianSansCond-Regular-20\" transform=\"scale(0.015625)\"/>\n      <path id=\"GuardianSansCond-Regular-64\" d=\"M 1357 -51 \nC 1690 -51 1965 77 2125 243 \nL 2150 243 \nL 2195 0 \nL 2637 0 \nL 2637 4698 \nL 2118 4698 \nL 2118 3174 \nC 1978 3264 1734 3334 1466 3334 \nC 634 3334 198 2739 198 1670 \nL 198 1523 \nC 198 339 723 -51 1357 -51 \nz\nM 1504 378 \nC 992 378 742 749 742 1542 \nL 742 1728 \nC 742 2541 979 2893 1536 2893 \nC 1779 2893 2003 2835 2118 2758 \nL 2118 595 \nC 1984 493 1773 378 1504 378 \nz\n\" transform=\"scale(0.015625)\"/>\n      <path id=\"GuardianSansCond-Regular-73\" d=\"M 992 -51 \nC 1658 -51 2054 307 2054 947 \nC 2054 1485 1818 1709 1306 1888 \nL 1050 1978 \nC 768 2074 659 2195 659 2451 \nC 659 2771 864 2893 1222 2893 \nC 1517 2893 1760 2810 1914 2739 \nL 1914 3168 \nC 1773 3251 1568 3334 1197 3334 \nC 531 3334 160 2982 160 2406 \nC 160 1901 422 1658 826 1517 \nL 1082 1427 \nC 1408 1312 1536 1184 1536 896 \nC 1536 582 1370 390 934 390 \nC 582 390 358 480 154 563 \nL 154 141 \nC 358 19 640 -51 992 -51 \nz\n\" transform=\"scale(0.015625)\"/>\n     </defs>\n     <use xlink:href=\"#GuardianSansCond-Regular-50\"/>\n     <use xlink:href=\"#GuardianSansCond-Regular-72\" x=\"46.999985\"/>\n     <use xlink:href=\"#GuardianSansCond-Regular-6f\" x=\"75.799973\"/>\n     <use xlink:href=\"#GuardianSansCond-Regular-62\" x=\"121.399963\"/>\n     <use xlink:href=\"#GuardianSansCond-Regular-61\" x=\"167.999954\"/>\n     <use xlink:href=\"#GuardianSansCond-Regular-62\" x=\"208.899948\"/>\n     <use xlink:href=\"#GuardianSansCond-Regular-69\" x=\"255.499939\"/>\n     <use xlink:href=\"#GuardianSansCond-Regular-6c\" x=\"274.799927\"/>\n     <use xlink:href=\"#GuardianSansCond-Regular-69\" x=\"294.099915\"/>\n     <use xlink:href=\"#GuardianSansCond-Regular-74\" x=\"313.399902\"/>\n     <use xlink:href=\"#GuardianSansCond-Regular-79\" x=\"342.399887\"/>\n     <use xlink:href=\"#GuardianSansCond-Regular-20\" x=\"383.799881\"/>\n     <use xlink:href=\"#GuardianSansCond-Regular-64\" x=\"399.599869\"/>\n     <use xlink:href=\"#GuardianSansCond-Regular-69\" x=\"446.19986\"/>\n     <use xlink:href=\"#GuardianSansCond-Regular-73\" x=\"465.499847\"/>\n     <use xlink:href=\"#GuardianSansCond-Regular-74\" x=\"499.999832\"/>\n     <use xlink:href=\"#GuardianSansCond-Regular-72\" x=\"528.999817\"/>\n     <use xlink:href=\"#GuardianSansCond-Regular-69\" x=\"557.799805\"/>\n     <use xlink:href=\"#GuardianSansCond-Regular-62\" x=\"577.099792\"/>\n     <use xlink:href=\"#GuardianSansCond-Regular-75\" x=\"623.699783\"/>\n     <use xlink:href=\"#GuardianSansCond-Regular-74\" x=\"669.199768\"/>\n     <use xlink:href=\"#GuardianSansCond-Regular-69\" x=\"698.199753\"/>\n     <use xlink:href=\"#GuardianSansCond-Regular-6f\" x=\"717.499741\"/>\n     <use xlink:href=\"#GuardianSansCond-Regular-6e\" x=\"763.099731\"/>\n    </g>\n   </g>\n  </g>\n  <g id=\"axes_2\">\n   <g id=\"patch_106\">\n    <path d=\"M 393.053262 195.2505 \nL 686.716523 195.2505 \nL 686.716523 23.7705 \nL 393.053262 23.7705 \nz\n\" style=\"fill: #ffffff\"/>\n   </g>\n   <g id=\"matplotlib.axis_3\">\n    <g id=\"xtick_6\">\n     <g id=\"line2d_39\">\n      <g>\n       <use xlink:href=\"#m4ba84d7c4b\" x=\"393.053262\" y=\"195.2505\" style=\"stroke: #000000; stroke-width: 0.8\"/>\n      </g>\n     </g>\n     <g id=\"text_13\">\n      <!-- 0 -->\n      <g transform=\"translate(389.843262 211.05925)scale(0.12 -0.12)\">\n       <use xlink:href=\"#GuardianSansCond-Regular-30\"/>\n      </g>\n     </g>\n    </g>\n    <g id=\"xtick_7\">\n     <g id=\"line2d_40\">\n      <g>\n       <use xlink:href=\"#m4ba84d7c4b\" x=\"451.785914\" y=\"195.2505\" style=\"stroke: #000000; stroke-width: 0.8\"/>\n      </g>\n     </g>\n     <g id=\"text_14\">\n      <!-- 2000 -->\n      <g transform=\"translate(439.605914 211.05925)scale(0.12 -0.12)\">\n       <use xlink:href=\"#GuardianSansCond-Regular-32\"/>\n       <use xlink:href=\"#GuardianSansCond-Regular-30\" x=\"42.499985\"/>\n       <use xlink:href=\"#GuardianSansCond-Regular-30\" x=\"95.999969\"/>\n       <use xlink:href=\"#GuardianSansCond-Regular-30\" x=\"149.499954\"/>\n      </g>\n     </g>\n    </g>\n    <g id=\"xtick_8\">\n     <g id=\"line2d_41\">\n      <g>\n       <use xlink:href=\"#m4ba84d7c4b\" x=\"510.518566\" y=\"195.2505\" style=\"stroke: #000000; stroke-width: 0.8\"/>\n      </g>\n     </g>\n     <g id=\"text_15\">\n      <!-- 4000 -->\n      <g transform=\"translate(498.044191 211.05925)scale(0.12 -0.12)\">\n       <defs>\n        <path id=\"GuardianSansCond-Regular-34\" d=\"M 1805 0 \nL 2330 0 \nL 2330 1107 \nL 2957 1107 \nL 2957 1562 \nL 2330 1562 \nL 2330 4435 \nL 1869 4435 \nL 70 1504 \nL 70 1107 \nL 1805 1107 \nL 1805 0 \nz\nM 608 1562 \nL 608 1581 \nL 1779 3475 \nL 1805 3475 \nL 1805 1562 \nL 608 1562 \nz\n\" transform=\"scale(0.015625)\"/>\n       </defs>\n       <use xlink:href=\"#GuardianSansCond-Regular-34\"/>\n       <use xlink:href=\"#GuardianSansCond-Regular-30\" x=\"47.399994\"/>\n       <use xlink:href=\"#GuardianSansCond-Regular-30\" x=\"100.899979\"/>\n       <use xlink:href=\"#GuardianSansCond-Regular-30\" x=\"154.399963\"/>\n      </g>\n     </g>\n    </g>\n    <g id=\"xtick_9\">\n     <g id=\"line2d_42\">\n      <g>\n       <use xlink:href=\"#m4ba84d7c4b\" x=\"569.251219\" y=\"195.2505\" style=\"stroke: #000000; stroke-width: 0.8\"/>\n      </g>\n     </g>\n     <g id=\"text_16\">\n      <!-- 6000 -->\n      <g transform=\"translate(556.686844 211.05925)scale(0.12 -0.12)\">\n       <defs>\n        <path id=\"GuardianSansCond-Regular-36\" d=\"M 1632 384 \nC 1082 384 845 915 845 1837 \nL 845 2054 \nC 992 2150 1254 2278 1594 2278 \nC 2086 2278 2323 1984 2323 1357 \nC 2323 742 2086 384 1632 384 \nz\nM 1632 -70 \nC 2438 -70 2886 544 2886 1408 \nC 2886 2234 2490 2746 1754 2746 \nC 1363 2746 1056 2611 845 2445 \nC 877 3853 1440 4038 2029 4038 \nC 2291 4038 2554 3974 2688 3930 \nL 2688 4352 \nC 2547 4442 2272 4499 1958 4499 \nC 1043 4499 275 3981 275 2208 \nL 275 1843 \nC 275 691 717 -70 1632 -70 \nz\n\" transform=\"scale(0.015625)\"/>\n       </defs>\n       <use xlink:href=\"#GuardianSansCond-Regular-36\"/>\n       <use xlink:href=\"#GuardianSansCond-Regular-30\" x=\"48.899994\"/>\n       <use xlink:href=\"#GuardianSansCond-Regular-30\" x=\"102.399979\"/>\n       <use xlink:href=\"#GuardianSansCond-Regular-30\" x=\"155.899963\"/>\n      </g>\n     </g>\n    </g>\n    <g id=\"xtick_10\">\n     <g id=\"line2d_43\">\n      <g>\n       <use xlink:href=\"#m4ba84d7c4b\" x=\"627.983871\" y=\"195.2505\" style=\"stroke: #000000; stroke-width: 0.8\"/>\n      </g>\n     </g>\n     <g id=\"text_17\">\n      <!-- 8000 -->\n      <g transform=\"translate(615.389496 211.05925)scale(0.12 -0.12)\">\n       <defs>\n        <path id=\"GuardianSansCond-Regular-38\" d=\"M 1581 -64 \nC 2445 -64 2931 467 2931 1139 \nC 2931 1760 2592 2074 2106 2330 \nC 2490 2541 2822 2899 2822 3424 \nC 2822 4077 2394 4499 1606 4499 \nC 819 4499 384 4013 384 3398 \nC 384 2848 678 2509 1069 2285 \nC 602 2054 230 1683 230 1082 \nC 230 384 710 -64 1581 -64 \nz\nM 1587 390 \nC 1082 390 768 678 768 1126 \nC 768 1581 1037 1894 1414 2080 \nC 2029 1792 2387 1574 2387 1082 \nC 2387 614 2054 390 1587 390 \nz\nM 1754 2522 \nC 1210 2778 928 3021 928 3430 \nC 928 3821 1171 4051 1606 4051 \nC 2067 4051 2285 3782 2285 3398 \nC 2285 3008 2099 2765 1754 2522 \nz\n\" transform=\"scale(0.015625)\"/>\n       </defs>\n       <use xlink:href=\"#GuardianSansCond-Regular-38\"/>\n       <use xlink:href=\"#GuardianSansCond-Regular-30\" x=\"49.399994\"/>\n       <use xlink:href=\"#GuardianSansCond-Regular-30\" x=\"102.899979\"/>\n       <use xlink:href=\"#GuardianSansCond-Regular-30\" x=\"156.399963\"/>\n      </g>\n     </g>\n    </g>\n    <g id=\"xtick_11\">\n     <g id=\"line2d_44\">\n      <g>\n       <use xlink:href=\"#m4ba84d7c4b\" x=\"686.716523\" y=\"195.2505\" style=\"stroke: #000000; stroke-width: 0.8\"/>\n      </g>\n     </g>\n     <g id=\"text_18\">\n      <!-- 10000 -->\n      <g transform=\"translate(672.148711 211.05925)scale(0.12 -0.12)\">\n       <use xlink:href=\"#GuardianSansCond-Regular-31\"/>\n       <use xlink:href=\"#GuardianSansCond-Regular-30\" x=\"28.799988\"/>\n       <use xlink:href=\"#GuardianSansCond-Regular-30\" x=\"82.299973\"/>\n       <use xlink:href=\"#GuardianSansCond-Regular-30\" x=\"135.799957\"/>\n       <use xlink:href=\"#GuardianSansCond-Regular-30\" x=\"189.299942\"/>\n      </g>\n     </g>\n    </g>\n    <g id=\"xtick_12\">\n     <g id=\"line2d_45\">\n      <defs>\n       <path id=\"m389ff6d3d8\" d=\"M 0 0 \nL 0 2 \n\" style=\"stroke: #000000; stroke-width: 0.6\"/>\n      </defs>\n      <g>\n       <use xlink:href=\"#m389ff6d3d8\" x=\"407.736425\" y=\"195.2505\" style=\"stroke: #000000; stroke-width: 0.6\"/>\n      </g>\n     </g>\n    </g>\n    <g id=\"xtick_13\">\n     <g id=\"line2d_46\">\n      <g>\n       <use xlink:href=\"#m389ff6d3d8\" x=\"422.419588\" y=\"195.2505\" style=\"stroke: #000000; stroke-width: 0.6\"/>\n      </g>\n     </g>\n    </g>\n    <g id=\"xtick_14\">\n     <g id=\"line2d_47\">\n      <g>\n       <use xlink:href=\"#m389ff6d3d8\" x=\"437.102751\" y=\"195.2505\" style=\"stroke: #000000; stroke-width: 0.6\"/>\n      </g>\n     </g>\n    </g>\n    <g id=\"xtick_15\">\n     <g id=\"line2d_48\">\n      <g>\n       <use xlink:href=\"#m389ff6d3d8\" x=\"466.469077\" y=\"195.2505\" style=\"stroke: #000000; stroke-width: 0.6\"/>\n      </g>\n     </g>\n    </g>\n    <g id=\"xtick_16\">\n     <g id=\"line2d_49\">\n      <g>\n       <use xlink:href=\"#m389ff6d3d8\" x=\"481.15224\" y=\"195.2505\" style=\"stroke: #000000; stroke-width: 0.6\"/>\n      </g>\n     </g>\n    </g>\n    <g id=\"xtick_17\">\n     <g id=\"line2d_50\">\n      <g>\n       <use xlink:href=\"#m389ff6d3d8\" x=\"495.835403\" y=\"195.2505\" style=\"stroke: #000000; stroke-width: 0.6\"/>\n      </g>\n     </g>\n    </g>\n    <g id=\"xtick_18\">\n     <g id=\"line2d_51\">\n      <g>\n       <use xlink:href=\"#m389ff6d3d8\" x=\"525.201729\" y=\"195.2505\" style=\"stroke: #000000; stroke-width: 0.6\"/>\n      </g>\n     </g>\n    </g>\n    <g id=\"xtick_19\">\n     <g id=\"line2d_52\">\n      <g>\n       <use xlink:href=\"#m389ff6d3d8\" x=\"539.884893\" y=\"195.2505\" style=\"stroke: #000000; stroke-width: 0.6\"/>\n      </g>\n     </g>\n    </g>\n    <g id=\"xtick_20\">\n     <g id=\"line2d_53\">\n      <g>\n       <use xlink:href=\"#m389ff6d3d8\" x=\"554.568056\" y=\"195.2505\" style=\"stroke: #000000; stroke-width: 0.6\"/>\n      </g>\n     </g>\n    </g>\n    <g id=\"xtick_21\">\n     <g id=\"line2d_54\">\n      <g>\n       <use xlink:href=\"#m389ff6d3d8\" x=\"583.934382\" y=\"195.2505\" style=\"stroke: #000000; stroke-width: 0.6\"/>\n      </g>\n     </g>\n    </g>\n    <g id=\"xtick_22\">\n     <g id=\"line2d_55\">\n      <g>\n       <use xlink:href=\"#m389ff6d3d8\" x=\"598.617545\" y=\"195.2505\" style=\"stroke: #000000; stroke-width: 0.6\"/>\n      </g>\n     </g>\n    </g>\n    <g id=\"xtick_23\">\n     <g id=\"line2d_56\">\n      <g>\n       <use xlink:href=\"#m389ff6d3d8\" x=\"613.300708\" y=\"195.2505\" style=\"stroke: #000000; stroke-width: 0.6\"/>\n      </g>\n     </g>\n    </g>\n    <g id=\"xtick_24\">\n     <g id=\"line2d_57\">\n      <g>\n       <use xlink:href=\"#m389ff6d3d8\" x=\"642.667034\" y=\"195.2505\" style=\"stroke: #000000; stroke-width: 0.6\"/>\n      </g>\n     </g>\n    </g>\n    <g id=\"xtick_25\">\n     <g id=\"line2d_58\">\n      <g>\n       <use xlink:href=\"#m389ff6d3d8\" x=\"657.350197\" y=\"195.2505\" style=\"stroke: #000000; stroke-width: 0.6\"/>\n      </g>\n     </g>\n    </g>\n    <g id=\"xtick_26\">\n     <g id=\"line2d_59\">\n      <g>\n       <use xlink:href=\"#m389ff6d3d8\" x=\"672.03336\" y=\"195.2505\" style=\"stroke: #000000; stroke-width: 0.6\"/>\n      </g>\n     </g>\n    </g>\n    <g id=\"text_19\">\n     <!-- Token (descending probability) -->\n     <g transform=\"translate(474.098643 226.15925)scale(0.12 -0.12)\">\n      <defs>\n       <path id=\"GuardianSansCond-Regular-54\" d=\"M 1152 0 \nL 1690 0 \nL 1690 3974 \nL 2746 3974 \nL 2746 4435 \nL 90 4435 \nL 90 3974 \nL 1152 3974 \nL 1152 0 \nz\n\" transform=\"scale(0.015625)\"/>\n       <path id=\"GuardianSansCond-Regular-6b\" d=\"M 870 4698 \nL 346 4698 \nL 346 0 \nL 870 0 \nL 870 4698 \nz\nM 973 1696 \nL 1984 0 \nL 2592 0 \nL 1549 1741 \nL 2515 3283 \nL 1939 3283 \nL 973 1696 \nz\n\" transform=\"scale(0.015625)\"/>\n       <path id=\"GuardianSansCond-Regular-65\" d=\"M 1555 -51 \nC 1984 -51 2317 102 2470 243 \nL 2470 627 \nC 2240 499 1965 397 1613 397 \nC 1037 397 742 698 723 1466 \nL 2554 1466 \nL 2554 1798 \nC 2554 2893 2176 3334 1402 3334 \nC 659 3334 186 2810 186 1722 \nL 186 1549 \nC 186 499 634 -51 1555 -51 \nz\nM 1382 2906 \nC 1830 2906 2010 2611 2010 1894 \nL 723 1894 \nC 736 2630 992 2906 1382 2906 \nz\n\" transform=\"scale(0.015625)\"/>\n       <path id=\"GuardianSansCond-Regular-28\" d=\"M 1318 -768 \nL 1760 -768 \nC 1267 -166 826 877 826 1869 \nL 826 2086 \nC 826 3117 1267 4102 1760 4698 \nL 1318 4698 \nC 800 4160 275 3187 275 2029 \nL 275 1882 \nC 275 723 800 -237 1318 -768 \nz\n\" transform=\"scale(0.015625)\"/>\n       <path id=\"GuardianSansCond-Regular-63\" d=\"M 1498 -51 \nC 1869 -51 2125 51 2298 173 \nL 2298 595 \nC 2163 518 1907 390 1555 390 \nC 1005 390 723 704 723 1542 \nL 723 1798 \nC 723 2464 941 2893 1510 2893 \nC 1856 2893 2054 2803 2259 2714 \nL 2259 3149 \nC 2093 3258 1875 3334 1542 3334 \nC 768 3334 186 2886 186 1741 \nL 186 1536 \nC 186 416 685 -51 1498 -51 \nz\n\" transform=\"scale(0.015625)\"/>\n       <path id=\"GuardianSansCond-Regular-67\" d=\"M 1325 -1235 \nC 2240 -1235 2675 -787 2675 -179 \nC 2675 416 2336 704 1696 704 \nL 1069 704 \nC 858 704 774 806 774 966 \nC 774 1069 826 1178 890 1242 \nC 1018 1197 1171 1178 1331 1178 \nC 1939 1178 2413 1530 2413 2208 \nL 2413 2304 \nC 2413 2560 2336 2739 2234 2874 \nL 2682 2874 \nL 2682 3283 \nL 1747 3283 \nC 1626 3315 1485 3334 1325 3334 \nC 704 3334 250 2944 250 2278 \nL 250 2182 \nC 250 1786 429 1510 634 1376 \nC 422 1210 294 1024 294 787 \nC 294 544 442 403 627 333 \nL 627 307 \nC 320 192 64 -38 64 -422 \nC 64 -915 506 -1235 1325 -1235 \nz\nM 1312 -819 \nC 832 -819 595 -640 595 -326 \nC 595 -51 762 141 966 218 \nL 1632 218 \nC 2022 218 2150 45 2150 -237 \nC 2150 -602 1926 -819 1312 -819 \nz\nM 1331 1581 \nC 998 1581 762 1773 762 2189 \nL 762 2323 \nC 762 2726 973 2931 1331 2931 \nC 1670 2931 1901 2746 1901 2310 \nL 1901 2176 \nC 1901 1779 1683 1581 1331 1581 \nz\n\" transform=\"scale(0.015625)\"/>\n       <path id=\"GuardianSansCond-Regular-70\" d=\"M 346 -1222 \nL 870 -1222 \nL 870 128 \nC 1005 38 1242 -51 1542 -51 \nC 2374 -51 2784 525 2784 1600 \nL 2784 1818 \nC 2784 2912 2342 3334 1670 3334 \nC 1318 3334 1030 3187 870 3034 \nL 845 3034 \nL 845 3283 \nL 346 3283 \nL 346 -1222 \nz\nM 1466 378 \nC 1210 378 973 461 870 538 \nL 870 2688 \nC 992 2784 1229 2893 1523 2893 \nC 2035 2893 2246 2573 2246 1798 \nL 2246 1549 \nC 2246 742 2003 378 1466 378 \nz\n\" transform=\"scale(0.015625)\"/>\n       <path id=\"GuardianSansCond-Regular-29\" d=\"M 32 -768 \nL 480 -768 \nC 992 -237 1517 717 1517 1882 \nL 1517 2029 \nC 1517 3181 992 4160 480 4698 \nL 32 4698 \nC 531 4096 973 3053 973 2035 \nL 973 1818 \nC 973 813 531 -166 32 -768 \nz\n\" transform=\"scale(0.015625)\"/>\n      </defs>\n      <use xlink:href=\"#GuardianSansCond-Regular-54\"/>\n      <use xlink:href=\"#GuardianSansCond-Regular-6f\" x=\"44.499985\"/>\n      <use xlink:href=\"#GuardianSansCond-Regular-6b\" x=\"90.099976\"/>\n      <use xlink:href=\"#GuardianSansCond-Regular-65\" x=\"131.59996\"/>\n      <use xlink:href=\"#GuardianSansCond-Regular-6e\" x=\"174.299957\"/>\n      <use xlink:href=\"#GuardianSansCond-Regular-20\" x=\"220.399948\"/>\n      <use xlink:href=\"#GuardianSansCond-Regular-28\" x=\"236.199936\"/>\n      <use xlink:href=\"#GuardianSansCond-Regular-64\" x=\"264.199921\"/>\n      <use xlink:href=\"#GuardianSansCond-Regular-65\" x=\"310.799911\"/>\n      <use xlink:href=\"#GuardianSansCond-Regular-73\" x=\"353.499908\"/>\n      <use xlink:href=\"#GuardianSansCond-Regular-63\" x=\"387.999893\"/>\n      <use xlink:href=\"#GuardianSansCond-Regular-65\" x=\"425.799881\"/>\n      <use xlink:href=\"#GuardianSansCond-Regular-6e\" x=\"468.499878\"/>\n      <use xlink:href=\"#GuardianSansCond-Regular-64\" x=\"514.599869\"/>\n      <use xlink:href=\"#GuardianSansCond-Regular-69\" x=\"561.19986\"/>\n      <use xlink:href=\"#GuardianSansCond-Regular-6e\" x=\"580.499847\"/>\n      <use xlink:href=\"#GuardianSansCond-Regular-67\" x=\"626.599838\"/>\n      <use xlink:href=\"#GuardianSansCond-Regular-20\" x=\"669.299835\"/>\n      <use xlink:href=\"#GuardianSansCond-Regular-70\" x=\"685.099823\"/>\n      <use xlink:href=\"#GuardianSansCond-Regular-72\" x=\"731.699814\"/>\n      <use xlink:href=\"#GuardianSansCond-Regular-6f\" x=\"760.499802\"/>\n      <use xlink:href=\"#GuardianSansCond-Regular-62\" x=\"806.099792\"/>\n      <use xlink:href=\"#GuardianSansCond-Regular-61\" x=\"852.699783\"/>\n      <use xlink:href=\"#GuardianSansCond-Regular-62\" x=\"893.599777\"/>\n      <use xlink:href=\"#GuardianSansCond-Regular-69\" x=\"940.199768\"/>\n      <use xlink:href=\"#GuardianSansCond-Regular-6c\" x=\"959.499756\"/>\n      <use xlink:href=\"#GuardianSansCond-Regular-69\" x=\"978.799744\"/>\n      <use xlink:href=\"#GuardianSansCond-Regular-74\" x=\"998.099731\"/>\n      <use xlink:href=\"#GuardianSansCond-Regular-79\" x=\"1027.099716\"/>\n      <use xlink:href=\"#GuardianSansCond-Regular-29\" x=\"1068.49971\"/>\n     </g>\n    </g>\n   </g>\n   <g id=\"matplotlib.axis_4\">\n    <g id=\"ytick_34\">\n     <g id=\"line2d_60\">\n      <g>\n       <use xlink:href=\"#m165d26b65f\" x=\"393.053262\" y=\"195.2505\" style=\"stroke: #000000; stroke-width: 0.8\"/>\n      </g>\n     </g>\n     <g id=\"text_20\">\n      <!-- 0.75 -->\n      <g transform=\"translate(367.322012 199.654875)scale(0.12 -0.12)\">\n       <defs>\n        <path id=\"GuardianSansCond-Regular-2e\" d=\"M 397 0 \nL 986 0 \nL 986 621 \nL 397 621 \nL 397 0 \nz\n\" transform=\"scale(0.015625)\"/>\n       </defs>\n       <use xlink:href=\"#GuardianSansCond-Regular-30\"/>\n       <use xlink:href=\"#GuardianSansCond-Regular-2e\" x=\"53.499985\"/>\n       <use xlink:href=\"#GuardianSansCond-Regular-37\" x=\"75.099976\"/>\n       <use xlink:href=\"#GuardianSansCond-Regular-35\" x=\"113.999969\"/>\n      </g>\n     </g>\n    </g>\n    <g id=\"ytick_35\">\n     <g id=\"line2d_61\">\n      <g>\n       <use xlink:href=\"#m165d26b65f\" x=\"393.053262\" y=\"162.273577\" style=\"stroke: #000000; stroke-width: 0.8\"/>\n      </g>\n     </g>\n     <g id=\"text_21\">\n      <!-- 0.80 -->\n      <g transform=\"translate(364.693262 166.677952)scale(0.12 -0.12)\">\n       <use xlink:href=\"#GuardianSansCond-Regular-30\"/>\n       <use xlink:href=\"#GuardianSansCond-Regular-2e\" x=\"53.499985\"/>\n       <use xlink:href=\"#GuardianSansCond-Regular-38\" x=\"75.099976\"/>\n       <use xlink:href=\"#GuardianSansCond-Regular-30\" x=\"124.499969\"/>\n      </g>\n     </g>\n    </g>\n    <g id=\"ytick_36\">\n     <g id=\"line2d_62\">\n      <g>\n       <use xlink:href=\"#m165d26b65f\" x=\"393.053262\" y=\"129.296654\" style=\"stroke: #000000; stroke-width: 0.8\"/>\n      </g>\n     </g>\n     <g id=\"text_22\">\n      <!-- 0.85 -->\n      <g transform=\"translate(366.062012 133.701029)scale(0.12 -0.12)\">\n       <use xlink:href=\"#GuardianSansCond-Regular-30\"/>\n       <use xlink:href=\"#GuardianSansCond-Regular-2e\" x=\"53.499985\"/>\n       <use xlink:href=\"#GuardianSansCond-Regular-38\" x=\"75.099976\"/>\n       <use xlink:href=\"#GuardianSansCond-Regular-35\" x=\"124.499969\"/>\n      </g>\n     </g>\n    </g>\n    <g id=\"ytick_37\">\n     <g id=\"line2d_63\">\n      <g>\n       <use xlink:href=\"#m165d26b65f\" x=\"393.053262\" y=\"96.319731\" style=\"stroke: #000000; stroke-width: 0.8\"/>\n      </g>\n     </g>\n     <g id=\"text_23\">\n      <!-- 0.90 -->\n      <g transform=\"translate(364.753262 100.724106)scale(0.12 -0.12)\">\n       <use xlink:href=\"#GuardianSansCond-Regular-30\"/>\n       <use xlink:href=\"#GuardianSansCond-Regular-2e\" x=\"53.499985\"/>\n       <use xlink:href=\"#GuardianSansCond-Regular-39\" x=\"75.099976\"/>\n       <use xlink:href=\"#GuardianSansCond-Regular-30\" x=\"123.999969\"/>\n      </g>\n     </g>\n    </g>\n    <g id=\"ytick_38\">\n     <g id=\"line2d_64\">\n      <g>\n       <use xlink:href=\"#m165d26b65f\" x=\"393.053262\" y=\"63.342808\" style=\"stroke: #000000; stroke-width: 0.8\"/>\n      </g>\n     </g>\n     <g id=\"text_24\">\n      <!-- 0.95 -->\n      <g transform=\"translate(366.122012 67.747183)scale(0.12 -0.12)\">\n       <use xlink:href=\"#GuardianSansCond-Regular-30\"/>\n       <use xlink:href=\"#GuardianSansCond-Regular-2e\" x=\"53.499985\"/>\n       <use xlink:href=\"#GuardianSansCond-Regular-39\" x=\"75.099976\"/>\n       <use xlink:href=\"#GuardianSansCond-Regular-35\" x=\"123.999969\"/>\n      </g>\n     </g>\n    </g>\n    <g id=\"ytick_39\">\n     <g id=\"line2d_65\">\n      <g>\n       <use xlink:href=\"#m165d26b65f\" x=\"393.053262\" y=\"30.365885\" style=\"stroke: #000000; stroke-width: 0.8\"/>\n      </g>\n     </g>\n     <g id=\"text_25\">\n      <!-- 1.00 -->\n      <g transform=\"translate(367.166387 34.77026)scale(0.12 -0.12)\">\n       <use xlink:href=\"#GuardianSansCond-Regular-31\"/>\n       <use xlink:href=\"#GuardianSansCond-Regular-2e\" x=\"28.799988\"/>\n       <use xlink:href=\"#GuardianSansCond-Regular-30\" x=\"50.399979\"/>\n       <use xlink:href=\"#GuardianSansCond-Regular-30\" x=\"103.899963\"/>\n      </g>\n     </g>\n    </g>\n    <g id=\"ytick_40\">\n     <g id=\"line2d_66\">\n      <g>\n       <use xlink:href=\"#mfd217444ea\" x=\"393.053262\" y=\"188.655115\" style=\"stroke: #000000; stroke-width: 0.6\"/>\n      </g>\n     </g>\n    </g>\n    <g id=\"ytick_41\">\n     <g id=\"line2d_67\">\n      <g>\n       <use xlink:href=\"#mfd217444ea\" x=\"393.053262\" y=\"182.059731\" style=\"stroke: #000000; stroke-width: 0.6\"/>\n      </g>\n     </g>\n    </g>\n    <g id=\"ytick_42\">\n     <g id=\"line2d_68\">\n      <g>\n       <use xlink:href=\"#mfd217444ea\" x=\"393.053262\" y=\"175.464346\" style=\"stroke: #000000; stroke-width: 0.6\"/>\n      </g>\n     </g>\n    </g>\n    <g id=\"ytick_43\">\n     <g id=\"line2d_69\">\n      <g>\n       <use xlink:href=\"#mfd217444ea\" x=\"393.053262\" y=\"168.868962\" style=\"stroke: #000000; stroke-width: 0.6\"/>\n      </g>\n     </g>\n    </g>\n    <g id=\"ytick_44\">\n     <g id=\"line2d_70\">\n      <g>\n       <use xlink:href=\"#mfd217444ea\" x=\"393.053262\" y=\"155.678192\" style=\"stroke: #000000; stroke-width: 0.6\"/>\n      </g>\n     </g>\n    </g>\n    <g id=\"ytick_45\">\n     <g id=\"line2d_71\">\n      <g>\n       <use xlink:href=\"#mfd217444ea\" x=\"393.053262\" y=\"149.082808\" style=\"stroke: #000000; stroke-width: 0.6\"/>\n      </g>\n     </g>\n    </g>\n    <g id=\"ytick_46\">\n     <g id=\"line2d_72\">\n      <g>\n       <use xlink:href=\"#mfd217444ea\" x=\"393.053262\" y=\"142.487423\" style=\"stroke: #000000; stroke-width: 0.6\"/>\n      </g>\n     </g>\n    </g>\n    <g id=\"ytick_47\">\n     <g id=\"line2d_73\">\n      <g>\n       <use xlink:href=\"#mfd217444ea\" x=\"393.053262\" y=\"135.892038\" style=\"stroke: #000000; stroke-width: 0.6\"/>\n      </g>\n     </g>\n    </g>\n    <g id=\"ytick_48\">\n     <g id=\"line2d_74\">\n      <g>\n       <use xlink:href=\"#mfd217444ea\" x=\"393.053262\" y=\"122.701269\" style=\"stroke: #000000; stroke-width: 0.6\"/>\n      </g>\n     </g>\n    </g>\n    <g id=\"ytick_49\">\n     <g id=\"line2d_75\">\n      <g>\n       <use xlink:href=\"#mfd217444ea\" x=\"393.053262\" y=\"116.105885\" style=\"stroke: #000000; stroke-width: 0.6\"/>\n      </g>\n     </g>\n    </g>\n    <g id=\"ytick_50\">\n     <g id=\"line2d_76\">\n      <g>\n       <use xlink:href=\"#mfd217444ea\" x=\"393.053262\" y=\"109.5105\" style=\"stroke: #000000; stroke-width: 0.6\"/>\n      </g>\n     </g>\n    </g>\n    <g id=\"ytick_51\">\n     <g id=\"line2d_77\">\n      <g>\n       <use xlink:href=\"#mfd217444ea\" x=\"393.053262\" y=\"102.915115\" style=\"stroke: #000000; stroke-width: 0.6\"/>\n      </g>\n     </g>\n    </g>\n    <g id=\"ytick_52\">\n     <g id=\"line2d_78\">\n      <g>\n       <use xlink:href=\"#mfd217444ea\" x=\"393.053262\" y=\"89.724346\" style=\"stroke: #000000; stroke-width: 0.6\"/>\n      </g>\n     </g>\n    </g>\n    <g id=\"ytick_53\">\n     <g id=\"line2d_79\">\n      <g>\n       <use xlink:href=\"#mfd217444ea\" x=\"393.053262\" y=\"83.128962\" style=\"stroke: #000000; stroke-width: 0.6\"/>\n      </g>\n     </g>\n    </g>\n    <g id=\"ytick_54\">\n     <g id=\"line2d_80\">\n      <g>\n       <use xlink:href=\"#mfd217444ea\" x=\"393.053262\" y=\"76.533577\" style=\"stroke: #000000; stroke-width: 0.6\"/>\n      </g>\n     </g>\n    </g>\n    <g id=\"ytick_55\">\n     <g id=\"line2d_81\">\n      <g>\n       <use xlink:href=\"#mfd217444ea\" x=\"393.053262\" y=\"69.938192\" style=\"stroke: #000000; stroke-width: 0.6\"/>\n      </g>\n     </g>\n    </g>\n    <g id=\"ytick_56\">\n     <g id=\"line2d_82\">\n      <g>\n       <use xlink:href=\"#mfd217444ea\" x=\"393.053262\" y=\"56.747423\" style=\"stroke: #000000; stroke-width: 0.6\"/>\n      </g>\n     </g>\n    </g>\n    <g id=\"ytick_57\">\n     <g id=\"line2d_83\">\n      <g>\n       <use xlink:href=\"#mfd217444ea\" x=\"393.053262\" y=\"50.152038\" style=\"stroke: #000000; stroke-width: 0.6\"/>\n      </g>\n     </g>\n    </g>\n    <g id=\"ytick_58\">\n     <g id=\"line2d_84\">\n      <g>\n       <use xlink:href=\"#mfd217444ea\" x=\"393.053262\" y=\"43.556654\" style=\"stroke: #000000; stroke-width: 0.6\"/>\n      </g>\n     </g>\n    </g>\n    <g id=\"ytick_59\">\n     <g id=\"line2d_85\">\n      <g>\n       <use xlink:href=\"#mfd217444ea\" x=\"393.053262\" y=\"36.961269\" style=\"stroke: #000000; stroke-width: 0.6\"/>\n      </g>\n     </g>\n    </g>\n    <g id=\"ytick_60\">\n     <g id=\"line2d_86\">\n      <g>\n       <use xlink:href=\"#mfd217444ea\" x=\"393.053262\" y=\"23.7705\" style=\"stroke: #000000; stroke-width: 0.6\"/>\n      </g>\n     </g>\n    </g>\n    <g id=\"text_26\">\n     <!-- Probability -->\n     <g transform=\"translate(358.328887 132.537375)rotate(-90)scale(0.12 -0.12)\">\n      <use xlink:href=\"#GuardianSansCond-Regular-50\"/>\n      <use xlink:href=\"#GuardianSansCond-Regular-72\" x=\"46.999985\"/>\n      <use xlink:href=\"#GuardianSansCond-Regular-6f\" x=\"75.799973\"/>\n      <use xlink:href=\"#GuardianSansCond-Regular-62\" x=\"121.399963\"/>\n      <use xlink:href=\"#GuardianSansCond-Regular-61\" x=\"167.999954\"/>\n      <use xlink:href=\"#GuardianSansCond-Regular-62\" x=\"208.899948\"/>\n      <use xlink:href=\"#GuardianSansCond-Regular-69\" x=\"255.499939\"/>\n      <use xlink:href=\"#GuardianSansCond-Regular-6c\" x=\"274.799927\"/>\n      <use xlink:href=\"#GuardianSansCond-Regular-69\" x=\"294.099915\"/>\n      <use xlink:href=\"#GuardianSansCond-Regular-74\" x=\"313.399902\"/>\n      <use xlink:href=\"#GuardianSansCond-Regular-79\" x=\"342.399887\"/>\n     </g>\n    </g>\n   </g>\n   <g id=\"line2d_87\">\n    <path d=\"M 394.302759 236.723625 \nL 394.90334 207.063151 \nL 395.578766 183.616127 \nL 396.254191 168.060191 \nL 397.135181 153.641852 \nL 398.074903 141.157603 \nL 399.132091 130.109562 \nL 400.306744 120.150215 \nL 401.686962 110.531739 \nL 403.184644 101.957142 \nL 404.594228 95.361567 \nL 405.974445 89.944513 \nL 407.589593 84.595665 \nL 409.322206 79.632227 \nL 410.937354 75.636168 \nL 412.846166 71.57611 \nL 414.989907 67.540739 \nL 416.869352 64.477268 \nL 419.36549 60.864772 \nL 421.714796 57.85508 \nL 424.181567 55.064156 \nL 426.677705 52.580923 \nL 429.11511 50.452635 \nL 431.816812 48.387402 \nL 434.988375 46.256166 \nL 438.101206 44.431284 \nL 441.5077 42.71333 \nL 445.442788 41.000958 \nL 449.084212 39.648404 \nL 453.283597 38.325806 \nL 458.129041 37.032653 \nL 463.356247 35.872372 \nL 468.935849 34.886714 \nL 475.425807 33.973034 \nL 482.473725 33.2258 \nL 490.608197 32.585847 \nL 500.299085 32.047947 \nL 512.779774 31.590675 \nL 529.518579 31.231014 \nL 553.217205 30.961337 \nL 594.212596 30.743079 \nL 655.852515 30.606589 \nL 686.74589 30.565234 \nL 686.74589 30.565234 \n\" clip-path=\"url(#p16b75ba673)\" style=\"fill: none; stroke: #000000; stroke-width: 1.5; stroke-linecap: square\"/>\n   </g>\n   <g id=\"LineCollection_1\">\n    <path d=\"M 451.785914 236.723625 \nL 451.785914 -1 \n\" clip-path=\"url(#p16b75ba673)\" style=\"fill: none; stroke: #0071bc; stroke-width: 1.5\"/>\n   </g>\n   <g id=\"LineCollection_2\">\n    <path d=\"M 393.053262 63.342808 \nL 686.716523 63.342808 \n\" clip-path=\"url(#p16b75ba673)\" style=\"fill: none; stroke-dasharray: 5.55,2.4; stroke-dashoffset: 0; stroke: #f7931e; stroke-width: 1.5\"/>\n   </g>\n   <g id=\"patch_107\">\n    <path d=\"M 393.053262 195.2505 \nL 393.053262 23.7705 \n\" style=\"fill: none; stroke: #000000; stroke-width: 0.8; stroke-linejoin: miter; stroke-linecap: square\"/>\n   </g>\n   <g id=\"patch_108\">\n    <path d=\"M 686.716523 195.2505 \nL 686.716523 23.7705 \n\" style=\"fill: none; stroke: #000000; stroke-width: 0.8; stroke-linejoin: miter; stroke-linecap: square\"/>\n   </g>\n   <g id=\"patch_109\">\n    <path d=\"M 393.053262 195.2505 \nL 686.716523 195.2505 \n\" style=\"fill: none; stroke: #000000; stroke-width: 0.8; stroke-linejoin: miter; stroke-linecap: square\"/>\n   </g>\n   <g id=\"patch_110\">\n    <path d=\"M 393.053262 23.7705 \nL 686.716523 23.7705 \n\" style=\"fill: none; stroke: #000000; stroke-width: 0.8; stroke-linejoin: miter; stroke-linecap: square\"/>\n   </g>\n   <g id=\"text_27\">\n    <!-- Cumulative probability -->\n    <g transform=\"translate(482.271393 17.7705)scale(0.144 -0.144)\">\n     <defs>\n      <path id=\"GuardianSansCond-Regular-6d\" d=\"M 346 0 \nL 870 0 \nL 870 2688 \nC 1050 2790 1267 2886 1523 2886 \nC 1856 2886 1971 2758 1971 2464 \nL 1971 0 \nL 2490 0 \nL 2490 2688 \nC 2682 2797 2912 2886 3136 2886 \nC 3488 2886 3590 2746 3590 2464 \nL 3590 0 \nL 4115 0 \nL 4115 2528 \nC 4115 3104 3821 3334 3347 3334 \nC 2995 3334 2688 3187 2419 2995 \nL 2394 2995 \nC 2266 3226 2061 3334 1722 3334 \nC 1395 3334 1088 3181 870 3021 \nL 845 3021 \nL 845 3283 \nL 346 3283 \nL 346 0 \nz\n\" transform=\"scale(0.015625)\"/>\n      <path id=\"GuardianSansCond-Regular-76\" d=\"M 1075 0 \nL 1613 0 \nL 2605 3283 \nL 2093 3283 \nL 1504 1190 \nC 1421 870 1370 653 1370 653 \nL 1344 653 \nC 1344 653 1299 877 1216 1190 \nL 627 3283 \nL 70 3283 \nL 1075 0 \nz\n\" transform=\"scale(0.015625)\"/>\n     </defs>\n     <use xlink:href=\"#GuardianSansCond-Regular-43\"/>\n     <use xlink:href=\"#GuardianSansCond-Regular-75\" x=\"47.399994\"/>\n     <use xlink:href=\"#GuardianSansCond-Regular-6d\" x=\"92.899979\"/>\n     <use xlink:href=\"#GuardianSansCond-Regular-75\" x=\"162.399963\"/>\n     <use xlink:href=\"#GuardianSansCond-Regular-6c\" x=\"207.899948\"/>\n     <use xlink:href=\"#GuardianSansCond-Regular-61\" x=\"227.199936\"/>\n     <use xlink:href=\"#GuardianSansCond-Regular-74\" x=\"268.09993\"/>\n     <use xlink:href=\"#GuardianSansCond-Regular-69\" x=\"297.099915\"/>\n     <use xlink:href=\"#GuardianSansCond-Regular-76\" x=\"316.399902\"/>\n     <use xlink:href=\"#GuardianSansCond-Regular-65\" x=\"358.299896\"/>\n     <use xlink:href=\"#GuardianSansCond-Regular-20\" x=\"400.999893\"/>\n     <use xlink:href=\"#GuardianSansCond-Regular-70\" x=\"416.799881\"/>\n     <use xlink:href=\"#GuardianSansCond-Regular-72\" x=\"463.399872\"/>\n     <use xlink:href=\"#GuardianSansCond-Regular-6f\" x=\"492.19986\"/>\n     <use xlink:href=\"#GuardianSansCond-Regular-62\" x=\"537.79985\"/>\n     <use xlink:href=\"#GuardianSansCond-Regular-61\" x=\"584.399841\"/>\n     <use xlink:href=\"#GuardianSansCond-Regular-62\" x=\"625.299835\"/>\n     <use xlink:href=\"#GuardianSansCond-Regular-69\" x=\"671.899826\"/>\n     <use xlink:href=\"#GuardianSansCond-Regular-6c\" x=\"691.199814\"/>\n     <use xlink:href=\"#GuardianSansCond-Regular-69\" x=\"710.499802\"/>\n     <use xlink:href=\"#GuardianSansCond-Regular-74\" x=\"729.799789\"/>\n     <use xlink:href=\"#GuardianSansCond-Regular-79\" x=\"758.799774\"/>\n    </g>\n   </g>\n   <g id=\"legend_1\">\n    <g id=\"patch_111\">\n     <path d=\"M 525.264023 189.2505 \nL 678.316523 189.2505 \nQ 680.716523 189.2505 680.716523 186.8505 \nL 680.716523 153.8505 \nQ 680.716523 151.4505 678.316523 151.4505 \nL 525.264023 151.4505 \nQ 522.864023 151.4505 522.864023 153.8505 \nL 522.864023 186.8505 \nQ 522.864023 189.2505 525.264023 189.2505 \nz\n\" style=\"fill: #ffffff; opacity: 0.8; stroke: #cccccc; stroke-linejoin: miter\"/>\n    </g>\n    <g id=\"line2d_88\">\n     <path d=\"M 527.664023 160.85925 \nL 551.664023 160.85925 \n\" style=\"fill: none; stroke: #0071bc; stroke-width: 1.5\"/>\n    </g>\n    <g id=\"text_28\">\n     <!-- top-k threshold (k=2000) -->\n     <g transform=\"translate(561.264023 165.05925)scale(0.12 -0.12)\">\n      <defs>\n       <path id=\"GuardianSansCond-Regular-2d\" d=\"M 333 1536 \nL 1408 1536 \nL 1408 1990 \nL 333 1990 \nL 333 1536 \nz\n\" transform=\"scale(0.015625)\"/>\n       <path id=\"GuardianSansCond-Regular-68\" d=\"M 346 0 \nL 870 0 \nL 870 2688 \nC 1037 2778 1306 2886 1587 2886 \nC 1965 2886 2093 2765 2093 2458 \nL 2093 0 \nL 2611 0 \nL 2611 2528 \nC 2611 3085 2336 3334 1805 3334 \nC 1440 3334 1126 3200 896 3034 \nL 870 3034 \nL 870 4698 \nL 346 4698 \nL 346 0 \nz\n\" transform=\"scale(0.015625)\"/>\n       <path id=\"GuardianSansCond-Regular-3d\" d=\"M 326 2253 \nL 2566 2253 \nL 2566 2694 \nL 326 2694 \nL 326 2253 \nz\nM 326 1216 \nL 2566 1216 \nL 2566 1664 \nL 326 1664 \nL 326 1216 \nz\n\" transform=\"scale(0.015625)\"/>\n      </defs>\n      <use xlink:href=\"#GuardianSansCond-Regular-74\"/>\n      <use xlink:href=\"#GuardianSansCond-Regular-6f\" x=\"28.999985\"/>\n      <use xlink:href=\"#GuardianSansCond-Regular-70\" x=\"74.599976\"/>\n      <use xlink:href=\"#GuardianSansCond-Regular-2d\" x=\"121.199966\"/>\n      <use xlink:href=\"#GuardianSansCond-Regular-6b\" x=\"148.399963\"/>\n      <use xlink:href=\"#GuardianSansCond-Regular-20\" x=\"189.899948\"/>\n      <use xlink:href=\"#GuardianSansCond-Regular-74\" x=\"205.699936\"/>\n      <use xlink:href=\"#GuardianSansCond-Regular-68\" x=\"234.699921\"/>\n      <use xlink:href=\"#GuardianSansCond-Regular-72\" x=\"280.799911\"/>\n      <use xlink:href=\"#GuardianSansCond-Regular-65\" x=\"309.599899\"/>\n      <use xlink:href=\"#GuardianSansCond-Regular-73\" x=\"352.299896\"/>\n      <use xlink:href=\"#GuardianSansCond-Regular-68\" x=\"386.799881\"/>\n      <use xlink:href=\"#GuardianSansCond-Regular-6f\" x=\"432.899872\"/>\n      <use xlink:href=\"#GuardianSansCond-Regular-6c\" x=\"478.499863\"/>\n      <use xlink:href=\"#GuardianSansCond-Regular-64\" x=\"497.79985\"/>\n      <use xlink:href=\"#GuardianSansCond-Regular-20\" x=\"544.399841\"/>\n      <use xlink:href=\"#GuardianSansCond-Regular-28\" x=\"560.199829\"/>\n      <use xlink:href=\"#GuardianSansCond-Regular-6b\" x=\"588.199814\"/>\n      <use xlink:href=\"#GuardianSansCond-Regular-3d\" x=\"629.699799\"/>\n      <use xlink:href=\"#GuardianSansCond-Regular-32\" x=\"674.799789\"/>\n      <use xlink:href=\"#GuardianSansCond-Regular-30\" x=\"717.299774\"/>\n      <use xlink:href=\"#GuardianSansCond-Regular-30\" x=\"770.799759\"/>\n      <use xlink:href=\"#GuardianSansCond-Regular-30\" x=\"824.299744\"/>\n      <use xlink:href=\"#GuardianSansCond-Regular-29\" x=\"877.799728\"/>\n     </g>\n    </g>\n    <g id=\"line2d_89\">\n     <path d=\"M 527.664023 177.95925 \nL 551.664023 177.95925 \n\" style=\"fill: none; stroke-dasharray: 5.55,2.4; stroke-dashoffset: 0; stroke: #f7931e; stroke-width: 1.5\"/>\n    </g>\n    <g id=\"text_29\">\n     <!-- nucleus threshold (p=0.95) -->\n     <g transform=\"translate(561.264023 182.15925)scale(0.12 -0.12)\">\n      <use xlink:href=\"#GuardianSansCond-Regular-6e\"/>\n      <use xlink:href=\"#GuardianSansCond-Regular-75\" x=\"46.099991\"/>\n      <use xlink:href=\"#GuardianSansCond-Regular-63\" x=\"91.599976\"/>\n      <use xlink:href=\"#GuardianSansCond-Regular-6c\" x=\"129.399963\"/>\n      <use xlink:href=\"#GuardianSansCond-Regular-65\" x=\"148.699951\"/>\n      <use xlink:href=\"#GuardianSansCond-Regular-75\" x=\"191.399948\"/>\n      <use xlink:href=\"#GuardianSansCond-Regular-73\" x=\"236.899933\"/>\n      <use xlink:href=\"#GuardianSansCond-Regular-20\" x=\"271.399918\"/>\n      <use xlink:href=\"#GuardianSansCond-Regular-74\" x=\"287.199905\"/>\n      <use xlink:href=\"#GuardianSansCond-Regular-68\" x=\"316.19989\"/>\n      <use xlink:href=\"#GuardianSansCond-Regular-72\" x=\"362.299881\"/>\n      <use xlink:href=\"#GuardianSansCond-Regular-65\" x=\"391.099869\"/>\n      <use xlink:href=\"#GuardianSansCond-Regular-73\" x=\"433.799866\"/>\n      <use xlink:href=\"#GuardianSansCond-Regular-68\" x=\"468.29985\"/>\n      <use xlink:href=\"#GuardianSansCond-Regular-6f\" x=\"514.399841\"/>\n      <use xlink:href=\"#GuardianSansCond-Regular-6c\" x=\"559.999832\"/>\n      <use xlink:href=\"#GuardianSansCond-Regular-64\" x=\"579.29982\"/>\n      <use xlink:href=\"#GuardianSansCond-Regular-20\" x=\"625.899811\"/>\n      <use xlink:href=\"#GuardianSansCond-Regular-28\" x=\"641.699799\"/>\n      <use xlink:href=\"#GuardianSansCond-Regular-70\" x=\"669.699783\"/>\n      <use xlink:href=\"#GuardianSansCond-Regular-3d\" x=\"716.299774\"/>\n      <use xlink:href=\"#GuardianSansCond-Regular-30\" x=\"761.399765\"/>\n      <use xlink:href=\"#GuardianSansCond-Regular-2e\" x=\"814.89975\"/>\n      <use xlink:href=\"#GuardianSansCond-Regular-39\" x=\"836.499741\"/>\n      <use xlink:href=\"#GuardianSansCond-Regular-35\" x=\"885.399734\"/>\n      <use xlink:href=\"#GuardianSansCond-Regular-29\" x=\"927.499725\"/>\n     </g>\n    </g>\n   </g>\n  </g>\n </g>\n <defs>\n  <clipPath id=\"p90022e26d6\">\n   <rect x=\"44.18\" y=\"23.7705\" width=\"293.663262\" height=\"171.48\"/>\n  </clipPath>\n  <clipPath id=\"p16b75ba673\">\n   <rect x=\"393.053262\" y=\"23.7705\" width=\"293.663262\" height=\"171.48\"/>\n  </clipPath>\n </defs>\n</svg>\n",
            "text/plain": [
              "<Figure size 720x252 with 2 Axes>"
            ]
          },
          "metadata": {
            "needs_background": "light"
          },
          "output_type": "display_data"
        }
      ],
      "source": [
        "# hide_input\n",
        "\n",
        "#id distribution\n",
        "#alt Probability distribution of next token prediction.\n",
        "#caption Probability distribution of next token prediction (left) and cumulative distribution of descending token probabilities\n",
        "\n",
        "import matplotlib.pyplot as plt\n",
        "import numpy as np\n",
        "\n",
        "fig, axes = plt.subplots(1, 2, figsize=(10, 3.5))\n",
        "\n",
        "axes[0].hist(probs[0], bins=np.logspace(-10, -1, 100), color=\"C0\", edgecolor=\"C0\")\n",
        "axes[0].set_xscale(\"log\")\n",
        "axes[0].set_yscale(\"log\")\n",
        "axes[0].set_title(\"Probability distribution\")\n",
        "axes[0].set_xlabel(\"Probability\")\n",
        "axes[0].set_ylabel(\"Count\")\n",
        "#axes[0].grid(which=\"major\")\n",
        "\n",
        "axes[1].plot(np.cumsum(np.sort(probs[0])[::-1]), color=\"black\")\n",
        "axes[1].set_xlim([0, 10000])\n",
        "axes[1].set_ylim([0.75, 1.01])\n",
        "axes[1].set_title(\"Cumulative probability\")\n",
        "axes[1].set_ylabel(\"Probability\")\n",
        "axes[1].set_xlabel(\"Token (descending probability)\")\n",
        "#axes[1].grid(which=\"major\")\n",
        "axes[1].minorticks_on()\n",
        "#axes[1].grid(which='minor', linewidth='0.5')\n",
        "top_k_label = 'top-k threshold (k=2000)'\n",
        "top_p_label = 'nucleus threshold (p=0.95)'\n",
        "axes[1].vlines(x=2000, ymin=0, ymax=2, color='C0', label=top_k_label)\n",
        "axes[1].hlines(y=0.95, xmin=0, xmax=10000, color='C1', label=top_p_label, linestyle='--')\n",
        "axes[1].legend(loc='lower right')\n",
        "plt.tight_layout()"
      ]
    },
    {
      "cell_type": "code",
      "execution_count": null,
      "metadata": {
        "id": "ugh4KvD7TL7_"
      },
      "outputs": [],
      "source": [
        "# hide\n",
        "torch.manual_seed(42);"
      ]
    },
    {
      "cell_type": "code",
      "execution_count": null,
      "metadata": {
        "id": "8WS2y8RuTL8A",
        "outputId": "415cfdaf-142b-4143-d8b6-88b39611e715"
      },
      "outputs": [
        {
          "name": "stdout",
          "output_type": "stream",
          "text": [
            "In a shocking finding, scientist discovered a herd of unicorns living in a\n",
            "remote, previously unexplored valley, in the Andes Mountains. Even more\n",
            "surprising to the researchers was the fact that the unicorns spoke perfect\n",
            "English.\n",
            "\n",
            "\n",
            "The wild unicorns roam the Andes Mountains in the region of Cajamarca, on the\n",
            "border with Argentina (Picture: Alamy/Ecole Nationale Supérieure d'Histoire\n",
            "Naturelle)\n",
            "\n",
            "The researchers came across about 50 of the animals in the valley. They had\n",
            "lived in such a remote and isolated area at that location for nearly a thousand\n",
            "years that\n"
          ]
        }
      ],
      "source": [
        "output_topk = model.generate(input_ids, max_length=max_length, do_sample=True, \n",
        "                             top_k=50)\n",
        "print(tokenizer.decode(output_topk[0]))"
      ]
    },
    {
      "cell_type": "code",
      "execution_count": null,
      "metadata": {
        "id": "HrUrcmQgTL8A"
      },
      "outputs": [],
      "source": [
        "# hide\n",
        "torch.manual_seed(42);"
      ]
    },
    {
      "cell_type": "code",
      "execution_count": null,
      "metadata": {
        "id": "xF3rjTcCTL8A",
        "outputId": "cb589f20-d933-4b5f-f5c1-96fd66e8a96d"
      },
      "outputs": [
        {
          "name": "stdout",
          "output_type": "stream",
          "text": [
            "In a shocking finding, scientist discovered a herd of unicorns living in a\n",
            "remote, previously unexplored valley, in the Andes Mountains. Even more\n",
            "surprising to the researchers was the fact that the unicorns spoke perfect\n",
            "English.\n",
            "\n",
            "\n",
            "The scientists studied the DNA of the animals and came to the conclusion that\n",
            "the herd are descendants of a prehistoric herd that lived in Argentina about\n",
            "50,000 years ago.\n",
            "\n",
            "\n",
            "According to the scientific analysis, the first humans who migrated to South\n",
            "America migrated into the Andes Mountains from South Africa and Australia, after\n",
            "the last ice age had ended.\n",
            "\n",
            "\n",
            "Since their migration, the animals have been adapting to\n"
          ]
        }
      ],
      "source": [
        "output_topp = model.generate(input_ids, max_length=max_length, do_sample=True, \n",
        "                             top_p=0.90)\n",
        "print(tokenizer.decode(output_topp[0]))"
      ]
    },
    {
      "cell_type": "markdown",
      "metadata": {
        "id": "ZbcO-YsLTL8B"
      },
      "source": [
        "## Which Decoding Method Is Best?"
      ]
    },
    {
      "cell_type": "markdown",
      "metadata": {
        "id": "j3337lvuTL8B"
      },
      "source": [
        "## Conclusion"
      ]
    }
  ],
  "metadata": {
    "kernelspec": {
      "display_name": "Python 3 (ipykernel)",
      "language": "python",
      "name": "python3"
    },
    "colab": {
      "provenance": [],
      "machine_shape": "hm"
    },
    "gpuClass": "standard",
    "accelerator": "GPU",
    "widgets": {
      "application/vnd.jupyter.widget-state+json": {
        "2a1a833063e94cb2965c692e4ac8e80b": {
          "model_module": "@jupyter-widgets/controls",
          "model_name": "HBoxModel",
          "model_module_version": "1.5.0",
          "state": {
            "_dom_classes": [],
            "_model_module": "@jupyter-widgets/controls",
            "_model_module_version": "1.5.0",
            "_model_name": "HBoxModel",
            "_view_count": null,
            "_view_module": "@jupyter-widgets/controls",
            "_view_module_version": "1.5.0",
            "_view_name": "HBoxView",
            "box_style": "",
            "children": [
              "IPY_MODEL_810a1775b9024df687743fc0794904b3",
              "IPY_MODEL_facd780618cb48a2be9548ec458e98a3",
              "IPY_MODEL_075b74e9ecf341a588db71df6a17628d"
            ],
            "layout": "IPY_MODEL_a98778689323417bb3c61baa6e2118ab"
          }
        },
        "810a1775b9024df687743fc0794904b3": {
          "model_module": "@jupyter-widgets/controls",
          "model_name": "HTMLModel",
          "model_module_version": "1.5.0",
          "state": {
            "_dom_classes": [],
            "_model_module": "@jupyter-widgets/controls",
            "_model_module_version": "1.5.0",
            "_model_name": "HTMLModel",
            "_view_count": null,
            "_view_module": "@jupyter-widgets/controls",
            "_view_module_version": "1.5.0",
            "_view_name": "HTMLView",
            "description": "",
            "description_tooltip": null,
            "layout": "IPY_MODEL_5c558422ec61445f869beb8bf796eb45",
            "placeholder": "​",
            "style": "IPY_MODEL_93b50600bca54e538226dfe71538a0e9",
            "value": "Downloading: 100%"
          }
        },
        "facd780618cb48a2be9548ec458e98a3": {
          "model_module": "@jupyter-widgets/controls",
          "model_name": "FloatProgressModel",
          "model_module_version": "1.5.0",
          "state": {
            "_dom_classes": [],
            "_model_module": "@jupyter-widgets/controls",
            "_model_module_version": "1.5.0",
            "_model_name": "FloatProgressModel",
            "_view_count": null,
            "_view_module": "@jupyter-widgets/controls",
            "_view_module_version": "1.5.0",
            "_view_name": "ProgressView",
            "bar_style": "success",
            "description": "",
            "description_tooltip": null,
            "layout": "IPY_MODEL_ea940eb615174c4980ca32423b428ce0",
            "max": 689,
            "min": 0,
            "orientation": "horizontal",
            "style": "IPY_MODEL_5fa8ad4a6bb845d1822bda2e36985977",
            "value": 689
          }
        },
        "075b74e9ecf341a588db71df6a17628d": {
          "model_module": "@jupyter-widgets/controls",
          "model_name": "HTMLModel",
          "model_module_version": "1.5.0",
          "state": {
            "_dom_classes": [],
            "_model_module": "@jupyter-widgets/controls",
            "_model_module_version": "1.5.0",
            "_model_name": "HTMLModel",
            "_view_count": null,
            "_view_module": "@jupyter-widgets/controls",
            "_view_module_version": "1.5.0",
            "_view_name": "HTMLView",
            "description": "",
            "description_tooltip": null,
            "layout": "IPY_MODEL_44100ddd4c674914bd82dde19f1dfd42",
            "placeholder": "​",
            "style": "IPY_MODEL_743bf136c9dc423784dd6043e7906787",
            "value": " 689/689 [00:00&lt;00:00, 51.6kB/s]"
          }
        },
        "a98778689323417bb3c61baa6e2118ab": {
          "model_module": "@jupyter-widgets/base",
          "model_name": "LayoutModel",
          "model_module_version": "1.2.0",
          "state": {
            "_model_module": "@jupyter-widgets/base",
            "_model_module_version": "1.2.0",
            "_model_name": "LayoutModel",
            "_view_count": null,
            "_view_module": "@jupyter-widgets/base",
            "_view_module_version": "1.2.0",
            "_view_name": "LayoutView",
            "align_content": null,
            "align_items": null,
            "align_self": null,
            "border": null,
            "bottom": null,
            "display": null,
            "flex": null,
            "flex_flow": null,
            "grid_area": null,
            "grid_auto_columns": null,
            "grid_auto_flow": null,
            "grid_auto_rows": null,
            "grid_column": null,
            "grid_gap": null,
            "grid_row": null,
            "grid_template_areas": null,
            "grid_template_columns": null,
            "grid_template_rows": null,
            "height": null,
            "justify_content": null,
            "justify_items": null,
            "left": null,
            "margin": null,
            "max_height": null,
            "max_width": null,
            "min_height": null,
            "min_width": null,
            "object_fit": null,
            "object_position": null,
            "order": null,
            "overflow": null,
            "overflow_x": null,
            "overflow_y": null,
            "padding": null,
            "right": null,
            "top": null,
            "visibility": null,
            "width": null
          }
        },
        "5c558422ec61445f869beb8bf796eb45": {
          "model_module": "@jupyter-widgets/base",
          "model_name": "LayoutModel",
          "model_module_version": "1.2.0",
          "state": {
            "_model_module": "@jupyter-widgets/base",
            "_model_module_version": "1.2.0",
            "_model_name": "LayoutModel",
            "_view_count": null,
            "_view_module": "@jupyter-widgets/base",
            "_view_module_version": "1.2.0",
            "_view_name": "LayoutView",
            "align_content": null,
            "align_items": null,
            "align_self": null,
            "border": null,
            "bottom": null,
            "display": null,
            "flex": null,
            "flex_flow": null,
            "grid_area": null,
            "grid_auto_columns": null,
            "grid_auto_flow": null,
            "grid_auto_rows": null,
            "grid_column": null,
            "grid_gap": null,
            "grid_row": null,
            "grid_template_areas": null,
            "grid_template_columns": null,
            "grid_template_rows": null,
            "height": null,
            "justify_content": null,
            "justify_items": null,
            "left": null,
            "margin": null,
            "max_height": null,
            "max_width": null,
            "min_height": null,
            "min_width": null,
            "object_fit": null,
            "object_position": null,
            "order": null,
            "overflow": null,
            "overflow_x": null,
            "overflow_y": null,
            "padding": null,
            "right": null,
            "top": null,
            "visibility": null,
            "width": null
          }
        },
        "93b50600bca54e538226dfe71538a0e9": {
          "model_module": "@jupyter-widgets/controls",
          "model_name": "DescriptionStyleModel",
          "model_module_version": "1.5.0",
          "state": {
            "_model_module": "@jupyter-widgets/controls",
            "_model_module_version": "1.5.0",
            "_model_name": "DescriptionStyleModel",
            "_view_count": null,
            "_view_module": "@jupyter-widgets/base",
            "_view_module_version": "1.2.0",
            "_view_name": "StyleView",
            "description_width": ""
          }
        },
        "ea940eb615174c4980ca32423b428ce0": {
          "model_module": "@jupyter-widgets/base",
          "model_name": "LayoutModel",
          "model_module_version": "1.2.0",
          "state": {
            "_model_module": "@jupyter-widgets/base",
            "_model_module_version": "1.2.0",
            "_model_name": "LayoutModel",
            "_view_count": null,
            "_view_module": "@jupyter-widgets/base",
            "_view_module_version": "1.2.0",
            "_view_name": "LayoutView",
            "align_content": null,
            "align_items": null,
            "align_self": null,
            "border": null,
            "bottom": null,
            "display": null,
            "flex": null,
            "flex_flow": null,
            "grid_area": null,
            "grid_auto_columns": null,
            "grid_auto_flow": null,
            "grid_auto_rows": null,
            "grid_column": null,
            "grid_gap": null,
            "grid_row": null,
            "grid_template_areas": null,
            "grid_template_columns": null,
            "grid_template_rows": null,
            "height": null,
            "justify_content": null,
            "justify_items": null,
            "left": null,
            "margin": null,
            "max_height": null,
            "max_width": null,
            "min_height": null,
            "min_width": null,
            "object_fit": null,
            "object_position": null,
            "order": null,
            "overflow": null,
            "overflow_x": null,
            "overflow_y": null,
            "padding": null,
            "right": null,
            "top": null,
            "visibility": null,
            "width": null
          }
        },
        "5fa8ad4a6bb845d1822bda2e36985977": {
          "model_module": "@jupyter-widgets/controls",
          "model_name": "ProgressStyleModel",
          "model_module_version": "1.5.0",
          "state": {
            "_model_module": "@jupyter-widgets/controls",
            "_model_module_version": "1.5.0",
            "_model_name": "ProgressStyleModel",
            "_view_count": null,
            "_view_module": "@jupyter-widgets/base",
            "_view_module_version": "1.2.0",
            "_view_name": "StyleView",
            "bar_color": null,
            "description_width": ""
          }
        },
        "44100ddd4c674914bd82dde19f1dfd42": {
          "model_module": "@jupyter-widgets/base",
          "model_name": "LayoutModel",
          "model_module_version": "1.2.0",
          "state": {
            "_model_module": "@jupyter-widgets/base",
            "_model_module_version": "1.2.0",
            "_model_name": "LayoutModel",
            "_view_count": null,
            "_view_module": "@jupyter-widgets/base",
            "_view_module_version": "1.2.0",
            "_view_name": "LayoutView",
            "align_content": null,
            "align_items": null,
            "align_self": null,
            "border": null,
            "bottom": null,
            "display": null,
            "flex": null,
            "flex_flow": null,
            "grid_area": null,
            "grid_auto_columns": null,
            "grid_auto_flow": null,
            "grid_auto_rows": null,
            "grid_column": null,
            "grid_gap": null,
            "grid_row": null,
            "grid_template_areas": null,
            "grid_template_columns": null,
            "grid_template_rows": null,
            "height": null,
            "justify_content": null,
            "justify_items": null,
            "left": null,
            "margin": null,
            "max_height": null,
            "max_width": null,
            "min_height": null,
            "min_width": null,
            "object_fit": null,
            "object_position": null,
            "order": null,
            "overflow": null,
            "overflow_x": null,
            "overflow_y": null,
            "padding": null,
            "right": null,
            "top": null,
            "visibility": null,
            "width": null
          }
        },
        "743bf136c9dc423784dd6043e7906787": {
          "model_module": "@jupyter-widgets/controls",
          "model_name": "DescriptionStyleModel",
          "model_module_version": "1.5.0",
          "state": {
            "_model_module": "@jupyter-widgets/controls",
            "_model_module_version": "1.5.0",
            "_model_name": "DescriptionStyleModel",
            "_view_count": null,
            "_view_module": "@jupyter-widgets/base",
            "_view_module_version": "1.2.0",
            "_view_name": "StyleView",
            "description_width": ""
          }
        },
        "698a580141fa40d38188e03e9533652f": {
          "model_module": "@jupyter-widgets/controls",
          "model_name": "HBoxModel",
          "model_module_version": "1.5.0",
          "state": {
            "_dom_classes": [],
            "_model_module": "@jupyter-widgets/controls",
            "_model_module_version": "1.5.0",
            "_model_name": "HBoxModel",
            "_view_count": null,
            "_view_module": "@jupyter-widgets/controls",
            "_view_module_version": "1.5.0",
            "_view_name": "HBoxView",
            "box_style": "",
            "children": [
              "IPY_MODEL_a7cf50c849de4da0865b5589b65b7a0e",
              "IPY_MODEL_cd28cd44156045dc89b95850a8a63ed3",
              "IPY_MODEL_9ca35e33cdb74154816c7b20f724ff6f"
            ],
            "layout": "IPY_MODEL_e57338d2c4c6418d8ea41bc6210ac97c"
          }
        },
        "a7cf50c849de4da0865b5589b65b7a0e": {
          "model_module": "@jupyter-widgets/controls",
          "model_name": "HTMLModel",
          "model_module_version": "1.5.0",
          "state": {
            "_dom_classes": [],
            "_model_module": "@jupyter-widgets/controls",
            "_model_module_version": "1.5.0",
            "_model_name": "HTMLModel",
            "_view_count": null,
            "_view_module": "@jupyter-widgets/controls",
            "_view_module_version": "1.5.0",
            "_view_name": "HTMLView",
            "description": "",
            "description_tooltip": null,
            "layout": "IPY_MODEL_7ce89d369ce04246a89452cd41eca2dc",
            "placeholder": "​",
            "style": "IPY_MODEL_dab2fe3e3415414fb237140434cac82b",
            "value": "Downloading: 100%"
          }
        },
        "cd28cd44156045dc89b95850a8a63ed3": {
          "model_module": "@jupyter-widgets/controls",
          "model_name": "FloatProgressModel",
          "model_module_version": "1.5.0",
          "state": {
            "_dom_classes": [],
            "_model_module": "@jupyter-widgets/controls",
            "_model_module_version": "1.5.0",
            "_model_name": "FloatProgressModel",
            "_view_count": null,
            "_view_module": "@jupyter-widgets/controls",
            "_view_module_version": "1.5.0",
            "_view_name": "ProgressView",
            "bar_style": "success",
            "description": "",
            "description_tooltip": null,
            "layout": "IPY_MODEL_76d025d538e34756a6a22d695f160e64",
            "max": 1042301,
            "min": 0,
            "orientation": "horizontal",
            "style": "IPY_MODEL_2ff0ca17dd2c4e9c92f3a08c2252a38b",
            "value": 1042301
          }
        },
        "9ca35e33cdb74154816c7b20f724ff6f": {
          "model_module": "@jupyter-widgets/controls",
          "model_name": "HTMLModel",
          "model_module_version": "1.5.0",
          "state": {
            "_dom_classes": [],
            "_model_module": "@jupyter-widgets/controls",
            "_model_module_version": "1.5.0",
            "_model_name": "HTMLModel",
            "_view_count": null,
            "_view_module": "@jupyter-widgets/controls",
            "_view_module_version": "1.5.0",
            "_view_name": "HTMLView",
            "description": "",
            "description_tooltip": null,
            "layout": "IPY_MODEL_db12524206b24540a839c6bf08d452ed",
            "placeholder": "​",
            "style": "IPY_MODEL_b155f78d83c14998a0f34dbde9863b08",
            "value": " 0.99M/0.99M [00:00&lt;00:00, 1.06MB/s]"
          }
        },
        "e57338d2c4c6418d8ea41bc6210ac97c": {
          "model_module": "@jupyter-widgets/base",
          "model_name": "LayoutModel",
          "model_module_version": "1.2.0",
          "state": {
            "_model_module": "@jupyter-widgets/base",
            "_model_module_version": "1.2.0",
            "_model_name": "LayoutModel",
            "_view_count": null,
            "_view_module": "@jupyter-widgets/base",
            "_view_module_version": "1.2.0",
            "_view_name": "LayoutView",
            "align_content": null,
            "align_items": null,
            "align_self": null,
            "border": null,
            "bottom": null,
            "display": null,
            "flex": null,
            "flex_flow": null,
            "grid_area": null,
            "grid_auto_columns": null,
            "grid_auto_flow": null,
            "grid_auto_rows": null,
            "grid_column": null,
            "grid_gap": null,
            "grid_row": null,
            "grid_template_areas": null,
            "grid_template_columns": null,
            "grid_template_rows": null,
            "height": null,
            "justify_content": null,
            "justify_items": null,
            "left": null,
            "margin": null,
            "max_height": null,
            "max_width": null,
            "min_height": null,
            "min_width": null,
            "object_fit": null,
            "object_position": null,
            "order": null,
            "overflow": null,
            "overflow_x": null,
            "overflow_y": null,
            "padding": null,
            "right": null,
            "top": null,
            "visibility": null,
            "width": null
          }
        },
        "7ce89d369ce04246a89452cd41eca2dc": {
          "model_module": "@jupyter-widgets/base",
          "model_name": "LayoutModel",
          "model_module_version": "1.2.0",
          "state": {
            "_model_module": "@jupyter-widgets/base",
            "_model_module_version": "1.2.0",
            "_model_name": "LayoutModel",
            "_view_count": null,
            "_view_module": "@jupyter-widgets/base",
            "_view_module_version": "1.2.0",
            "_view_name": "LayoutView",
            "align_content": null,
            "align_items": null,
            "align_self": null,
            "border": null,
            "bottom": null,
            "display": null,
            "flex": null,
            "flex_flow": null,
            "grid_area": null,
            "grid_auto_columns": null,
            "grid_auto_flow": null,
            "grid_auto_rows": null,
            "grid_column": null,
            "grid_gap": null,
            "grid_row": null,
            "grid_template_areas": null,
            "grid_template_columns": null,
            "grid_template_rows": null,
            "height": null,
            "justify_content": null,
            "justify_items": null,
            "left": null,
            "margin": null,
            "max_height": null,
            "max_width": null,
            "min_height": null,
            "min_width": null,
            "object_fit": null,
            "object_position": null,
            "order": null,
            "overflow": null,
            "overflow_x": null,
            "overflow_y": null,
            "padding": null,
            "right": null,
            "top": null,
            "visibility": null,
            "width": null
          }
        },
        "dab2fe3e3415414fb237140434cac82b": {
          "model_module": "@jupyter-widgets/controls",
          "model_name": "DescriptionStyleModel",
          "model_module_version": "1.5.0",
          "state": {
            "_model_module": "@jupyter-widgets/controls",
            "_model_module_version": "1.5.0",
            "_model_name": "DescriptionStyleModel",
            "_view_count": null,
            "_view_module": "@jupyter-widgets/base",
            "_view_module_version": "1.2.0",
            "_view_name": "StyleView",
            "description_width": ""
          }
        },
        "76d025d538e34756a6a22d695f160e64": {
          "model_module": "@jupyter-widgets/base",
          "model_name": "LayoutModel",
          "model_module_version": "1.2.0",
          "state": {
            "_model_module": "@jupyter-widgets/base",
            "_model_module_version": "1.2.0",
            "_model_name": "LayoutModel",
            "_view_count": null,
            "_view_module": "@jupyter-widgets/base",
            "_view_module_version": "1.2.0",
            "_view_name": "LayoutView",
            "align_content": null,
            "align_items": null,
            "align_self": null,
            "border": null,
            "bottom": null,
            "display": null,
            "flex": null,
            "flex_flow": null,
            "grid_area": null,
            "grid_auto_columns": null,
            "grid_auto_flow": null,
            "grid_auto_rows": null,
            "grid_column": null,
            "grid_gap": null,
            "grid_row": null,
            "grid_template_areas": null,
            "grid_template_columns": null,
            "grid_template_rows": null,
            "height": null,
            "justify_content": null,
            "justify_items": null,
            "left": null,
            "margin": null,
            "max_height": null,
            "max_width": null,
            "min_height": null,
            "min_width": null,
            "object_fit": null,
            "object_position": null,
            "order": null,
            "overflow": null,
            "overflow_x": null,
            "overflow_y": null,
            "padding": null,
            "right": null,
            "top": null,
            "visibility": null,
            "width": null
          }
        },
        "2ff0ca17dd2c4e9c92f3a08c2252a38b": {
          "model_module": "@jupyter-widgets/controls",
          "model_name": "ProgressStyleModel",
          "model_module_version": "1.5.0",
          "state": {
            "_model_module": "@jupyter-widgets/controls",
            "_model_module_version": "1.5.0",
            "_model_name": "ProgressStyleModel",
            "_view_count": null,
            "_view_module": "@jupyter-widgets/base",
            "_view_module_version": "1.2.0",
            "_view_name": "StyleView",
            "bar_color": null,
            "description_width": ""
          }
        },
        "db12524206b24540a839c6bf08d452ed": {
          "model_module": "@jupyter-widgets/base",
          "model_name": "LayoutModel",
          "model_module_version": "1.2.0",
          "state": {
            "_model_module": "@jupyter-widgets/base",
            "_model_module_version": "1.2.0",
            "_model_name": "LayoutModel",
            "_view_count": null,
            "_view_module": "@jupyter-widgets/base",
            "_view_module_version": "1.2.0",
            "_view_name": "LayoutView",
            "align_content": null,
            "align_items": null,
            "align_self": null,
            "border": null,
            "bottom": null,
            "display": null,
            "flex": null,
            "flex_flow": null,
            "grid_area": null,
            "grid_auto_columns": null,
            "grid_auto_flow": null,
            "grid_auto_rows": null,
            "grid_column": null,
            "grid_gap": null,
            "grid_row": null,
            "grid_template_areas": null,
            "grid_template_columns": null,
            "grid_template_rows": null,
            "height": null,
            "justify_content": null,
            "justify_items": null,
            "left": null,
            "margin": null,
            "max_height": null,
            "max_width": null,
            "min_height": null,
            "min_width": null,
            "object_fit": null,
            "object_position": null,
            "order": null,
            "overflow": null,
            "overflow_x": null,
            "overflow_y": null,
            "padding": null,
            "right": null,
            "top": null,
            "visibility": null,
            "width": null
          }
        },
        "b155f78d83c14998a0f34dbde9863b08": {
          "model_module": "@jupyter-widgets/controls",
          "model_name": "DescriptionStyleModel",
          "model_module_version": "1.5.0",
          "state": {
            "_model_module": "@jupyter-widgets/controls",
            "_model_module_version": "1.5.0",
            "_model_name": "DescriptionStyleModel",
            "_view_count": null,
            "_view_module": "@jupyter-widgets/base",
            "_view_module_version": "1.2.0",
            "_view_name": "StyleView",
            "description_width": ""
          }
        },
        "bed6c42cc8c44ad29c194b57386f579b": {
          "model_module": "@jupyter-widgets/controls",
          "model_name": "HBoxModel",
          "model_module_version": "1.5.0",
          "state": {
            "_dom_classes": [],
            "_model_module": "@jupyter-widgets/controls",
            "_model_module_version": "1.5.0",
            "_model_name": "HBoxModel",
            "_view_count": null,
            "_view_module": "@jupyter-widgets/controls",
            "_view_module_version": "1.5.0",
            "_view_name": "HBoxView",
            "box_style": "",
            "children": [
              "IPY_MODEL_8660d671975043e1bc81b201c30d6738",
              "IPY_MODEL_a24ab242ca5940fda374994b131779fa",
              "IPY_MODEL_a40d1a98745f4be59eae19dba42869a2"
            ],
            "layout": "IPY_MODEL_f54eb6bf26ac4a248ffa1199d3089142"
          }
        },
        "8660d671975043e1bc81b201c30d6738": {
          "model_module": "@jupyter-widgets/controls",
          "model_name": "HTMLModel",
          "model_module_version": "1.5.0",
          "state": {
            "_dom_classes": [],
            "_model_module": "@jupyter-widgets/controls",
            "_model_module_version": "1.5.0",
            "_model_name": "HTMLModel",
            "_view_count": null,
            "_view_module": "@jupyter-widgets/controls",
            "_view_module_version": "1.5.0",
            "_view_name": "HTMLView",
            "description": "",
            "description_tooltip": null,
            "layout": "IPY_MODEL_95a0665df1ab494c8b09098d0efa4af1",
            "placeholder": "​",
            "style": "IPY_MODEL_2fb5cefa3c184820b66937aea73bdbb9",
            "value": "Downloading: 100%"
          }
        },
        "a24ab242ca5940fda374994b131779fa": {
          "model_module": "@jupyter-widgets/controls",
          "model_name": "FloatProgressModel",
          "model_module_version": "1.5.0",
          "state": {
            "_dom_classes": [],
            "_model_module": "@jupyter-widgets/controls",
            "_model_module_version": "1.5.0",
            "_model_name": "FloatProgressModel",
            "_view_count": null,
            "_view_module": "@jupyter-widgets/controls",
            "_view_module_version": "1.5.0",
            "_view_name": "ProgressView",
            "bar_style": "success",
            "description": "",
            "description_tooltip": null,
            "layout": "IPY_MODEL_0b23df34bd274eea9a6871147af1d536",
            "max": 456318,
            "min": 0,
            "orientation": "horizontal",
            "style": "IPY_MODEL_d5795fa29b004d84ae7aeeabedcced13",
            "value": 456318
          }
        },
        "a40d1a98745f4be59eae19dba42869a2": {
          "model_module": "@jupyter-widgets/controls",
          "model_name": "HTMLModel",
          "model_module_version": "1.5.0",
          "state": {
            "_dom_classes": [],
            "_model_module": "@jupyter-widgets/controls",
            "_model_module_version": "1.5.0",
            "_model_name": "HTMLModel",
            "_view_count": null,
            "_view_module": "@jupyter-widgets/controls",
            "_view_module_version": "1.5.0",
            "_view_name": "HTMLView",
            "description": "",
            "description_tooltip": null,
            "layout": "IPY_MODEL_dbbbb4481e2347bc9b65b522ed7fe1f3",
            "placeholder": "​",
            "style": "IPY_MODEL_2360513c63c249e39f79bafbfca225a5",
            "value": " 446k/446k [00:00&lt;00:00, 433kB/s]"
          }
        },
        "f54eb6bf26ac4a248ffa1199d3089142": {
          "model_module": "@jupyter-widgets/base",
          "model_name": "LayoutModel",
          "model_module_version": "1.2.0",
          "state": {
            "_model_module": "@jupyter-widgets/base",
            "_model_module_version": "1.2.0",
            "_model_name": "LayoutModel",
            "_view_count": null,
            "_view_module": "@jupyter-widgets/base",
            "_view_module_version": "1.2.0",
            "_view_name": "LayoutView",
            "align_content": null,
            "align_items": null,
            "align_self": null,
            "border": null,
            "bottom": null,
            "display": null,
            "flex": null,
            "flex_flow": null,
            "grid_area": null,
            "grid_auto_columns": null,
            "grid_auto_flow": null,
            "grid_auto_rows": null,
            "grid_column": null,
            "grid_gap": null,
            "grid_row": null,
            "grid_template_areas": null,
            "grid_template_columns": null,
            "grid_template_rows": null,
            "height": null,
            "justify_content": null,
            "justify_items": null,
            "left": null,
            "margin": null,
            "max_height": null,
            "max_width": null,
            "min_height": null,
            "min_width": null,
            "object_fit": null,
            "object_position": null,
            "order": null,
            "overflow": null,
            "overflow_x": null,
            "overflow_y": null,
            "padding": null,
            "right": null,
            "top": null,
            "visibility": null,
            "width": null
          }
        },
        "95a0665df1ab494c8b09098d0efa4af1": {
          "model_module": "@jupyter-widgets/base",
          "model_name": "LayoutModel",
          "model_module_version": "1.2.0",
          "state": {
            "_model_module": "@jupyter-widgets/base",
            "_model_module_version": "1.2.0",
            "_model_name": "LayoutModel",
            "_view_count": null,
            "_view_module": "@jupyter-widgets/base",
            "_view_module_version": "1.2.0",
            "_view_name": "LayoutView",
            "align_content": null,
            "align_items": null,
            "align_self": null,
            "border": null,
            "bottom": null,
            "display": null,
            "flex": null,
            "flex_flow": null,
            "grid_area": null,
            "grid_auto_columns": null,
            "grid_auto_flow": null,
            "grid_auto_rows": null,
            "grid_column": null,
            "grid_gap": null,
            "grid_row": null,
            "grid_template_areas": null,
            "grid_template_columns": null,
            "grid_template_rows": null,
            "height": null,
            "justify_content": null,
            "justify_items": null,
            "left": null,
            "margin": null,
            "max_height": null,
            "max_width": null,
            "min_height": null,
            "min_width": null,
            "object_fit": null,
            "object_position": null,
            "order": null,
            "overflow": null,
            "overflow_x": null,
            "overflow_y": null,
            "padding": null,
            "right": null,
            "top": null,
            "visibility": null,
            "width": null
          }
        },
        "2fb5cefa3c184820b66937aea73bdbb9": {
          "model_module": "@jupyter-widgets/controls",
          "model_name": "DescriptionStyleModel",
          "model_module_version": "1.5.0",
          "state": {
            "_model_module": "@jupyter-widgets/controls",
            "_model_module_version": "1.5.0",
            "_model_name": "DescriptionStyleModel",
            "_view_count": null,
            "_view_module": "@jupyter-widgets/base",
            "_view_module_version": "1.2.0",
            "_view_name": "StyleView",
            "description_width": ""
          }
        },
        "0b23df34bd274eea9a6871147af1d536": {
          "model_module": "@jupyter-widgets/base",
          "model_name": "LayoutModel",
          "model_module_version": "1.2.0",
          "state": {
            "_model_module": "@jupyter-widgets/base",
            "_model_module_version": "1.2.0",
            "_model_name": "LayoutModel",
            "_view_count": null,
            "_view_module": "@jupyter-widgets/base",
            "_view_module_version": "1.2.0",
            "_view_name": "LayoutView",
            "align_content": null,
            "align_items": null,
            "align_self": null,
            "border": null,
            "bottom": null,
            "display": null,
            "flex": null,
            "flex_flow": null,
            "grid_area": null,
            "grid_auto_columns": null,
            "grid_auto_flow": null,
            "grid_auto_rows": null,
            "grid_column": null,
            "grid_gap": null,
            "grid_row": null,
            "grid_template_areas": null,
            "grid_template_columns": null,
            "grid_template_rows": null,
            "height": null,
            "justify_content": null,
            "justify_items": null,
            "left": null,
            "margin": null,
            "max_height": null,
            "max_width": null,
            "min_height": null,
            "min_width": null,
            "object_fit": null,
            "object_position": null,
            "order": null,
            "overflow": null,
            "overflow_x": null,
            "overflow_y": null,
            "padding": null,
            "right": null,
            "top": null,
            "visibility": null,
            "width": null
          }
        },
        "d5795fa29b004d84ae7aeeabedcced13": {
          "model_module": "@jupyter-widgets/controls",
          "model_name": "ProgressStyleModel",
          "model_module_version": "1.5.0",
          "state": {
            "_model_module": "@jupyter-widgets/controls",
            "_model_module_version": "1.5.0",
            "_model_name": "ProgressStyleModel",
            "_view_count": null,
            "_view_module": "@jupyter-widgets/base",
            "_view_module_version": "1.2.0",
            "_view_name": "StyleView",
            "bar_color": null,
            "description_width": ""
          }
        },
        "dbbbb4481e2347bc9b65b522ed7fe1f3": {
          "model_module": "@jupyter-widgets/base",
          "model_name": "LayoutModel",
          "model_module_version": "1.2.0",
          "state": {
            "_model_module": "@jupyter-widgets/base",
            "_model_module_version": "1.2.0",
            "_model_name": "LayoutModel",
            "_view_count": null,
            "_view_module": "@jupyter-widgets/base",
            "_view_module_version": "1.2.0",
            "_view_name": "LayoutView",
            "align_content": null,
            "align_items": null,
            "align_self": null,
            "border": null,
            "bottom": null,
            "display": null,
            "flex": null,
            "flex_flow": null,
            "grid_area": null,
            "grid_auto_columns": null,
            "grid_auto_flow": null,
            "grid_auto_rows": null,
            "grid_column": null,
            "grid_gap": null,
            "grid_row": null,
            "grid_template_areas": null,
            "grid_template_columns": null,
            "grid_template_rows": null,
            "height": null,
            "justify_content": null,
            "justify_items": null,
            "left": null,
            "margin": null,
            "max_height": null,
            "max_width": null,
            "min_height": null,
            "min_width": null,
            "object_fit": null,
            "object_position": null,
            "order": null,
            "overflow": null,
            "overflow_x": null,
            "overflow_y": null,
            "padding": null,
            "right": null,
            "top": null,
            "visibility": null,
            "width": null
          }
        },
        "2360513c63c249e39f79bafbfca225a5": {
          "model_module": "@jupyter-widgets/controls",
          "model_name": "DescriptionStyleModel",
          "model_module_version": "1.5.0",
          "state": {
            "_model_module": "@jupyter-widgets/controls",
            "_model_module_version": "1.5.0",
            "_model_name": "DescriptionStyleModel",
            "_view_count": null,
            "_view_module": "@jupyter-widgets/base",
            "_view_module_version": "1.2.0",
            "_view_name": "StyleView",
            "description_width": ""
          }
        },
        "064cdb11344a4836b2b4e37f41f71922": {
          "model_module": "@jupyter-widgets/controls",
          "model_name": "HBoxModel",
          "model_module_version": "1.5.0",
          "state": {
            "_dom_classes": [],
            "_model_module": "@jupyter-widgets/controls",
            "_model_module_version": "1.5.0",
            "_model_name": "HBoxModel",
            "_view_count": null,
            "_view_module": "@jupyter-widgets/controls",
            "_view_module_version": "1.5.0",
            "_view_name": "HBoxView",
            "box_style": "",
            "children": [
              "IPY_MODEL_7d5ea595d0ce4bbca6535bf7da74bb61",
              "IPY_MODEL_cf96741fcb8a4ea095fb88e92c3567f6",
              "IPY_MODEL_0388171168cc4850b7dd7617824d1f58"
            ],
            "layout": "IPY_MODEL_a87aa2a74ee04beca846d20ae55ea6e4"
          }
        },
        "7d5ea595d0ce4bbca6535bf7da74bb61": {
          "model_module": "@jupyter-widgets/controls",
          "model_name": "HTMLModel",
          "model_module_version": "1.5.0",
          "state": {
            "_dom_classes": [],
            "_model_module": "@jupyter-widgets/controls",
            "_model_module_version": "1.5.0",
            "_model_name": "HTMLModel",
            "_view_count": null,
            "_view_module": "@jupyter-widgets/controls",
            "_view_module_version": "1.5.0",
            "_view_name": "HTMLView",
            "description": "",
            "description_tooltip": null,
            "layout": "IPY_MODEL_4d82d3cfd69c408385e2c68b4e77fcfa",
            "placeholder": "​",
            "style": "IPY_MODEL_49cadc7309d1491682b6eda6b8e9b190",
            "value": "Downloading: 100%"
          }
        },
        "cf96741fcb8a4ea095fb88e92c3567f6": {
          "model_module": "@jupyter-widgets/controls",
          "model_name": "FloatProgressModel",
          "model_module_version": "1.5.0",
          "state": {
            "_dom_classes": [],
            "_model_module": "@jupyter-widgets/controls",
            "_model_module_version": "1.5.0",
            "_model_name": "FloatProgressModel",
            "_view_count": null,
            "_view_module": "@jupyter-widgets/controls",
            "_view_module_version": "1.5.0",
            "_view_name": "ProgressView",
            "bar_style": "success",
            "description": "",
            "description_tooltip": null,
            "layout": "IPY_MODEL_2564d2fb09d44c1c8a1d78b2f69c57bd",
            "max": 1355256,
            "min": 0,
            "orientation": "horizontal",
            "style": "IPY_MODEL_0d47ce5bea154aacbcccdc51dde1c90a",
            "value": 1355256
          }
        },
        "0388171168cc4850b7dd7617824d1f58": {
          "model_module": "@jupyter-widgets/controls",
          "model_name": "HTMLModel",
          "model_module_version": "1.5.0",
          "state": {
            "_dom_classes": [],
            "_model_module": "@jupyter-widgets/controls",
            "_model_module_version": "1.5.0",
            "_model_name": "HTMLModel",
            "_view_count": null,
            "_view_module": "@jupyter-widgets/controls",
            "_view_module_version": "1.5.0",
            "_view_name": "HTMLView",
            "description": "",
            "description_tooltip": null,
            "layout": "IPY_MODEL_10e10d2eaccd4498aee55a79e8d24269",
            "placeholder": "​",
            "style": "IPY_MODEL_55af3b9378e3455dae8d328d54e4d6cd",
            "value": " 1.29M/1.29M [00:00&lt;00:00, 1.04MB/s]"
          }
        },
        "a87aa2a74ee04beca846d20ae55ea6e4": {
          "model_module": "@jupyter-widgets/base",
          "model_name": "LayoutModel",
          "model_module_version": "1.2.0",
          "state": {
            "_model_module": "@jupyter-widgets/base",
            "_model_module_version": "1.2.0",
            "_model_name": "LayoutModel",
            "_view_count": null,
            "_view_module": "@jupyter-widgets/base",
            "_view_module_version": "1.2.0",
            "_view_name": "LayoutView",
            "align_content": null,
            "align_items": null,
            "align_self": null,
            "border": null,
            "bottom": null,
            "display": null,
            "flex": null,
            "flex_flow": null,
            "grid_area": null,
            "grid_auto_columns": null,
            "grid_auto_flow": null,
            "grid_auto_rows": null,
            "grid_column": null,
            "grid_gap": null,
            "grid_row": null,
            "grid_template_areas": null,
            "grid_template_columns": null,
            "grid_template_rows": null,
            "height": null,
            "justify_content": null,
            "justify_items": null,
            "left": null,
            "margin": null,
            "max_height": null,
            "max_width": null,
            "min_height": null,
            "min_width": null,
            "object_fit": null,
            "object_position": null,
            "order": null,
            "overflow": null,
            "overflow_x": null,
            "overflow_y": null,
            "padding": null,
            "right": null,
            "top": null,
            "visibility": null,
            "width": null
          }
        },
        "4d82d3cfd69c408385e2c68b4e77fcfa": {
          "model_module": "@jupyter-widgets/base",
          "model_name": "LayoutModel",
          "model_module_version": "1.2.0",
          "state": {
            "_model_module": "@jupyter-widgets/base",
            "_model_module_version": "1.2.0",
            "_model_name": "LayoutModel",
            "_view_count": null,
            "_view_module": "@jupyter-widgets/base",
            "_view_module_version": "1.2.0",
            "_view_name": "LayoutView",
            "align_content": null,
            "align_items": null,
            "align_self": null,
            "border": null,
            "bottom": null,
            "display": null,
            "flex": null,
            "flex_flow": null,
            "grid_area": null,
            "grid_auto_columns": null,
            "grid_auto_flow": null,
            "grid_auto_rows": null,
            "grid_column": null,
            "grid_gap": null,
            "grid_row": null,
            "grid_template_areas": null,
            "grid_template_columns": null,
            "grid_template_rows": null,
            "height": null,
            "justify_content": null,
            "justify_items": null,
            "left": null,
            "margin": null,
            "max_height": null,
            "max_width": null,
            "min_height": null,
            "min_width": null,
            "object_fit": null,
            "object_position": null,
            "order": null,
            "overflow": null,
            "overflow_x": null,
            "overflow_y": null,
            "padding": null,
            "right": null,
            "top": null,
            "visibility": null,
            "width": null
          }
        },
        "49cadc7309d1491682b6eda6b8e9b190": {
          "model_module": "@jupyter-widgets/controls",
          "model_name": "DescriptionStyleModel",
          "model_module_version": "1.5.0",
          "state": {
            "_model_module": "@jupyter-widgets/controls",
            "_model_module_version": "1.5.0",
            "_model_name": "DescriptionStyleModel",
            "_view_count": null,
            "_view_module": "@jupyter-widgets/base",
            "_view_module_version": "1.2.0",
            "_view_name": "StyleView",
            "description_width": ""
          }
        },
        "2564d2fb09d44c1c8a1d78b2f69c57bd": {
          "model_module": "@jupyter-widgets/base",
          "model_name": "LayoutModel",
          "model_module_version": "1.2.0",
          "state": {
            "_model_module": "@jupyter-widgets/base",
            "_model_module_version": "1.2.0",
            "_model_name": "LayoutModel",
            "_view_count": null,
            "_view_module": "@jupyter-widgets/base",
            "_view_module_version": "1.2.0",
            "_view_name": "LayoutView",
            "align_content": null,
            "align_items": null,
            "align_self": null,
            "border": null,
            "bottom": null,
            "display": null,
            "flex": null,
            "flex_flow": null,
            "grid_area": null,
            "grid_auto_columns": null,
            "grid_auto_flow": null,
            "grid_auto_rows": null,
            "grid_column": null,
            "grid_gap": null,
            "grid_row": null,
            "grid_template_areas": null,
            "grid_template_columns": null,
            "grid_template_rows": null,
            "height": null,
            "justify_content": null,
            "justify_items": null,
            "left": null,
            "margin": null,
            "max_height": null,
            "max_width": null,
            "min_height": null,
            "min_width": null,
            "object_fit": null,
            "object_position": null,
            "order": null,
            "overflow": null,
            "overflow_x": null,
            "overflow_y": null,
            "padding": null,
            "right": null,
            "top": null,
            "visibility": null,
            "width": null
          }
        },
        "0d47ce5bea154aacbcccdc51dde1c90a": {
          "model_module": "@jupyter-widgets/controls",
          "model_name": "ProgressStyleModel",
          "model_module_version": "1.5.0",
          "state": {
            "_model_module": "@jupyter-widgets/controls",
            "_model_module_version": "1.5.0",
            "_model_name": "ProgressStyleModel",
            "_view_count": null,
            "_view_module": "@jupyter-widgets/base",
            "_view_module_version": "1.2.0",
            "_view_name": "StyleView",
            "bar_color": null,
            "description_width": ""
          }
        },
        "10e10d2eaccd4498aee55a79e8d24269": {
          "model_module": "@jupyter-widgets/base",
          "model_name": "LayoutModel",
          "model_module_version": "1.2.0",
          "state": {
            "_model_module": "@jupyter-widgets/base",
            "_model_module_version": "1.2.0",
            "_model_name": "LayoutModel",
            "_view_count": null,
            "_view_module": "@jupyter-widgets/base",
            "_view_module_version": "1.2.0",
            "_view_name": "LayoutView",
            "align_content": null,
            "align_items": null,
            "align_self": null,
            "border": null,
            "bottom": null,
            "display": null,
            "flex": null,
            "flex_flow": null,
            "grid_area": null,
            "grid_auto_columns": null,
            "grid_auto_flow": null,
            "grid_auto_rows": null,
            "grid_column": null,
            "grid_gap": null,
            "grid_row": null,
            "grid_template_areas": null,
            "grid_template_columns": null,
            "grid_template_rows": null,
            "height": null,
            "justify_content": null,
            "justify_items": null,
            "left": null,
            "margin": null,
            "max_height": null,
            "max_width": null,
            "min_height": null,
            "min_width": null,
            "object_fit": null,
            "object_position": null,
            "order": null,
            "overflow": null,
            "overflow_x": null,
            "overflow_y": null,
            "padding": null,
            "right": null,
            "top": null,
            "visibility": null,
            "width": null
          }
        },
        "55af3b9378e3455dae8d328d54e4d6cd": {
          "model_module": "@jupyter-widgets/controls",
          "model_name": "DescriptionStyleModel",
          "model_module_version": "1.5.0",
          "state": {
            "_model_module": "@jupyter-widgets/controls",
            "_model_module_version": "1.5.0",
            "_model_name": "DescriptionStyleModel",
            "_view_count": null,
            "_view_module": "@jupyter-widgets/base",
            "_view_module_version": "1.2.0",
            "_view_name": "StyleView",
            "description_width": ""
          }
        },
        "14a20bc91583415ab9867befa3bb1456": {
          "model_module": "@jupyter-widgets/controls",
          "model_name": "HBoxModel",
          "model_module_version": "1.5.0",
          "state": {
            "_dom_classes": [],
            "_model_module": "@jupyter-widgets/controls",
            "_model_module_version": "1.5.0",
            "_model_name": "HBoxModel",
            "_view_count": null,
            "_view_module": "@jupyter-widgets/controls",
            "_view_module_version": "1.5.0",
            "_view_name": "HBoxView",
            "box_style": "",
            "children": [
              "IPY_MODEL_e4582d08bce94de5a605edc48d615017",
              "IPY_MODEL_0e76adf048c9451990546bdbfb54862c",
              "IPY_MODEL_5559aece2c3b437d9b8c9969ab8e1b13"
            ],
            "layout": "IPY_MODEL_dc79b79f21c0427c81359951791a1194"
          }
        },
        "e4582d08bce94de5a605edc48d615017": {
          "model_module": "@jupyter-widgets/controls",
          "model_name": "HTMLModel",
          "model_module_version": "1.5.0",
          "state": {
            "_dom_classes": [],
            "_model_module": "@jupyter-widgets/controls",
            "_model_module_version": "1.5.0",
            "_model_name": "HTMLModel",
            "_view_count": null,
            "_view_module": "@jupyter-widgets/controls",
            "_view_module_version": "1.5.0",
            "_view_name": "HTMLView",
            "description": "",
            "description_tooltip": null,
            "layout": "IPY_MODEL_6c8858cbdfcc4d83ad3d863800ea182e",
            "placeholder": "​",
            "style": "IPY_MODEL_fefe80fb997b4c3cba2d12e4d7bacd20",
            "value": "Downloading: 100%"
          }
        },
        "0e76adf048c9451990546bdbfb54862c": {
          "model_module": "@jupyter-widgets/controls",
          "model_name": "FloatProgressModel",
          "model_module_version": "1.5.0",
          "state": {
            "_dom_classes": [],
            "_model_module": "@jupyter-widgets/controls",
            "_model_module_version": "1.5.0",
            "_model_name": "FloatProgressModel",
            "_view_count": null,
            "_view_module": "@jupyter-widgets/controls",
            "_view_module_version": "1.5.0",
            "_view_name": "ProgressView",
            "bar_style": "success",
            "description": "",
            "description_tooltip": null,
            "layout": "IPY_MODEL_c51ac1af2e40425693e44c6c7181b903",
            "max": 6431878936,
            "min": 0,
            "orientation": "horizontal",
            "style": "IPY_MODEL_b458cd1c2242408faf5e49f22227b268",
            "value": 6431878936
          }
        },
        "5559aece2c3b437d9b8c9969ab8e1b13": {
          "model_module": "@jupyter-widgets/controls",
          "model_name": "HTMLModel",
          "model_module_version": "1.5.0",
          "state": {
            "_dom_classes": [],
            "_model_module": "@jupyter-widgets/controls",
            "_model_module_version": "1.5.0",
            "_model_name": "HTMLModel",
            "_view_count": null,
            "_view_module": "@jupyter-widgets/controls",
            "_view_module_version": "1.5.0",
            "_view_name": "HTMLView",
            "description": "",
            "description_tooltip": null,
            "layout": "IPY_MODEL_a4b3c35179734f39bbed7a9a68eadf24",
            "placeholder": "​",
            "style": "IPY_MODEL_713827b006b74b11b497be896ae4e98f",
            "value": " 5.99G/5.99G [01:22&lt;00:00, 87.1MB/s]"
          }
        },
        "dc79b79f21c0427c81359951791a1194": {
          "model_module": "@jupyter-widgets/base",
          "model_name": "LayoutModel",
          "model_module_version": "1.2.0",
          "state": {
            "_model_module": "@jupyter-widgets/base",
            "_model_module_version": "1.2.0",
            "_model_name": "LayoutModel",
            "_view_count": null,
            "_view_module": "@jupyter-widgets/base",
            "_view_module_version": "1.2.0",
            "_view_name": "LayoutView",
            "align_content": null,
            "align_items": null,
            "align_self": null,
            "border": null,
            "bottom": null,
            "display": null,
            "flex": null,
            "flex_flow": null,
            "grid_area": null,
            "grid_auto_columns": null,
            "grid_auto_flow": null,
            "grid_auto_rows": null,
            "grid_column": null,
            "grid_gap": null,
            "grid_row": null,
            "grid_template_areas": null,
            "grid_template_columns": null,
            "grid_template_rows": null,
            "height": null,
            "justify_content": null,
            "justify_items": null,
            "left": null,
            "margin": null,
            "max_height": null,
            "max_width": null,
            "min_height": null,
            "min_width": null,
            "object_fit": null,
            "object_position": null,
            "order": null,
            "overflow": null,
            "overflow_x": null,
            "overflow_y": null,
            "padding": null,
            "right": null,
            "top": null,
            "visibility": null,
            "width": null
          }
        },
        "6c8858cbdfcc4d83ad3d863800ea182e": {
          "model_module": "@jupyter-widgets/base",
          "model_name": "LayoutModel",
          "model_module_version": "1.2.0",
          "state": {
            "_model_module": "@jupyter-widgets/base",
            "_model_module_version": "1.2.0",
            "_model_name": "LayoutModel",
            "_view_count": null,
            "_view_module": "@jupyter-widgets/base",
            "_view_module_version": "1.2.0",
            "_view_name": "LayoutView",
            "align_content": null,
            "align_items": null,
            "align_self": null,
            "border": null,
            "bottom": null,
            "display": null,
            "flex": null,
            "flex_flow": null,
            "grid_area": null,
            "grid_auto_columns": null,
            "grid_auto_flow": null,
            "grid_auto_rows": null,
            "grid_column": null,
            "grid_gap": null,
            "grid_row": null,
            "grid_template_areas": null,
            "grid_template_columns": null,
            "grid_template_rows": null,
            "height": null,
            "justify_content": null,
            "justify_items": null,
            "left": null,
            "margin": null,
            "max_height": null,
            "max_width": null,
            "min_height": null,
            "min_width": null,
            "object_fit": null,
            "object_position": null,
            "order": null,
            "overflow": null,
            "overflow_x": null,
            "overflow_y": null,
            "padding": null,
            "right": null,
            "top": null,
            "visibility": null,
            "width": null
          }
        },
        "fefe80fb997b4c3cba2d12e4d7bacd20": {
          "model_module": "@jupyter-widgets/controls",
          "model_name": "DescriptionStyleModel",
          "model_module_version": "1.5.0",
          "state": {
            "_model_module": "@jupyter-widgets/controls",
            "_model_module_version": "1.5.0",
            "_model_name": "DescriptionStyleModel",
            "_view_count": null,
            "_view_module": "@jupyter-widgets/base",
            "_view_module_version": "1.2.0",
            "_view_name": "StyleView",
            "description_width": ""
          }
        },
        "c51ac1af2e40425693e44c6c7181b903": {
          "model_module": "@jupyter-widgets/base",
          "model_name": "LayoutModel",
          "model_module_version": "1.2.0",
          "state": {
            "_model_module": "@jupyter-widgets/base",
            "_model_module_version": "1.2.0",
            "_model_name": "LayoutModel",
            "_view_count": null,
            "_view_module": "@jupyter-widgets/base",
            "_view_module_version": "1.2.0",
            "_view_name": "LayoutView",
            "align_content": null,
            "align_items": null,
            "align_self": null,
            "border": null,
            "bottom": null,
            "display": null,
            "flex": null,
            "flex_flow": null,
            "grid_area": null,
            "grid_auto_columns": null,
            "grid_auto_flow": null,
            "grid_auto_rows": null,
            "grid_column": null,
            "grid_gap": null,
            "grid_row": null,
            "grid_template_areas": null,
            "grid_template_columns": null,
            "grid_template_rows": null,
            "height": null,
            "justify_content": null,
            "justify_items": null,
            "left": null,
            "margin": null,
            "max_height": null,
            "max_width": null,
            "min_height": null,
            "min_width": null,
            "object_fit": null,
            "object_position": null,
            "order": null,
            "overflow": null,
            "overflow_x": null,
            "overflow_y": null,
            "padding": null,
            "right": null,
            "top": null,
            "visibility": null,
            "width": null
          }
        },
        "b458cd1c2242408faf5e49f22227b268": {
          "model_module": "@jupyter-widgets/controls",
          "model_name": "ProgressStyleModel",
          "model_module_version": "1.5.0",
          "state": {
            "_model_module": "@jupyter-widgets/controls",
            "_model_module_version": "1.5.0",
            "_model_name": "ProgressStyleModel",
            "_view_count": null,
            "_view_module": "@jupyter-widgets/base",
            "_view_module_version": "1.2.0",
            "_view_name": "StyleView",
            "bar_color": null,
            "description_width": ""
          }
        },
        "a4b3c35179734f39bbed7a9a68eadf24": {
          "model_module": "@jupyter-widgets/base",
          "model_name": "LayoutModel",
          "model_module_version": "1.2.0",
          "state": {
            "_model_module": "@jupyter-widgets/base",
            "_model_module_version": "1.2.0",
            "_model_name": "LayoutModel",
            "_view_count": null,
            "_view_module": "@jupyter-widgets/base",
            "_view_module_version": "1.2.0",
            "_view_name": "LayoutView",
            "align_content": null,
            "align_items": null,
            "align_self": null,
            "border": null,
            "bottom": null,
            "display": null,
            "flex": null,
            "flex_flow": null,
            "grid_area": null,
            "grid_auto_columns": null,
            "grid_auto_flow": null,
            "grid_auto_rows": null,
            "grid_column": null,
            "grid_gap": null,
            "grid_row": null,
            "grid_template_areas": null,
            "grid_template_columns": null,
            "grid_template_rows": null,
            "height": null,
            "justify_content": null,
            "justify_items": null,
            "left": null,
            "margin": null,
            "max_height": null,
            "max_width": null,
            "min_height": null,
            "min_width": null,
            "object_fit": null,
            "object_position": null,
            "order": null,
            "overflow": null,
            "overflow_x": null,
            "overflow_y": null,
            "padding": null,
            "right": null,
            "top": null,
            "visibility": null,
            "width": null
          }
        },
        "713827b006b74b11b497be896ae4e98f": {
          "model_module": "@jupyter-widgets/controls",
          "model_name": "DescriptionStyleModel",
          "model_module_version": "1.5.0",
          "state": {
            "_model_module": "@jupyter-widgets/controls",
            "_model_module_version": "1.5.0",
            "_model_name": "DescriptionStyleModel",
            "_view_count": null,
            "_view_module": "@jupyter-widgets/base",
            "_view_module_version": "1.2.0",
            "_view_name": "StyleView",
            "description_width": ""
          }
        }
      }
    }
  },
  "nbformat": 4,
  "nbformat_minor": 0
}